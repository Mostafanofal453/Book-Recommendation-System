{
  "cells": [
    {
      "cell_type": "markdown",
      "source": [
        "# Objective\n",
        "\n",
        "The project was part of our AI & Data Science Master's degree at the University of Ottawa. \n",
        "\n",
        "Kaggle link: [Link](https://www.kaggle.com/code/mostafanofal/book-recommendation-system)\n",
        "\n",
        "Check all the projects here: [Link](https://github.com/Mostafanofal453)"
      ],
      "metadata": {
        "id": "QHIQJthWwX4e"
      }
    },
    {
      "cell_type": "markdown",
      "source": [
        "# Team Members\n",
        "\n",
        "[Gehad Hisham](https://www.linkedin.com/in/gehad-hisham/)\n",
        "\n",
        "[Kareem Bakli](https://www.linkedin.com/in/kareem-bakli-b48228138/)\n",
        "\n",
        "[Kareem Khaled](https://www.linkedin.com/in/kareemwaly/)\n",
        "\n",
        "[Mostafa Nofal](https://www.linkedin.com/in/mostafa-nofal-772625194/)"
      ],
      "metadata": {
        "id": "EhhdGtKewfCL"
      }
    },
    {
      "cell_type": "markdown",
      "source": [
        "# Overview\n",
        "\n",
        "A book recommendation system is a type of recommendation system where we recommend similar books to the reader based on his interest. The books recommendation system is used by online websites which provide eBooks like google play books, open library, good Read’s, etc. recommendation systems ought to increase profit from product sales. To achieve this, recommendations need to be relevant, novel, and diverse.\n",
        "\n",
        "![image](https://drive.google.com/uc?export=view&id=1hergj9pWG9D7UR4RzN9sRuQ5qMu8xRjS)\n",
        "\n"
      ],
      "metadata": {
        "id": "d_uxiBygwfVY"
      }
    },
    {
      "cell_type": "markdown",
      "source": [
        "# Dataset\n",
        "\n",
        "**Book Crossing Dataset**\n",
        "\n",
        "Collected by Cai-Nicolas Ziegler in a 4-week crawl (August / September 2004) from the Book-Crossing community with kind permission from Ron Hornbaker, CTO of Humankind Systems. Contains 278,858 users (anonymized but with demographic information) providing 1,149,780 ratings (explicit / implicit) about 271,379 books."
      ],
      "metadata": {
        "id": "yQgNGGFqwflG"
      }
    },
    {
      "cell_type": "markdown",
      "source": [
        "## Data Exploration\n",
        "\n",
        "Dataset consists of 3 files:\n",
        "\n",
        "| BX-Book-Raings                                    | BX-Books                                                     | BX-Book-Users                    |\n",
        "| ------------------------------------------------- | ------------------------------------------------------------ | -------------------------------- |\n",
        "| - User-ID <br>- Books ID \"ISBN\" <br>- Book Rating | - ISBN<br>- Book-Title <br>- Book-Author <br/>- Year of Publication <br/>- Publisher <br/>- Image-URL-S <br/>- Image-URL-M <br/>- Image-URL-L | User-ID <br>- Location <br>- Age |"
      ],
      "metadata": {
        "id": "_yJHZBX0wfzu"
      }
    },
    {
      "cell_type": "markdown",
      "source": [
        "## Books Description\n",
        "\n",
        "There is no information regarding book descriptions.\n",
        "\n",
        "We use Google API to collect descriptions of books according to their ISTPN.\n",
        "\n",
        "Create and save a new CSV file called Book_Descriptions which we used in Content-based Recommendation System with Cosine Similarity."
      ],
      "metadata": {
        "id": "5iTTeMjxxaao"
      }
    },
    {
      "cell_type": "markdown",
      "source": [
        "# Imports"
      ],
      "metadata": {
        "id": "mSxAnaOrxgln"
      }
    },
    {
      "cell_type": "code",
      "execution_count": null,
      "metadata": {
        "colab": {
          "base_uri": "https://localhost:8080/"
        },
        "id": "75EX1Eg1_JkR",
        "outputId": "91a84575-d595-471b-887c-5e28c1b93b7b"
      },
      "outputs": [
        {
          "output_type": "stream",
          "name": "stdout",
          "text": [
            "Drive already mounted at /content/drive; to attempt to forcibly remount, call drive.mount(\"/content/drive\", force_remount=True).\n"
          ]
        }
      ],
      "source": [
        "from google.colab import drive\n",
        "drive.mount('/content/drive')"
      ]
    },
    {
      "cell_type": "code",
      "execution_count": null,
      "metadata": {
        "id": "cXo86gCo_j7F"
      },
      "outputs": [],
      "source": [
        "import pandas as pd \n",
        "import numpy as np\n",
        "import seaborn as sns\n",
        "import matplotlib.pyplot as plt\n",
        "import numpy as np\n",
        "import scipy\n",
        "import pandas as pd\n",
        "import math\n",
        "import random\n",
        "import sklearn\n",
        "from nltk.corpus import stopwords\n",
        "from sklearn.model_selection import train_test_split\n",
        "from sklearn.feature_extraction.text import TfidfVectorizer\n",
        "from sklearn.metrics.pairwise import cosine_similarity\n",
        "from scipy.sparse.linalg import svds\n",
        "import matplotlib.pyplot as plt\n",
        "from __future__ import print_function\n",
        "from ipywidgets import interact, interactive, fixed, interact_manual\n",
        "import ipywidgets as widgets\n",
        "from scipy.sparse import csr_matrix\n",
        "from sklearn.neighbors import NearestNeighbors\n",
        "from sklearn import preprocessing\n",
        "from sklearn.model_selection import train_test_split\n",
        "import nltk\n",
        "import string\n",
        "from nltk.corpus import stopwords\n",
        "from nltk.corpus import words\n",
        "from nltk.stem import WordNetLemmatizer\n",
        "from sklearn.feature_extraction.text import TfidfVectorizer\n",
        "from sklearn.metrics.pairwise import cosine_similarity\n"
      ]
    },
    {
      "cell_type": "code",
      "execution_count": null,
      "metadata": {
        "colab": {
          "base_uri": "https://localhost:8080/"
        },
        "id": "rWU-BW2zxhvm",
        "outputId": "a4d859f0-d947-4120-94ca-9ee0debf98a9"
      },
      "outputs": [
        {
          "output_type": "stream",
          "name": "stdout",
          "text": [
            "Looking in indexes: https://pypi.org/simple, https://us-python.pkg.dev/colab-wheels/public/simple/\n",
            "Requirement already satisfied: fastapi in /usr/local/lib/python3.7/dist-packages (0.79.0)\n",
            "Requirement already satisfied: pydantic!=1.7,!=1.7.1,!=1.7.2,!=1.7.3,!=1.8,!=1.8.1,<2.0.0,>=1.6.2 in /usr/local/lib/python3.7/dist-packages (from fastapi) (1.9.1)\n",
            "Requirement already satisfied: starlette==0.19.1 in /usr/local/lib/python3.7/dist-packages (from fastapi) (0.19.1)\n",
            "Requirement already satisfied: anyio<5,>=3.4.0 in /usr/local/lib/python3.7/dist-packages (from starlette==0.19.1->fastapi) (3.6.1)\n",
            "Requirement already satisfied: typing-extensions>=3.10.0 in /usr/local/lib/python3.7/dist-packages (from starlette==0.19.1->fastapi) (4.1.1)\n",
            "Requirement already satisfied: sniffio>=1.1 in /usr/local/lib/python3.7/dist-packages (from anyio<5,>=3.4.0->starlette==0.19.1->fastapi) (1.2.0)\n",
            "Requirement already satisfied: idna>=2.8 in /usr/local/lib/python3.7/dist-packages (from anyio<5,>=3.4.0->starlette==0.19.1->fastapi) (2.10)\n",
            "Looking in indexes: https://pypi.org/simple, https://us-python.pkg.dev/colab-wheels/public/simple/\n",
            "Requirement already satisfied: pydentic in /usr/local/lib/python3.7/dist-packages (0.0.1.dev3)\n",
            "Requirement already satisfied: typing-extensions>=3.7.4.3 in /usr/local/lib/python3.7/dist-packages (from pydentic) (4.1.1)\n",
            "Requirement already satisfied: python-stdnum>=1.16 in /usr/local/lib/python3.7/dist-packages (from pydentic) (1.17)\n",
            "Looking in indexes: https://pypi.org/simple, https://us-python.pkg.dev/colab-wheels/public/simple/\n",
            "Requirement already satisfied: pyngrok in /usr/local/lib/python3.7/dist-packages (5.1.0)\n",
            "Requirement already satisfied: PyYAML in /usr/local/lib/python3.7/dist-packages (from pyngrok) (3.13)\n",
            "Looking in indexes: https://pypi.org/simple, https://us-python.pkg.dev/colab-wheels/public/simple/\n",
            "Requirement already satisfied: unicorn in /usr/local/lib/python3.7/dist-packages (2.0.0)\n",
            "Looking in indexes: https://pypi.org/simple, https://us-python.pkg.dev/colab-wheels/public/simple/\n",
            "Requirement already satisfied: fastapi in /usr/local/lib/python3.7/dist-packages (0.79.0)\n",
            "Requirement already satisfied: nest-asyncio in /usr/local/lib/python3.7/dist-packages (1.5.5)\n",
            "Requirement already satisfied: pyngrok in /usr/local/lib/python3.7/dist-packages (5.1.0)\n",
            "Requirement already satisfied: uvicorn in /usr/local/lib/python3.7/dist-packages (0.18.2)\n",
            "Requirement already satisfied: starlette==0.19.1 in /usr/local/lib/python3.7/dist-packages (from fastapi) (0.19.1)\n",
            "Requirement already satisfied: pydantic!=1.7,!=1.7.1,!=1.7.2,!=1.7.3,!=1.8,!=1.8.1,<2.0.0,>=1.6.2 in /usr/local/lib/python3.7/dist-packages (from fastapi) (1.9.1)\n",
            "Requirement already satisfied: typing-extensions>=3.10.0 in /usr/local/lib/python3.7/dist-packages (from starlette==0.19.1->fastapi) (4.1.1)\n",
            "Requirement already satisfied: anyio<5,>=3.4.0 in /usr/local/lib/python3.7/dist-packages (from starlette==0.19.1->fastapi) (3.6.1)\n",
            "Requirement already satisfied: idna>=2.8 in /usr/local/lib/python3.7/dist-packages (from anyio<5,>=3.4.0->starlette==0.19.1->fastapi) (2.10)\n",
            "Requirement already satisfied: sniffio>=1.1 in /usr/local/lib/python3.7/dist-packages (from anyio<5,>=3.4.0->starlette==0.19.1->fastapi) (1.2.0)\n",
            "Requirement already satisfied: PyYAML in /usr/local/lib/python3.7/dist-packages (from pyngrok) (3.13)\n",
            "Requirement already satisfied: h11>=0.8 in /usr/local/lib/python3.7/dist-packages (from uvicorn) (0.13.0)\n",
            "Requirement already satisfied: click>=7.0 in /usr/local/lib/python3.7/dist-packages (from uvicorn) (7.1.2)\n"
          ]
        }
      ],
      "source": [
        "!pip install fastapi\n",
        "!pip install pydentic\n",
        "!pip install pyngrok\n",
        "!pip install unicorn\n",
        "!pip install fastapi nest-asyncio pyngrok uvicorn"
      ]
    },
    {
      "cell_type": "code",
      "execution_count": null,
      "metadata": {
        "id": "I2LezCPC3WXM"
      },
      "outputs": [],
      "source": [
        "from pyngrok import ngrok\n",
        "import nest_asyncio\n",
        "import uvicorn\n",
        "from inspect import Parameter\n",
        "from itertools import count\n",
        "from typing import Any, Dict\n",
        "from urllib.request import Request\n",
        "from fastapi import Body,FastAPI,Request\n",
        "from matplotlib.pyplot import text\n",
        "from pydantic import BaseModel, Field as PydanticField\n",
        "from pydantic.fields import Field"
      ]
    },
    {
      "cell_type": "code",
      "execution_count": null,
      "metadata": {
        "id": "70mzMegLzYkd"
      },
      "outputs": [],
      "source": [
        "app =FastAPI()\n",
        "\n",
        "@app.post('/')\n",
        "async def home(info: Request):\n",
        "    req_info = await info.json()\n",
        "    print()\n",
        "    intent_NAme = req_info[\"queryResult\"][\"intent\"][\"displayName\"]\n",
        "    input = req_info[\"queryResult\"][\"queryText\"]\n",
        "\n",
        "    text = \"The best 5 books are:\"\n",
        "    if(intent_NAme==\"hello\" or  intent_NAme == \"Default Fallback Intent\" or intent_NAme==\"user\" ):\n",
        "      print(input)\n",
        "      x = [x[0] for x in get_predictions(int(input))]\n",
        "      text+= ' , '.join(x)\n",
        "    elif (intent_NAme==\"cant understand\"):\n",
        "       text =\"None\"\n",
        "\n",
        "    return {\"fulfillmentMessages\": [\n",
        "      {\n",
        "        \"text\": {\n",
        "          \"text\": [\n",
        "            text\n",
        "          ]\n",
        "        }\n",
        "      }\n",
        "    ]}"
      ]
    },
    {
      "cell_type": "code",
      "execution_count": null,
      "metadata": {
        "colab": {
          "base_uri": "https://localhost:8080/"
        },
        "id": "Pb85zBdcDQER",
        "outputId": "1c7f5a29-4043-494c-e143-8d7ae3e153fa"
      },
      "outputs": [
        {
          "data": {
            "text/plain": [
              "[(\"Harry Potter and the Sorcerer's Stone (Book 1) by J. K. Rowling\", 5.0),\n",
              " ('Harry Potter and the Order of the Phoenix (Book 5) by J. K. Rowling', 5.0),\n",
              " ('Griffin &amp; Sabine: An Extraordinary Correspondence by Nick Bantock',\n",
              "  5.0),\n",
              " ('The Little Prince by Antoine de Saint-ExupÃ©ry', 5.0),\n",
              " ('Harry Potter and the Prisoner of Azkaban (Book 3) by J. K. Rowling', 5.0)]"
            ]
          },
          "execution_count": 129,
          "metadata": {},
          "output_type": "execute_result"
        }
      ],
      "source": [
        "# get_predictions(int(47609)).values.tolist()"
      ]
    },
    {
      "cell_type": "code",
      "execution_count": null,
      "metadata": {
        "colab": {
          "base_uri": "https://localhost:8080/"
        },
        "id": "fPhW9X4OIvsg",
        "outputId": "4f650728-3185-4c85-a8af-2f9eb3837a75"
      },
      "outputs": [
        {
          "data": {
            "text/plain": [
              "[\"Harry Potter and the Sorcerer's Stone (Book 1) by J. K. Rowling\",\n",
              " 'Harry Potter and the Order of the Phoenix (Book 5) by J. K. Rowling',\n",
              " 'Griffin &amp; Sabine: An Extraordinary Correspondence by Nick Bantock',\n",
              " 'The Little Prince by Antoine de Saint-ExupÃ©ry',\n",
              " 'Harry Potter and the Prisoner of Azkaban (Book 3) by J. K. Rowling']"
            ]
          },
          "execution_count": 137,
          "metadata": {},
          "output_type": "execute_result"
        }
      ],
      "source": [
        "#  x = [x[0] for x in get_predictions(47609)]\n",
        "#  x"
      ]
    },
    {
      "cell_type": "code",
      "execution_count": null,
      "metadata": {
        "colab": {
          "base_uri": "https://localhost:8080/"
        },
        "id": "mpiSV9mmzwmw",
        "outputId": "9847dd40-5a6e-4a0a-b26b-a6f0fe6263d9"
      },
      "outputs": [
        {
          "output_type": "stream",
          "name": "stdout",
          "text": [
            "Authtoken saved to configuration file: /root/.ngrok2/ngrok.yml\n"
          ]
        }
      ],
      "source": [
        "! ngrok authtoken \"2Cg7OGHLAcRtLIdGDI8qt0lnm0T_68QR68P6xf3xDqZApKFij\""
      ]
    },
    {
      "cell_type": "code",
      "execution_count": null,
      "metadata": {
        "colab": {
          "base_uri": "https://localhost:8080/"
        },
        "id": "bXfWRgn_z08W",
        "outputId": "faff7b88-30ce-4844-be34-3760655eaf1b"
      },
      "outputs": [
        {
          "output_type": "stream",
          "name": "stdout",
          "text": [
            "Public URL: http://ceee-34-125-4-255.ngrok.io\n"
          ]
        },
        {
          "output_type": "stream",
          "name": "stderr",
          "text": [
            "INFO:     Started server process [59]\n",
            "INFO:     Waiting for application startup.\n",
            "INFO:     Application startup complete.\n",
            "INFO:     Uvicorn running on http://127.0.0.1:8000 (Press CTRL+C to quit)\n"
          ]
        },
        {
          "output_type": "stream",
          "name": "stdout",
          "text": [
            "\n",
            "2313\n",
            "INFO:     66.249.83.58:0 - \"POST / HTTP/1.1\" 200 OK\n",
            "\n",
            "10314\n",
            "INFO:     66.249.83.208:0 - \"POST / HTTP/1.1\" 200 OK\n",
            "\n",
            "INFO:     66.249.83.38:0 - \"POST / HTTP/1.1\" 200 OK\n",
            "\n",
            "INFO:     66.249.83.3:0 - \"POST / HTTP/1.1\" 200 OK\n"
          ]
        },
        {
          "output_type": "stream",
          "name": "stderr",
          "text": [
            "INFO:     Shutting down\n",
            "INFO:     Waiting for application shutdown.\n",
            "INFO:     Application shutdown complete.\n",
            "INFO:     Finished server process [59]\n"
          ]
        }
      ],
      "source": [
        "ngrok_tunnel = ngrok.connect(8000)\n",
        "print('Public URL:', ngrok_tunnel.public_url)\n",
        "nest_asyncio.apply()\n",
        "uvicorn.run(app, port=8000)"
      ]
    },
    {
      "cell_type": "code",
      "execution_count": null,
      "metadata": {
        "id": "TeLkw1foz6AS"
      },
      "outputs": [],
      "source": [
        "ngrok.kill()"
      ]
    },
    {
      "cell_type": "code",
      "execution_count": null,
      "metadata": {
        "colab": {
          "base_uri": "https://localhost:8080/"
        },
        "id": "z-k9hXjS_KRx",
        "outputId": "fb7a9cb9-91d1-4b19-c1b4-f82f052e2708"
      },
      "outputs": [
        {
          "output_type": "stream",
          "name": "stderr",
          "text": [
            "/usr/local/lib/python3.7/dist-packages/IPython/core/interactiveshell.py:2882: DtypeWarning: Columns (3) have mixed types.Specify dtype option on import or set low_memory=False.\n",
            "  exec(code_obj, self.user_global_ns, self.user_ns)\n"
          ]
        }
      ],
      "source": [
        "df_books=pd.read_csv('/content/drive/MyDrive/DEBI/Data Science/Books.csv')\n",
        "df_ratings=pd.read_csv('/content/drive/MyDrive/DEBI/Data Science/Ratings.csv')\n",
        "df_user=pd.read_csv('/content/drive/MyDrive/DEBI/Data Science/Users.csv')"
      ]
    },
    {
      "cell_type": "markdown",
      "metadata": {
        "id": "07YZfL4GF5bh"
      },
      "source": [
        "#**1. Data Preparation**"
      ]
    },
    {
      "cell_type": "markdown",
      "metadata": {
        "id": "e2Rxz0MMVhxI"
      },
      "source": [
        "### A) Removing the Duplicates in the Books Data Frame Before Mergeing"
      ]
    },
    {
      "cell_type": "code",
      "execution_count": null,
      "metadata": {
        "id": "AiQkB_AjZ_-o"
      },
      "outputs": [],
      "source": [
        "#filling the missing values with 'Unknown'\n",
        "df_books['Book-Author'].fillna('Unknown',inplace=True)"
      ]
    },
    {
      "cell_type": "code",
      "execution_count": null,
      "metadata": {
        "id": "1L99-O-dqI6y"
      },
      "outputs": [],
      "source": [
        "# Define a function to combine to columns namely title and author\n",
        "def change_title(str1,str2):\n",
        "  str1 = str1 +\" \"+'by' +\" \"+str2\n",
        "  return str1"
      ]
    },
    {
      "cell_type": "code",
      "execution_count": null,
      "metadata": {
        "colab": {
          "base_uri": "https://localhost:8080/"
        },
        "id": "0wNj9ehrbuWy",
        "outputId": "945d6fed-ef61-45cb-db78-1cf53f962095"
      },
      "outputs": [
        {
          "output_type": "execute_result",
          "data": {
            "text/plain": [
              "(271360, 8)"
            ]
          },
          "metadata": {},
          "execution_count": 129
        }
      ],
      "source": [
        "#shape of the dataframe before removing the duplicates\n",
        "df_books.shape"
      ]
    },
    {
      "cell_type": "code",
      "execution_count": null,
      "metadata": {
        "id": "MD0JEImtq8Hq"
      },
      "outputs": [],
      "source": [
        "# Create a new column for title\n",
        "df_books['new_title'] = df_books.apply(lambda x : change_title(x['Book-Title'],x['Book-Author']),axis = 1)"
      ]
    },
    {
      "cell_type": "code",
      "execution_count": null,
      "metadata": {
        "id": "E0qLcOAzcSA7"
      },
      "outputs": [],
      "source": [
        "# Get rid of duplications\n",
        "df_books = df_books.drop_duplicates(subset='new_title',keep='first')"
      ]
    },
    {
      "cell_type": "code",
      "execution_count": null,
      "metadata": {
        "colab": {
          "base_uri": "https://localhost:8080/"
        },
        "id": "tRJTAWNocX6R",
        "outputId": "2578a70c-ed48-498d-cff1-96742a49d9eb"
      },
      "outputs": [
        {
          "output_type": "execute_result",
          "data": {
            "text/plain": [
              "(251185, 9)"
            ]
          },
          "metadata": {},
          "execution_count": 132
        }
      ],
      "source": [
        "#shape of the dataframe after removing the duplicates\n",
        "df_books.shape"
      ]
    },
    {
      "cell_type": "code",
      "execution_count": null,
      "metadata": {
        "id": "EskGQrh5FiJ-"
      },
      "outputs": [],
      "source": [
        "#merging all the three dataset\n",
        "df_merged = df_ratings.merge(df_books,how='inner',on='ISBN')\n",
        "df_merged = df_merged.merge(df_user,how='inner',on='User-ID')\n"
      ]
    },
    {
      "cell_type": "code",
      "execution_count": null,
      "metadata": {
        "colab": {
          "base_uri": "https://localhost:8080/"
        },
        "id": "ojoedoWZXWvP",
        "outputId": "07a6c1e5-a4c4-4454-f88b-1c6089dcc57e"
      },
      "outputs": [
        {
          "output_type": "execute_result",
          "data": {
            "text/plain": [
              "(916933, 13)"
            ]
          },
          "metadata": {},
          "execution_count": 134
        }
      ],
      "source": [
        "df_merged.shape"
      ]
    },
    {
      "cell_type": "code",
      "execution_count": null,
      "metadata": {
        "colab": {
          "base_uri": "https://localhost:8080/"
        },
        "id": "4_qlhjXArLs1",
        "outputId": "2ecac48e-1e67-437c-bd9f-bd1cbab5c263"
      },
      "outputs": [
        {
          "output_type": "execute_result",
          "data": {
            "text/plain": [
              "array([2002, 2002, 1994, ..., 1998, 1985, 2000], dtype=object)"
            ]
          },
          "metadata": {},
          "execution_count": 135
        }
      ],
      "source": [
        "df_merged['Year-Of-Publication'].values"
      ]
    },
    {
      "cell_type": "code",
      "execution_count": null,
      "metadata": {
        "id": "9EJX1Tg2rNLQ"
      },
      "outputs": [],
      "source": [
        "df_merged['Year-Of-Publication'] = pd.to_numeric(df_merged['Year-Of-Publication'], errors='coerce').fillna(2099, downcast = 'infer')"
      ]
    },
    {
      "cell_type": "code",
      "execution_count": null,
      "metadata": {
        "colab": {
          "base_uri": "https://localhost:8080/",
          "height": 527
        },
        "id": "HQSwupkwJ9QL",
        "outputId": "d61ea2bf-f4bf-46d8-8550-46c66fbda65a"
      },
      "outputs": [
        {
          "output_type": "execute_result",
          "data": {
            "text/plain": [
              "             User-ID        ISBN    Book-Rating   Book-Title   Book-Author  \\\n",
              "count   916933.00000      916933  916933.000000       916933        916933   \n",
              "unique           NaN      250075            NaN       241061        101587   \n",
              "top              NaN  0971880107            NaN  Wild Animus  Nora Roberts   \n",
              "freq             NaN        2502            NaN         2502          7645   \n",
              "mean    140202.83165         NaN       2.825417          NaN           NaN   \n",
              "std      80804.41894         NaN       3.848183          NaN           NaN   \n",
              "min          2.00000         NaN       0.000000          NaN           NaN   \n",
              "25%      69697.00000         NaN       0.000000          NaN           NaN   \n",
              "50%     140410.00000         NaN       0.000000          NaN           NaN   \n",
              "75%     211426.00000         NaN       7.000000          NaN           NaN   \n",
              "max     278854.00000         NaN      10.000000          NaN           NaN   \n",
              "\n",
              "        Year-Of-Publication         Publisher  \\\n",
              "count         916933.000000            916931   \n",
              "unique                  NaN             16542   \n",
              "top                     NaN  Ballantine Books   \n",
              "freq                    NaN             30011   \n",
              "mean            1968.353922               NaN   \n",
              "std              230.251189               NaN   \n",
              "min                0.000000               NaN   \n",
              "25%             1991.000000               NaN   \n",
              "50%             1997.000000               NaN   \n",
              "75%             2001.000000               NaN   \n",
              "max             2099.000000               NaN   \n",
              "\n",
              "                                              Image-URL-S  \\\n",
              "count                                              916933   \n",
              "unique                                             250074   \n",
              "top     http://images.amazon.com/images/P/0971880107.0...   \n",
              "freq                                                 2502   \n",
              "mean                                                  NaN   \n",
              "std                                                   NaN   \n",
              "min                                                   NaN   \n",
              "25%                                                   NaN   \n",
              "50%                                                   NaN   \n",
              "75%                                                   NaN   \n",
              "max                                                   NaN   \n",
              "\n",
              "                                              Image-URL-M  \\\n",
              "count                                              916933   \n",
              "unique                                             250074   \n",
              "top     http://images.amazon.com/images/P/0971880107.0...   \n",
              "freq                                                 2502   \n",
              "mean                                                  NaN   \n",
              "std                                                   NaN   \n",
              "min                                                   NaN   \n",
              "25%                                                   NaN   \n",
              "50%                                                   NaN   \n",
              "75%                                                   NaN   \n",
              "max                                                   NaN   \n",
              "\n",
              "                                              Image-URL-L  \\\n",
              "count                                              916929   \n",
              "unique                                             250071   \n",
              "top     http://images.amazon.com/images/P/0971880107.0...   \n",
              "freq                                                 2502   \n",
              "mean                                                  NaN   \n",
              "std                                                   NaN   \n",
              "min                                                   NaN   \n",
              "25%                                                   NaN   \n",
              "50%                                                   NaN   \n",
              "75%                                                   NaN   \n",
              "max                                                   NaN   \n",
              "\n",
              "                          new_title                  Location            Age  \n",
              "count                        916933                    916933  671659.000000  \n",
              "unique                       250075                     21418            NaN  \n",
              "top     Wild Animus by Rich Shapero  toronto, ontario, canada            NaN  \n",
              "freq                           2502                     13115            NaN  \n",
              "mean                            NaN                       NaN      37.340037  \n",
              "std                             NaN                       NaN      14.073900  \n",
              "min                             NaN                       NaN       0.000000  \n",
              "25%                             NaN                       NaN      28.000000  \n",
              "50%                             NaN                       NaN      35.000000  \n",
              "75%                             NaN                       NaN      45.000000  \n",
              "max                             NaN                       NaN     244.000000  "
            ],
            "text/html": [
              "\n",
              "  <div id=\"df-093bd781-b5c8-4b71-8e05-d840f0dec895\">\n",
              "    <div class=\"colab-df-container\">\n",
              "      <div>\n",
              "<style scoped>\n",
              "    .dataframe tbody tr th:only-of-type {\n",
              "        vertical-align: middle;\n",
              "    }\n",
              "\n",
              "    .dataframe tbody tr th {\n",
              "        vertical-align: top;\n",
              "    }\n",
              "\n",
              "    .dataframe thead th {\n",
              "        text-align: right;\n",
              "    }\n",
              "</style>\n",
              "<table border=\"1\" class=\"dataframe\">\n",
              "  <thead>\n",
              "    <tr style=\"text-align: right;\">\n",
              "      <th></th>\n",
              "      <th>User-ID</th>\n",
              "      <th>ISBN</th>\n",
              "      <th>Book-Rating</th>\n",
              "      <th>Book-Title</th>\n",
              "      <th>Book-Author</th>\n",
              "      <th>Year-Of-Publication</th>\n",
              "      <th>Publisher</th>\n",
              "      <th>Image-URL-S</th>\n",
              "      <th>Image-URL-M</th>\n",
              "      <th>Image-URL-L</th>\n",
              "      <th>new_title</th>\n",
              "      <th>Location</th>\n",
              "      <th>Age</th>\n",
              "    </tr>\n",
              "  </thead>\n",
              "  <tbody>\n",
              "    <tr>\n",
              "      <th>count</th>\n",
              "      <td>916933.00000</td>\n",
              "      <td>916933</td>\n",
              "      <td>916933.000000</td>\n",
              "      <td>916933</td>\n",
              "      <td>916933</td>\n",
              "      <td>916933.000000</td>\n",
              "      <td>916931</td>\n",
              "      <td>916933</td>\n",
              "      <td>916933</td>\n",
              "      <td>916929</td>\n",
              "      <td>916933</td>\n",
              "      <td>916933</td>\n",
              "      <td>671659.000000</td>\n",
              "    </tr>\n",
              "    <tr>\n",
              "      <th>unique</th>\n",
              "      <td>NaN</td>\n",
              "      <td>250075</td>\n",
              "      <td>NaN</td>\n",
              "      <td>241061</td>\n",
              "      <td>101587</td>\n",
              "      <td>NaN</td>\n",
              "      <td>16542</td>\n",
              "      <td>250074</td>\n",
              "      <td>250074</td>\n",
              "      <td>250071</td>\n",
              "      <td>250075</td>\n",
              "      <td>21418</td>\n",
              "      <td>NaN</td>\n",
              "    </tr>\n",
              "    <tr>\n",
              "      <th>top</th>\n",
              "      <td>NaN</td>\n",
              "      <td>0971880107</td>\n",
              "      <td>NaN</td>\n",
              "      <td>Wild Animus</td>\n",
              "      <td>Nora Roberts</td>\n",
              "      <td>NaN</td>\n",
              "      <td>Ballantine Books</td>\n",
              "      <td>http://images.amazon.com/images/P/0971880107.0...</td>\n",
              "      <td>http://images.amazon.com/images/P/0971880107.0...</td>\n",
              "      <td>http://images.amazon.com/images/P/0971880107.0...</td>\n",
              "      <td>Wild Animus by Rich Shapero</td>\n",
              "      <td>toronto, ontario, canada</td>\n",
              "      <td>NaN</td>\n",
              "    </tr>\n",
              "    <tr>\n",
              "      <th>freq</th>\n",
              "      <td>NaN</td>\n",
              "      <td>2502</td>\n",
              "      <td>NaN</td>\n",
              "      <td>2502</td>\n",
              "      <td>7645</td>\n",
              "      <td>NaN</td>\n",
              "      <td>30011</td>\n",
              "      <td>2502</td>\n",
              "      <td>2502</td>\n",
              "      <td>2502</td>\n",
              "      <td>2502</td>\n",
              "      <td>13115</td>\n",
              "      <td>NaN</td>\n",
              "    </tr>\n",
              "    <tr>\n",
              "      <th>mean</th>\n",
              "      <td>140202.83165</td>\n",
              "      <td>NaN</td>\n",
              "      <td>2.825417</td>\n",
              "      <td>NaN</td>\n",
              "      <td>NaN</td>\n",
              "      <td>1968.353922</td>\n",
              "      <td>NaN</td>\n",
              "      <td>NaN</td>\n",
              "      <td>NaN</td>\n",
              "      <td>NaN</td>\n",
              "      <td>NaN</td>\n",
              "      <td>NaN</td>\n",
              "      <td>37.340037</td>\n",
              "    </tr>\n",
              "    <tr>\n",
              "      <th>std</th>\n",
              "      <td>80804.41894</td>\n",
              "      <td>NaN</td>\n",
              "      <td>3.848183</td>\n",
              "      <td>NaN</td>\n",
              "      <td>NaN</td>\n",
              "      <td>230.251189</td>\n",
              "      <td>NaN</td>\n",
              "      <td>NaN</td>\n",
              "      <td>NaN</td>\n",
              "      <td>NaN</td>\n",
              "      <td>NaN</td>\n",
              "      <td>NaN</td>\n",
              "      <td>14.073900</td>\n",
              "    </tr>\n",
              "    <tr>\n",
              "      <th>min</th>\n",
              "      <td>2.00000</td>\n",
              "      <td>NaN</td>\n",
              "      <td>0.000000</td>\n",
              "      <td>NaN</td>\n",
              "      <td>NaN</td>\n",
              "      <td>0.000000</td>\n",
              "      <td>NaN</td>\n",
              "      <td>NaN</td>\n",
              "      <td>NaN</td>\n",
              "      <td>NaN</td>\n",
              "      <td>NaN</td>\n",
              "      <td>NaN</td>\n",
              "      <td>0.000000</td>\n",
              "    </tr>\n",
              "    <tr>\n",
              "      <th>25%</th>\n",
              "      <td>69697.00000</td>\n",
              "      <td>NaN</td>\n",
              "      <td>0.000000</td>\n",
              "      <td>NaN</td>\n",
              "      <td>NaN</td>\n",
              "      <td>1991.000000</td>\n",
              "      <td>NaN</td>\n",
              "      <td>NaN</td>\n",
              "      <td>NaN</td>\n",
              "      <td>NaN</td>\n",
              "      <td>NaN</td>\n",
              "      <td>NaN</td>\n",
              "      <td>28.000000</td>\n",
              "    </tr>\n",
              "    <tr>\n",
              "      <th>50%</th>\n",
              "      <td>140410.00000</td>\n",
              "      <td>NaN</td>\n",
              "      <td>0.000000</td>\n",
              "      <td>NaN</td>\n",
              "      <td>NaN</td>\n",
              "      <td>1997.000000</td>\n",
              "      <td>NaN</td>\n",
              "      <td>NaN</td>\n",
              "      <td>NaN</td>\n",
              "      <td>NaN</td>\n",
              "      <td>NaN</td>\n",
              "      <td>NaN</td>\n",
              "      <td>35.000000</td>\n",
              "    </tr>\n",
              "    <tr>\n",
              "      <th>75%</th>\n",
              "      <td>211426.00000</td>\n",
              "      <td>NaN</td>\n",
              "      <td>7.000000</td>\n",
              "      <td>NaN</td>\n",
              "      <td>NaN</td>\n",
              "      <td>2001.000000</td>\n",
              "      <td>NaN</td>\n",
              "      <td>NaN</td>\n",
              "      <td>NaN</td>\n",
              "      <td>NaN</td>\n",
              "      <td>NaN</td>\n",
              "      <td>NaN</td>\n",
              "      <td>45.000000</td>\n",
              "    </tr>\n",
              "    <tr>\n",
              "      <th>max</th>\n",
              "      <td>278854.00000</td>\n",
              "      <td>NaN</td>\n",
              "      <td>10.000000</td>\n",
              "      <td>NaN</td>\n",
              "      <td>NaN</td>\n",
              "      <td>2099.000000</td>\n",
              "      <td>NaN</td>\n",
              "      <td>NaN</td>\n",
              "      <td>NaN</td>\n",
              "      <td>NaN</td>\n",
              "      <td>NaN</td>\n",
              "      <td>NaN</td>\n",
              "      <td>244.000000</td>\n",
              "    </tr>\n",
              "  </tbody>\n",
              "</table>\n",
              "</div>\n",
              "      <button class=\"colab-df-convert\" onclick=\"convertToInteractive('df-093bd781-b5c8-4b71-8e05-d840f0dec895')\"\n",
              "              title=\"Convert this dataframe to an interactive table.\"\n",
              "              style=\"display:none;\">\n",
              "        \n",
              "  <svg xmlns=\"http://www.w3.org/2000/svg\" height=\"24px\"viewBox=\"0 0 24 24\"\n",
              "       width=\"24px\">\n",
              "    <path d=\"M0 0h24v24H0V0z\" fill=\"none\"/>\n",
              "    <path d=\"M18.56 5.44l.94 2.06.94-2.06 2.06-.94-2.06-.94-.94-2.06-.94 2.06-2.06.94zm-11 1L8.5 8.5l.94-2.06 2.06-.94-2.06-.94L8.5 2.5l-.94 2.06-2.06.94zm10 10l.94 2.06.94-2.06 2.06-.94-2.06-.94-.94-2.06-.94 2.06-2.06.94z\"/><path d=\"M17.41 7.96l-1.37-1.37c-.4-.4-.92-.59-1.43-.59-.52 0-1.04.2-1.43.59L10.3 9.45l-7.72 7.72c-.78.78-.78 2.05 0 2.83L4 21.41c.39.39.9.59 1.41.59.51 0 1.02-.2 1.41-.59l7.78-7.78 2.81-2.81c.8-.78.8-2.07 0-2.86zM5.41 20L4 18.59l7.72-7.72 1.47 1.35L5.41 20z\"/>\n",
              "  </svg>\n",
              "      </button>\n",
              "      \n",
              "  <style>\n",
              "    .colab-df-container {\n",
              "      display:flex;\n",
              "      flex-wrap:wrap;\n",
              "      gap: 12px;\n",
              "    }\n",
              "\n",
              "    .colab-df-convert {\n",
              "      background-color: #E8F0FE;\n",
              "      border: none;\n",
              "      border-radius: 50%;\n",
              "      cursor: pointer;\n",
              "      display: none;\n",
              "      fill: #1967D2;\n",
              "      height: 32px;\n",
              "      padding: 0 0 0 0;\n",
              "      width: 32px;\n",
              "    }\n",
              "\n",
              "    .colab-df-convert:hover {\n",
              "      background-color: #E2EBFA;\n",
              "      box-shadow: 0px 1px 2px rgba(60, 64, 67, 0.3), 0px 1px 3px 1px rgba(60, 64, 67, 0.15);\n",
              "      fill: #174EA6;\n",
              "    }\n",
              "\n",
              "    [theme=dark] .colab-df-convert {\n",
              "      background-color: #3B4455;\n",
              "      fill: #D2E3FC;\n",
              "    }\n",
              "\n",
              "    [theme=dark] .colab-df-convert:hover {\n",
              "      background-color: #434B5C;\n",
              "      box-shadow: 0px 1px 3px 1px rgba(0, 0, 0, 0.15);\n",
              "      filter: drop-shadow(0px 1px 2px rgba(0, 0, 0, 0.3));\n",
              "      fill: #FFFFFF;\n",
              "    }\n",
              "  </style>\n",
              "\n",
              "      <script>\n",
              "        const buttonEl =\n",
              "          document.querySelector('#df-093bd781-b5c8-4b71-8e05-d840f0dec895 button.colab-df-convert');\n",
              "        buttonEl.style.display =\n",
              "          google.colab.kernel.accessAllowed ? 'block' : 'none';\n",
              "\n",
              "        async function convertToInteractive(key) {\n",
              "          const element = document.querySelector('#df-093bd781-b5c8-4b71-8e05-d840f0dec895');\n",
              "          const dataTable =\n",
              "            await google.colab.kernel.invokeFunction('convertToInteractive',\n",
              "                                                     [key], {});\n",
              "          if (!dataTable) return;\n",
              "\n",
              "          const docLinkHtml = 'Like what you see? Visit the ' +\n",
              "            '<a target=\"_blank\" href=https://colab.research.google.com/notebooks/data_table.ipynb>data table notebook</a>'\n",
              "            + ' to learn more about interactive tables.';\n",
              "          element.innerHTML = '';\n",
              "          dataTable['output_type'] = 'display_data';\n",
              "          await google.colab.output.renderOutput(dataTable, element);\n",
              "          const docLink = document.createElement('div');\n",
              "          docLink.innerHTML = docLinkHtml;\n",
              "          element.appendChild(docLink);\n",
              "        }\n",
              "      </script>\n",
              "    </div>\n",
              "  </div>\n",
              "  "
            ]
          },
          "metadata": {},
          "execution_count": 137
        }
      ],
      "source": [
        "#description of the features\n",
        "df_merged.describe(include='all')"
      ]
    },
    {
      "cell_type": "code",
      "execution_count": null,
      "metadata": {
        "colab": {
          "base_uri": "https://localhost:8080/"
        },
        "id": "SSiGzUaNKIKD",
        "outputId": "3b8a361e-3c98-410e-ff8f-0c1ec0c07425"
      },
      "outputs": [
        {
          "output_type": "stream",
          "name": "stdout",
          "text": [
            "<class 'pandas.core.frame.DataFrame'>\n",
            "Int64Index: 916933 entries, 0 to 916932\n",
            "Data columns (total 13 columns):\n",
            " #   Column               Non-Null Count   Dtype  \n",
            "---  ------               --------------   -----  \n",
            " 0   User-ID              916933 non-null  int64  \n",
            " 1   ISBN                 916933 non-null  object \n",
            " 2   Book-Rating          916933 non-null  int64  \n",
            " 3   Book-Title           916933 non-null  object \n",
            " 4   Book-Author          916933 non-null  object \n",
            " 5   Year-Of-Publication  916933 non-null  int64  \n",
            " 6   Publisher            916931 non-null  object \n",
            " 7   Image-URL-S          916933 non-null  object \n",
            " 8   Image-URL-M          916933 non-null  object \n",
            " 9   Image-URL-L          916929 non-null  object \n",
            " 10  new_title            916933 non-null  object \n",
            " 11  Location             916933 non-null  object \n",
            " 12  Age                  671659 non-null  float64\n",
            "dtypes: float64(1), int64(3), object(9)\n",
            "memory usage: 97.9+ MB\n"
          ]
        }
      ],
      "source": [
        "#information of the features\n",
        "df_merged.info()"
      ]
    },
    {
      "cell_type": "markdown",
      "metadata": {
        "id": "IfZVaucuMAYA"
      },
      "source": [
        "#####Publication Years"
      ]
    },
    {
      "cell_type": "code",
      "execution_count": null,
      "metadata": {
        "colab": {
          "base_uri": "https://localhost:8080/"
        },
        "id": "M6qm9OU9LdY1",
        "outputId": "bcf731c7-75fc-41f3-f247-b761dd642cef"
      },
      "outputs": [
        {
          "output_type": "execute_result",
          "data": {
            "text/plain": [
              "array([2002, 1994, 1996, 1998, 2001, 1987, 1984, 1997, 1970, 1978, 1993,\n",
              "       1989, 1995, 1990, 1992, 1950, 1991, 1999, 1954, 1988, 2003, 2004,\n",
              "       2000, 1983, 1985, 1982, 1956, 1979, 1986, 1975,    0, 1976, 1977,\n",
              "       1980, 1981, 1974, 1957, 1958, 1960, 1963, 1969, 1972, 1961, 1971,\n",
              "       1953, 1968, 1973, 1967, 1962, 1937, 1959, 1955, 2005, 1945, 1965,\n",
              "       1964, 1927, 2020, 2050, 1920, 1966, 1952, 1930, 1940, 1942, 1947,\n",
              "       1925, 1923, 2030, 1951, 1936, 1946, 1943, 2099, 1928, 1941, 2011,\n",
              "       1948, 1901, 1932, 1939, 1944, 1938, 1902, 1929, 1900, 1911, 1949,\n",
              "       1926, 1933, 1922, 1897, 2026, 1906, 1806, 1935, 2006, 2037, 1921,\n",
              "       2024, 2038, 1924, 1378, 2008, 1934, 1909, 1931, 1904, 1917, 2012,\n",
              "       1914, 1376, 1908, 1919])"
            ]
          },
          "metadata": {},
          "execution_count": 139
        }
      ],
      "source": [
        "df_merged['Year-Of-Publication'].unique()"
      ]
    },
    {
      "cell_type": "markdown",
      "metadata": {
        "id": "E5Q1qfWRNarx"
      },
      "source": [
        "# **2.Feature Engineering**"
      ]
    },
    {
      "cell_type": "markdown",
      "metadata": {
        "id": "utwrd1KvVSLs"
      },
      "source": [
        "## 1. Location"
      ]
    },
    {
      "cell_type": "code",
      "execution_count": null,
      "metadata": {
        "id": "Jb1ah9N3VHnB"
      },
      "outputs": [],
      "source": [
        "# defining a function to extarct the country names\n",
        "def get_country(x):\n",
        "  return x.split(',')[-1]\n",
        "  \n"
      ]
    },
    {
      "cell_type": "code",
      "execution_count": null,
      "metadata": {
        "id": "3DhvLvciVHnB"
      },
      "outputs": [],
      "source": [
        "#applying the function the location column\n",
        "df_location = df_user.copy(deep=True)\n",
        "df_location['country'] = df_user['Location'].apply(get_country)"
      ]
    },
    {
      "cell_type": "code",
      "execution_count": null,
      "metadata": {
        "id": "OTNOORgZVHnB"
      },
      "outputs": [],
      "source": [
        "df_merged['Location'] = df_merged['Location'].apply(get_country)"
      ]
    },
    {
      "cell_type": "markdown",
      "metadata": {
        "id": "KISfMcVSZrbe"
      },
      "source": [
        "Extracted just the country names from the location column."
      ]
    },
    {
      "cell_type": "markdown",
      "metadata": {
        "id": "dmEPPnKaVa6n"
      },
      "source": [
        "## 2. Age"
      ]
    },
    {
      "cell_type": "markdown",
      "metadata": {
        "id": "ltzAwi_lZ6WE"
      },
      "source": [
        "### a) Creating bins for the age column."
      ]
    },
    {
      "cell_type": "code",
      "execution_count": null,
      "metadata": {
        "id": "HbftIt3hVnxz"
      },
      "outputs": [],
      "source": [
        "# Create age groups using age column\n",
        "bins = [0,12,20,50,100]\n",
        "labels = ['Kid','Teenager','Adult','Old']\n",
        "df_merged['age_bins'] = pd.cut(x=df_merged['Age'], bins=bins,labels=labels)"
      ]
    },
    {
      "cell_type": "markdown",
      "metadata": {
        "id": "6VlD4jfnO672"
      },
      "source": [
        "### b) Capping Outlier\n",
        "\n"
      ]
    },
    {
      "cell_type": "code",
      "execution_count": null,
      "metadata": {
        "colab": {
          "base_uri": "https://localhost:8080/"
        },
        "id": "ZFy3OByvRc6z",
        "outputId": "02488f2e-e9ed-40b8-efc4-0f11edd59ea6"
      },
      "outputs": [
        {
          "output_type": "stream",
          "name": "stdout",
          "text": [
            "2872\n"
          ]
        }
      ],
      "source": [
        "# Number of outliers\n",
        "outliers = sum(df_merged['Age']>90)\n",
        "print(outliers)"
      ]
    },
    {
      "cell_type": "code",
      "execution_count": null,
      "metadata": {
        "colab": {
          "base_uri": "https://localhost:8080/",
          "height": 342
        },
        "id": "qfm7IvjeQ_Ro",
        "outputId": "a9f3159d-e448-4a15-b450-5ea9434db989"
      },
      "outputs": [
        {
          "output_type": "stream",
          "name": "stderr",
          "text": [
            "/usr/local/lib/python3.7/dist-packages/seaborn/distributions.py:2619: FutureWarning: `distplot` is a deprecated function and will be removed in a future version. Please adapt your code to use either `displot` (a figure-level function with similar flexibility) or `histplot` (an axes-level function for histograms).\n",
            "  warnings.warn(msg, FutureWarning)\n"
          ]
        },
        {
          "output_type": "display_data",
          "data": {
            "text/plain": [
              "<Figure size 432x288 with 1 Axes>"
            ],
            "image/png": "[encoded data removed]"
          },
          "metadata": {
            "needs_background": "light"
          }
        }
      ],
      "source": [
        "# Plot Distribution of Age\n",
        "sns.distplot(df_merged['Age'].dropna())\n",
        "# Handling outliers by randomly replacing age >90 by values between 90 and 100\n",
        "age2 = df_merged['Age'].copy()\n",
        "random_age2 = np.random.randint(90,100,outliers)\n",
        "age2[df_merged['Age']>90]=random_age2\n",
        "df_merged['Age'] = age2"
      ]
    },
    {
      "cell_type": "markdown",
      "metadata": {
        "id": "Cztjbp5GQPX1"
      },
      "source": [
        "##3.Handling Missing Value"
      ]
    },
    {
      "cell_type": "code",
      "execution_count": null,
      "metadata": {
        "id": "6KQ0XQURNfvU"
      },
      "outputs": [],
      "source": [
        "# Missing Value Count Function\n",
        "def show_missing(y):\n",
        "    missing = y.columns[y.isnull().any()].tolist()\n",
        "    return missing\n",
        "\n",
        "def print_missing(x):\n",
        "  # Missing data counts and percentage\n",
        "  print('Missing Data Count')\n",
        "  print(x[show_missing(x)].isnull().sum().sort_values(ascending = False))\n",
        "  print('--'*20)"
      ]
    },
    {
      "cell_type": "markdown",
      "metadata": {
        "id": "SXkuVPD7cm9q"
      },
      "source": [
        "### a) Missing values"
      ]
    },
    {
      "cell_type": "code",
      "execution_count": null,
      "metadata": {
        "colab": {
          "base_uri": "https://localhost:8080/"
        },
        "id": "8QxjFL2CQqDf",
        "outputId": "1810abe7-1c78-4cde-9a4c-c542fbbe5432"
      },
      "outputs": [
        {
          "output_type": "stream",
          "name": "stdout",
          "text": [
            "Missing Data Count\n",
            "age_bins       248343\n",
            "Age            245274\n",
            "Image-URL-L         4\n",
            "Publisher           2\n",
            "dtype: int64\n",
            "----------------------------------------\n"
          ]
        }
      ],
      "source": [
        "print_missing(df_merged)"
      ]
    },
    {
      "cell_type": "markdown",
      "metadata": {
        "id": "BxhzDWCZTo3R"
      },
      "source": [
        "### b) Dealing with the missing values of age."
      ]
    },
    {
      "cell_type": "code",
      "execution_count": null,
      "metadata": {
        "colab": {
          "base_uri": "https://localhost:8080/"
        },
        "id": "D0XafKc5TYUu",
        "outputId": "d13b2893-bb92-4e82-a5f2-e561e2e06dfa"
      },
      "outputs": [
        {
          "output_type": "stream",
          "name": "stdout",
          "text": [
            "Null values in Age:  245274\n"
          ]
        }
      ],
      "source": [
        "# Null values in age column\n",
        "nulls = sum(df_merged['Age'].isnull())\n",
        "print('Null values in Age: ',nulls)"
      ]
    },
    {
      "cell_type": "code",
      "execution_count": null,
      "metadata": {
        "id": "s7VNxwmxQp8j"
      },
      "outputs": [],
      "source": [
        "# Replacing null values\n",
        "median = df_merged['Age'].median()\n",
        "std = df_merged['Age'].std()\n",
        "random_age = np.random.randint(median - std, median + std, size = nulls)\n",
        "age = df_merged['Age'].copy()\n",
        "age[pd.isnull(age)] = random_age\n",
        "df_merged['Age'] = age\n",
        "df_merged['Age'] = df_merged['Age'].astype(int)"
      ]
    },
    {
      "cell_type": "code",
      "execution_count": null,
      "metadata": {
        "colab": {
          "base_uri": "https://localhost:8080/"
        },
        "id": "KE_qRD-LeATa",
        "outputId": "41481874-97c8-4151-ed03-89d56806e52c"
      },
      "outputs": [
        {
          "output_type": "execute_result",
          "data": {
            "text/plain": [
              "(916933, 14)"
            ]
          },
          "metadata": {},
          "execution_count": 150
        }
      ],
      "source": [
        "df_merged.shape"
      ]
    },
    {
      "cell_type": "markdown",
      "metadata": {
        "id": "KuH7cZE2eY6Y"
      },
      "source": [
        "## 4. Calculating the Rating Count and Rating Mean for each Book-Title"
      ]
    },
    {
      "cell_type": "code",
      "execution_count": null,
      "metadata": {
        "id": "TuyfpF4WbS7p"
      },
      "outputs": [],
      "source": [
        "# Calculating the rating count and mean rating given to each book by the user.\n",
        "\n",
        "rating_count = df_merged.groupby('Book-Title')['Book-Rating'].count().to_frame()\n",
        "rating_mean = df_merged.groupby('Book-Title')['Book-Rating'].mean().to_frame()"
      ]
    },
    {
      "cell_type": "code",
      "execution_count": null,
      "metadata": {
        "id": "U0KLV4hlbSwL"
      },
      "outputs": [],
      "source": [
        "# Renaming the column names before merging them with the final dataset.\n",
        "\n",
        "rating_count.rename(columns={'Book-Rating':'Rating-Count'}, inplace=True)\n",
        "rating_mean.rename(columns={'Book-Rating':'Rating-Mean'}, inplace=True)"
      ]
    },
    {
      "cell_type": "code",
      "execution_count": null,
      "metadata": {
        "id": "ahhxcaVUbSqL"
      },
      "outputs": [],
      "source": [
        "df_merged = pd.merge(df_merged, rating_count, on='Book-Title', how='inner')\n",
        "df_merged = pd.merge(df_merged, rating_mean, on='Book-Title', how='inner')"
      ]
    },
    {
      "cell_type": "code",
      "execution_count": null,
      "metadata": {
        "id": "MVhUp9aQcpqq"
      },
      "outputs": [],
      "source": [
        "# rounding off the rating mean feature to 2 decimal points\n",
        "df_merged['Rating-Mean'] = df_merged['Rating-Mean'].round(2)"
      ]
    },
    {
      "cell_type": "code",
      "execution_count": null,
      "metadata": {
        "id": "-QBVSbAkiHfW"
      },
      "outputs": [],
      "source": [
        "df_merged.drop(columns=['Image-URL-M','Image-URL-S','Image-URL-L'],inplace=True)"
      ]
    },
    {
      "cell_type": "code",
      "execution_count": null,
      "metadata": {
        "colab": {
          "base_uri": "https://localhost:8080/",
          "height": 798
        },
        "id": "GxqjSgAIUaD6",
        "outputId": "5e189ead-5cde-4dfd-8c07-6547e0afc360"
      },
      "outputs": [
        {
          "output_type": "execute_result",
          "data": {
            "text/plain": [
              "   User-ID        ISBN  Book-Rating            Book-Title Book-Author  \\\n",
              "0   276725  034545104X            0  Flesh Tones: A Novel  M. J. Rose   \n",
              "1     2313  034545104X            5  Flesh Tones: A Novel  M. J. Rose   \n",
              "2     6543  034545104X            0  Flesh Tones: A Novel  M. J. Rose   \n",
              "3     8680  034545104X            5  Flesh Tones: A Novel  M. J. Rose   \n",
              "4    10314  034545104X            9  Flesh Tones: A Novel  M. J. Rose   \n",
              "5    23768  034545104X            0  Flesh Tones: A Novel  M. J. Rose   \n",
              "6    28266  034545104X            0  Flesh Tones: A Novel  M. J. Rose   \n",
              "7    28523  034545104X            0  Flesh Tones: A Novel  M. J. Rose   \n",
              "\n",
              "   Year-Of-Publication         Publisher                           new_title  \\\n",
              "0                 2002  Ballantine Books  Flesh Tones: A Novel by M. J. Rose   \n",
              "1                 2002  Ballantine Books  Flesh Tones: A Novel by M. J. Rose   \n",
              "2                 2002  Ballantine Books  Flesh Tones: A Novel by M. J. Rose   \n",
              "3                 2002  Ballantine Books  Flesh Tones: A Novel by M. J. Rose   \n",
              "4                 2002  Ballantine Books  Flesh Tones: A Novel by M. J. Rose   \n",
              "5                 2002  Ballantine Books  Flesh Tones: A Novel by M. J. Rose   \n",
              "6                 2002  Ballantine Books  Flesh Tones: A Novel by M. J. Rose   \n",
              "7                 2002  Ballantine Books  Flesh Tones: A Novel by M. J. Rose   \n",
              "\n",
              "  Location  Age age_bins  Rating-Count  Rating-Mean  \n",
              "0      usa   22      NaN            60         2.93  \n",
              "1      usa   23    Adult            60         2.93  \n",
              "2      usa   34    Adult            60         2.93  \n",
              "3      usa    2      Kid            60         2.93  \n",
              "4      usa   25      NaN            60         2.93  \n",
              "5      usa   45    Adult            60         2.93  \n",
              "6      usa   36      NaN            60         2.93  \n",
              "7      usa   24    Adult            60         2.93  "
            ],
            "text/html": [
              "\n",
              "  <div id=\"df-d46f0534-82b6-4cef-9666-b10b4573f43b\">\n",
              "    <div class=\"colab-df-container\">\n",
              "      <div>\n",
              "<style scoped>\n",
              "    .dataframe tbody tr th:only-of-type {\n",
              "        vertical-align: middle;\n",
              "    }\n",
              "\n",
              "    .dataframe tbody tr th {\n",
              "        vertical-align: top;\n",
              "    }\n",
              "\n",
              "    .dataframe thead th {\n",
              "        text-align: right;\n",
              "    }\n",
              "</style>\n",
              "<table border=\"1\" class=\"dataframe\">\n",
              "  <thead>\n",
              "    <tr style=\"text-align: right;\">\n",
              "      <th></th>\n",
              "      <th>User-ID</th>\n",
              "      <th>ISBN</th>\n",
              "      <th>Book-Rating</th>\n",
              "      <th>Book-Title</th>\n",
              "      <th>Book-Author</th>\n",
              "      <th>Year-Of-Publication</th>\n",
              "      <th>Publisher</th>\n",
              "      <th>new_title</th>\n",
              "      <th>Location</th>\n",
              "      <th>Age</th>\n",
              "      <th>age_bins</th>\n",
              "      <th>Rating-Count</th>\n",
              "      <th>Rating-Mean</th>\n",
              "    </tr>\n",
              "  </thead>\n",
              "  <tbody>\n",
              "    <tr>\n",
              "      <th>0</th>\n",
              "      <td>276725</td>\n",
              "      <td>034545104X</td>\n",
              "      <td>0</td>\n",
              "      <td>Flesh Tones: A Novel</td>\n",
              "      <td>M. J. Rose</td>\n",
              "      <td>2002</td>\n",
              "      <td>Ballantine Books</td>\n",
              "      <td>Flesh Tones: A Novel by M. J. Rose</td>\n",
              "      <td>usa</td>\n",
              "      <td>22</td>\n",
              "      <td>NaN</td>\n",
              "      <td>60</td>\n",
              "      <td>2.93</td>\n",
              "    </tr>\n",
              "    <tr>\n",
              "      <th>1</th>\n",
              "      <td>2313</td>\n",
              "      <td>034545104X</td>\n",
              "      <td>5</td>\n",
              "      <td>Flesh Tones: A Novel</td>\n",
              "      <td>M. J. Rose</td>\n",
              "      <td>2002</td>\n",
              "      <td>Ballantine Books</td>\n",
              "      <td>Flesh Tones: A Novel by M. J. Rose</td>\n",
              "      <td>usa</td>\n",
              "      <td>23</td>\n",
              "      <td>Adult</td>\n",
              "      <td>60</td>\n",
              "      <td>2.93</td>\n",
              "    </tr>\n",
              "    <tr>\n",
              "      <th>2</th>\n",
              "      <td>6543</td>\n",
              "      <td>034545104X</td>\n",
              "      <td>0</td>\n",
              "      <td>Flesh Tones: A Novel</td>\n",
              "      <td>M. J. Rose</td>\n",
              "      <td>2002</td>\n",
              "      <td>Ballantine Books</td>\n",
              "      <td>Flesh Tones: A Novel by M. J. Rose</td>\n",
              "      <td>usa</td>\n",
              "      <td>34</td>\n",
              "      <td>Adult</td>\n",
              "      <td>60</td>\n",
              "      <td>2.93</td>\n",
              "    </tr>\n",
              "    <tr>\n",
              "      <th>3</th>\n",
              "      <td>8680</td>\n",
              "      <td>034545104X</td>\n",
              "      <td>5</td>\n",
              "      <td>Flesh Tones: A Novel</td>\n",
              "      <td>M. J. Rose</td>\n",
              "      <td>2002</td>\n",
              "      <td>Ballantine Books</td>\n",
              "      <td>Flesh Tones: A Novel by M. J. Rose</td>\n",
              "      <td>usa</td>\n",
              "      <td>2</td>\n",
              "      <td>Kid</td>\n",
              "      <td>60</td>\n",
              "      <td>2.93</td>\n",
              "    </tr>\n",
              "    <tr>\n",
              "      <th>4</th>\n",
              "      <td>10314</td>\n",
              "      <td>034545104X</td>\n",
              "      <td>9</td>\n",
              "      <td>Flesh Tones: A Novel</td>\n",
              "      <td>M. J. Rose</td>\n",
              "      <td>2002</td>\n",
              "      <td>Ballantine Books</td>\n",
              "      <td>Flesh Tones: A Novel by M. J. Rose</td>\n",
              "      <td>usa</td>\n",
              "      <td>25</td>\n",
              "      <td>NaN</td>\n",
              "      <td>60</td>\n",
              "      <td>2.93</td>\n",
              "    </tr>\n",
              "    <tr>\n",
              "      <th>5</th>\n",
              "      <td>23768</td>\n",
              "      <td>034545104X</td>\n",
              "      <td>0</td>\n",
              "      <td>Flesh Tones: A Novel</td>\n",
              "      <td>M. J. Rose</td>\n",
              "      <td>2002</td>\n",
              "      <td>Ballantine Books</td>\n",
              "      <td>Flesh Tones: A Novel by M. J. Rose</td>\n",
              "      <td>usa</td>\n",
              "      <td>45</td>\n",
              "      <td>Adult</td>\n",
              "      <td>60</td>\n",
              "      <td>2.93</td>\n",
              "    </tr>\n",
              "    <tr>\n",
              "      <th>6</th>\n",
              "      <td>28266</td>\n",
              "      <td>034545104X</td>\n",
              "      <td>0</td>\n",
              "      <td>Flesh Tones: A Novel</td>\n",
              "      <td>M. J. Rose</td>\n",
              "      <td>2002</td>\n",
              "      <td>Ballantine Books</td>\n",
              "      <td>Flesh Tones: A Novel by M. J. Rose</td>\n",
              "      <td>usa</td>\n",
              "      <td>36</td>\n",
              "      <td>NaN</td>\n",
              "      <td>60</td>\n",
              "      <td>2.93</td>\n",
              "    </tr>\n",
              "    <tr>\n",
              "      <th>7</th>\n",
              "      <td>28523</td>\n",
              "      <td>034545104X</td>\n",
              "      <td>0</td>\n",
              "      <td>Flesh Tones: A Novel</td>\n",
              "      <td>M. J. Rose</td>\n",
              "      <td>2002</td>\n",
              "      <td>Ballantine Books</td>\n",
              "      <td>Flesh Tones: A Novel by M. J. Rose</td>\n",
              "      <td>usa</td>\n",
              "      <td>24</td>\n",
              "      <td>Adult</td>\n",
              "      <td>60</td>\n",
              "      <td>2.93</td>\n",
              "    </tr>\n",
              "  </tbody>\n",
              "</table>\n",
              "</div>\n",
              "      <button class=\"colab-df-convert\" onclick=\"convertToInteractive('df-d46f0534-82b6-4cef-9666-b10b4573f43b')\"\n",
              "              title=\"Convert this dataframe to an interactive table.\"\n",
              "              style=\"display:none;\">\n",
              "        \n",
              "  <svg xmlns=\"http://www.w3.org/2000/svg\" height=\"24px\"viewBox=\"0 0 24 24\"\n",
              "       width=\"24px\">\n",
              "    <path d=\"M0 0h24v24H0V0z\" fill=\"none\"/>\n",
              "    <path d=\"M18.56 5.44l.94 2.06.94-2.06 2.06-.94-2.06-.94-.94-2.06-.94 2.06-2.06.94zm-11 1L8.5 8.5l.94-2.06 2.06-.94-2.06-.94L8.5 2.5l-.94 2.06-2.06.94zm10 10l.94 2.06.94-2.06 2.06-.94-2.06-.94-.94-2.06-.94 2.06-2.06.94z\"/><path d=\"M17.41 7.96l-1.37-1.37c-.4-.4-.92-.59-1.43-.59-.52 0-1.04.2-1.43.59L10.3 9.45l-7.72 7.72c-.78.78-.78 2.05 0 2.83L4 21.41c.39.39.9.59 1.41.59.51 0 1.02-.2 1.41-.59l7.78-7.78 2.81-2.81c.8-.78.8-2.07 0-2.86zM5.41 20L4 18.59l7.72-7.72 1.47 1.35L5.41 20z\"/>\n",
              "  </svg>\n",
              "      </button>\n",
              "      \n",
              "  <style>\n",
              "    .colab-df-container {\n",
              "      display:flex;\n",
              "      flex-wrap:wrap;\n",
              "      gap: 12px;\n",
              "    }\n",
              "\n",
              "    .colab-df-convert {\n",
              "      background-color: #E8F0FE;\n",
              "      border: none;\n",
              "      border-radius: 50%;\n",
              "      cursor: pointer;\n",
              "      display: none;\n",
              "      fill: #1967D2;\n",
              "      height: 32px;\n",
              "      padding: 0 0 0 0;\n",
              "      width: 32px;\n",
              "    }\n",
              "\n",
              "    .colab-df-convert:hover {\n",
              "      background-color: #E2EBFA;\n",
              "      box-shadow: 0px 1px 2px rgba(60, 64, 67, 0.3), 0px 1px 3px 1px rgba(60, 64, 67, 0.15);\n",
              "      fill: #174EA6;\n",
              "    }\n",
              "\n",
              "    [theme=dark] .colab-df-convert {\n",
              "      background-color: #3B4455;\n",
              "      fill: #D2E3FC;\n",
              "    }\n",
              "\n",
              "    [theme=dark] .colab-df-convert:hover {\n",
              "      background-color: #434B5C;\n",
              "      box-shadow: 0px 1px 3px 1px rgba(0, 0, 0, 0.15);\n",
              "      filter: drop-shadow(0px 1px 2px rgba(0, 0, 0, 0.3));\n",
              "      fill: #FFFFFF;\n",
              "    }\n",
              "  </style>\n",
              "\n",
              "      <script>\n",
              "        const buttonEl =\n",
              "          document.querySelector('#df-d46f0534-82b6-4cef-9666-b10b4573f43b button.colab-df-convert');\n",
              "        buttonEl.style.display =\n",
              "          google.colab.kernel.accessAllowed ? 'block' : 'none';\n",
              "\n",
              "        async function convertToInteractive(key) {\n",
              "          const element = document.querySelector('#df-d46f0534-82b6-4cef-9666-b10b4573f43b');\n",
              "          const dataTable =\n",
              "            await google.colab.kernel.invokeFunction('convertToInteractive',\n",
              "                                                     [key], {});\n",
              "          if (!dataTable) return;\n",
              "\n",
              "          const docLinkHtml = 'Like what you see? Visit the ' +\n",
              "            '<a target=\"_blank\" href=https://colab.research.google.com/notebooks/data_table.ipynb>data table notebook</a>'\n",
              "            + ' to learn more about interactive tables.';\n",
              "          element.innerHTML = '';\n",
              "          dataTable['output_type'] = 'display_data';\n",
              "          await google.colab.output.renderOutput(dataTable, element);\n",
              "          const docLink = document.createElement('div');\n",
              "          docLink.innerHTML = docLinkHtml;\n",
              "          element.appendChild(docLink);\n",
              "        }\n",
              "      </script>\n",
              "    </div>\n",
              "  </div>\n",
              "  "
            ]
          },
          "metadata": {},
          "execution_count": 156
        }
      ],
      "source": [
        "df_merged.head(8)"
      ]
    },
    {
      "cell_type": "markdown",
      "metadata": {
        "id": "ehhAG6voi4HX"
      },
      "source": [
        "## 5.Using IMDB Formula to calculate the Weighted Rating for our books"
      ]
    },
    {
      "cell_type": "markdown",
      "metadata": {
        "id": "TSGlSmUuDDf3"
      },
      "source": [
        "![WhatsApp Image 2021-09-12 at 10.41.42 PM.jpeg](data:image/jpeg;base64,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)"
      ]
    },
    {
      "cell_type": "code",
      "execution_count": null,
      "metadata": {
        "id": "e14Av9n7d_h3"
      },
      "outputs": [],
      "source": [
        "# Calculating the mean vote across the whole df\n",
        "C = df_merged['Rating-Mean'].mean()\n"
      ]
    },
    {
      "cell_type": "code",
      "execution_count": null,
      "metadata": {
        "id": "aOzfW9UUfXPV"
      },
      "outputs": [],
      "source": [
        "# Calculating the minimum votes required to be listed in the top 5%\n",
        "m = rating_count.quantile(.95)[0]\n"
      ]
    },
    {
      "cell_type": "code",
      "execution_count": null,
      "metadata": {
        "id": "w3wvSJwyd_e9"
      },
      "outputs": [],
      "source": [
        "# IMDB formula; source: https://tutorialedge.net/python/building-imdb-top-250-clone-pandas/\n",
        "def weighted_rating(x, m=m, C=C):\n",
        "    v = x['Rating-Count']\n",
        "    R = x['Rating-Mean']\n",
        "\n",
        "    return (v/(v+m) * R) + (m/(m+v) * C)"
      ]
    },
    {
      "cell_type": "markdown",
      "metadata": {
        "id": "ccgOwDKAfQBT"
      },
      "source": [
        "## **Splitting the Dataset into Two Based on the Explicit and Implicit Ratings**"
      ]
    },
    {
      "cell_type": "code",
      "execution_count": null,
      "metadata": {
        "id": "p9KQkiyAklp8"
      },
      "outputs": [],
      "source": [
        "df_merged_updated=df_merged[df_merged['Book-Rating']!=0]"
      ]
    },
    {
      "cell_type": "code",
      "execution_count": null,
      "metadata": {
        "colab": {
          "base_uri": "https://localhost:8080/"
        },
        "id": "2y_dmOaRfvHF",
        "outputId": "d55eaf9a-5327-457a-ac68-1b76e6b5c60f"
      },
      "outputs": [
        {
          "output_type": "stream",
          "name": "stdout",
          "text": [
            " Implicit dataset has 576893 observations\n",
            " Explicit dataset has 340040 observations\n"
          ]
        }
      ],
      "source": [
        "print(f\" Implicit dataset has {df_merged.shape[0]-df_merged_updated.shape[0]} observations\")\n",
        "print(f\" Explicit dataset has {df_merged_updated.shape[0]} observations\")"
      ]
    },
    {
      "cell_type": "code",
      "execution_count": null,
      "metadata": {
        "colab": {
          "base_uri": "https://localhost:8080/"
        },
        "id": "t-U-gbaed_ax",
        "outputId": "e6bf1289-df61-4be7-f1d2-0258d84a4514"
      },
      "outputs": [
        {
          "output_type": "execute_result",
          "data": {
            "text/plain": [
              "(163365, 13)"
            ]
          },
          "metadata": {},
          "execution_count": 162
        }
      ],
      "source": [
        "# Create relevant sub-dataset\n",
        "df_top_10 = df_merged_updated.copy().loc[df_merged_updated['Rating-Count'] >= m]\n",
        "df_top_10.shape"
      ]
    },
    {
      "cell_type": "code",
      "execution_count": null,
      "metadata": {
        "colab": {
          "base_uri": "https://localhost:8080/",
          "height": 1000
        },
        "id": "WWam91IRgNxN",
        "outputId": "596e8233-5047-4864-aaef-a24d97da1a3e"
      },
      "outputs": [
        {
          "output_type": "execute_result",
          "data": {
            "text/plain": [
              "        User-ID        ISBN  Book-Rating            Book-Title    Book-Author  \\\n",
              "1          2313  034545104X            5  Flesh Tones: A Novel     M. J. Rose   \n",
              "3          8680  034545104X            5  Flesh Tones: A Novel     M. J. Rose   \n",
              "4         10314  034545104X            9  Flesh Tones: A Novel     M. J. Rose   \n",
              "9         50403  034545104X            9  Flesh Tones: A Novel     M. J. Rose   \n",
              "13        63970  034545104X            8  Flesh Tones: A Novel     M. J. Rose   \n",
              "...         ...         ...          ...                   ...            ...   \n",
              "897646   142172  8807812576            7      La Fata Carabina  Daniel Pennac   \n",
              "897648    52001  8807812576            5      La Fata Carabina  Daniel Pennac   \n",
              "897651    73425  8807812576            7      La Fata Carabina  Daniel Pennac   \n",
              "897653    89762  8807812576            8      La Fata Carabina  Daniel Pennac   \n",
              "897655   134023  8807812576            8      La Fata Carabina  Daniel Pennac   \n",
              "\n",
              "        Year-Of-Publication                         Publisher  \\\n",
              "1                      2002                  Ballantine Books   \n",
              "3                      2002                  Ballantine Books   \n",
              "4                      2002                  Ballantine Books   \n",
              "9                      2002                  Ballantine Books   \n",
              "13                     2002                  Ballantine Books   \n",
              "...                     ...                               ...   \n",
              "897646                 1987  Universale Economica Feltrinelli   \n",
              "897648                 1987  Universale Economica Feltrinelli   \n",
              "897651                 1987  Universale Economica Feltrinelli   \n",
              "897653                 1987  Universale Economica Feltrinelli   \n",
              "897655                 1987  Universale Economica Feltrinelli   \n",
              "\n",
              "                                 new_title Location  Age age_bins  \\\n",
              "1       Flesh Tones: A Novel by M. J. Rose      usa   23    Adult   \n",
              "3       Flesh Tones: A Novel by M. J. Rose      usa    2      Kid   \n",
              "4       Flesh Tones: A Novel by M. J. Rose      usa   25      NaN   \n",
              "9       Flesh Tones: A Novel by M. J. Rose      usa   30      NaN   \n",
              "13      Flesh Tones: A Novel by M. J. Rose      usa   37      NaN   \n",
              "...                                    ...      ...  ...      ...   \n",
              "897646   La Fata Carabina by Daniel Pennac    italy   31      NaN   \n",
              "897648   La Fata Carabina by Daniel Pennac    italy   35      NaN   \n",
              "897651   La Fata Carabina by Daniel Pennac    italy   34      NaN   \n",
              "897653   La Fata Carabina by Daniel Pennac    italy   37      NaN   \n",
              "897655   La Fata Carabina by Daniel Pennac    italy   35    Adult   \n",
              "\n",
              "        Rating-Count  Rating-Mean     Score  \n",
              "1                 60         2.93  2.912574  \n",
              "3                 60         2.93  2.912574  \n",
              "4                 60         2.93  2.912574  \n",
              "9                 60         2.93  2.912574  \n",
              "13                60         2.93  2.912574  \n",
              "...              ...          ...       ...  \n",
              "897646            12         3.75  3.287721  \n",
              "897648            12         3.75  3.287721  \n",
              "897651            12         3.75  3.287721  \n",
              "897653            12         3.75  3.287721  \n",
              "897655            12         3.75  3.287721  \n",
              "\n",
              "[163365 rows x 14 columns]"
            ],
            "text/html": [
              "\n",
              "  <div id=\"df-536344f3-6fbb-4e7e-9b76-fbf44ee84dce\">\n",
              "    <div class=\"colab-df-container\">\n",
              "      <div>\n",
              "<style scoped>\n",
              "    .dataframe tbody tr th:only-of-type {\n",
              "        vertical-align: middle;\n",
              "    }\n",
              "\n",
              "    .dataframe tbody tr th {\n",
              "        vertical-align: top;\n",
              "    }\n",
              "\n",
              "    .dataframe thead th {\n",
              "        text-align: right;\n",
              "    }\n",
              "</style>\n",
              "<table border=\"1\" class=\"dataframe\">\n",
              "  <thead>\n",
              "    <tr style=\"text-align: right;\">\n",
              "      <th></th>\n",
              "      <th>User-ID</th>\n",
              "      <th>ISBN</th>\n",
              "      <th>Book-Rating</th>\n",
              "      <th>Book-Title</th>\n",
              "      <th>Book-Author</th>\n",
              "      <th>Year-Of-Publication</th>\n",
              "      <th>Publisher</th>\n",
              "      <th>new_title</th>\n",
              "      <th>Location</th>\n",
              "      <th>Age</th>\n",
              "      <th>age_bins</th>\n",
              "      <th>Rating-Count</th>\n",
              "      <th>Rating-Mean</th>\n",
              "      <th>Score</th>\n",
              "    </tr>\n",
              "  </thead>\n",
              "  <tbody>\n",
              "    <tr>\n",
              "      <th>1</th>\n",
              "      <td>2313</td>\n",
              "      <td>034545104X</td>\n",
              "      <td>5</td>\n",
              "      <td>Flesh Tones: A Novel</td>\n",
              "      <td>M. J. Rose</td>\n",
              "      <td>2002</td>\n",
              "      <td>Ballantine Books</td>\n",
              "      <td>Flesh Tones: A Novel by M. J. Rose</td>\n",
              "      <td>usa</td>\n",
              "      <td>23</td>\n",
              "      <td>Adult</td>\n",
              "      <td>60</td>\n",
              "      <td>2.93</td>\n",
              "      <td>2.912574</td>\n",
              "    </tr>\n",
              "    <tr>\n",
              "      <th>3</th>\n",
              "      <td>8680</td>\n",
              "      <td>034545104X</td>\n",
              "      <td>5</td>\n",
              "      <td>Flesh Tones: A Novel</td>\n",
              "      <td>M. J. Rose</td>\n",
              "      <td>2002</td>\n",
              "      <td>Ballantine Books</td>\n",
              "      <td>Flesh Tones: A Novel by M. J. Rose</td>\n",
              "      <td>usa</td>\n",
              "      <td>2</td>\n",
              "      <td>Kid</td>\n",
              "      <td>60</td>\n",
              "      <td>2.93</td>\n",
              "      <td>2.912574</td>\n",
              "    </tr>\n",
              "    <tr>\n",
              "      <th>4</th>\n",
              "      <td>10314</td>\n",
              "      <td>034545104X</td>\n",
              "      <td>9</td>\n",
              "      <td>Flesh Tones: A Novel</td>\n",
              "      <td>M. J. Rose</td>\n",
              "      <td>2002</td>\n",
              "      <td>Ballantine Books</td>\n",
              "      <td>Flesh Tones: A Novel by M. J. Rose</td>\n",
              "      <td>usa</td>\n",
              "      <td>25</td>\n",
              "      <td>NaN</td>\n",
              "      <td>60</td>\n",
              "      <td>2.93</td>\n",
              "      <td>2.912574</td>\n",
              "    </tr>\n",
              "    <tr>\n",
              "      <th>9</th>\n",
              "      <td>50403</td>\n",
              "      <td>034545104X</td>\n",
              "      <td>9</td>\n",
              "      <td>Flesh Tones: A Novel</td>\n",
              "      <td>M. J. Rose</td>\n",
              "      <td>2002</td>\n",
              "      <td>Ballantine Books</td>\n",
              "      <td>Flesh Tones: A Novel by M. J. Rose</td>\n",
              "      <td>usa</td>\n",
              "      <td>30</td>\n",
              "      <td>NaN</td>\n",
              "      <td>60</td>\n",
              "      <td>2.93</td>\n",
              "      <td>2.912574</td>\n",
              "    </tr>\n",
              "    <tr>\n",
              "      <th>13</th>\n",
              "      <td>63970</td>\n",
              "      <td>034545104X</td>\n",
              "      <td>8</td>\n",
              "      <td>Flesh Tones: A Novel</td>\n",
              "      <td>M. J. Rose</td>\n",
              "      <td>2002</td>\n",
              "      <td>Ballantine Books</td>\n",
              "      <td>Flesh Tones: A Novel by M. J. Rose</td>\n",
              "      <td>usa</td>\n",
              "      <td>37</td>\n",
              "      <td>NaN</td>\n",
              "      <td>60</td>\n",
              "      <td>2.93</td>\n",
              "      <td>2.912574</td>\n",
              "    </tr>\n",
              "    <tr>\n",
              "      <th>...</th>\n",
              "      <td>...</td>\n",
              "      <td>...</td>\n",
              "      <td>...</td>\n",
              "      <td>...</td>\n",
              "      <td>...</td>\n",
              "      <td>...</td>\n",
              "      <td>...</td>\n",
              "      <td>...</td>\n",
              "      <td>...</td>\n",
              "      <td>...</td>\n",
              "      <td>...</td>\n",
              "      <td>...</td>\n",
              "      <td>...</td>\n",
              "      <td>...</td>\n",
              "    </tr>\n",
              "    <tr>\n",
              "      <th>897646</th>\n",
              "      <td>142172</td>\n",
              "      <td>8807812576</td>\n",
              "      <td>7</td>\n",
              "      <td>La Fata Carabina</td>\n",
              "      <td>Daniel Pennac</td>\n",
              "      <td>1987</td>\n",
              "      <td>Universale Economica Feltrinelli</td>\n",
              "      <td>La Fata Carabina by Daniel Pennac</td>\n",
              "      <td>italy</td>\n",
              "      <td>31</td>\n",
              "      <td>NaN</td>\n",
              "      <td>12</td>\n",
              "      <td>3.75</td>\n",
              "      <td>3.287721</td>\n",
              "    </tr>\n",
              "    <tr>\n",
              "      <th>897648</th>\n",
              "      <td>52001</td>\n",
              "      <td>8807812576</td>\n",
              "      <td>5</td>\n",
              "      <td>La Fata Carabina</td>\n",
              "      <td>Daniel Pennac</td>\n",
              "      <td>1987</td>\n",
              "      <td>Universale Economica Feltrinelli</td>\n",
              "      <td>La Fata Carabina by Daniel Pennac</td>\n",
              "      <td>italy</td>\n",
              "      <td>35</td>\n",
              "      <td>NaN</td>\n",
              "      <td>12</td>\n",
              "      <td>3.75</td>\n",
              "      <td>3.287721</td>\n",
              "    </tr>\n",
              "    <tr>\n",
              "      <th>897651</th>\n",
              "      <td>73425</td>\n",
              "      <td>8807812576</td>\n",
              "      <td>7</td>\n",
              "      <td>La Fata Carabina</td>\n",
              "      <td>Daniel Pennac</td>\n",
              "      <td>1987</td>\n",
              "      <td>Universale Economica Feltrinelli</td>\n",
              "      <td>La Fata Carabina by Daniel Pennac</td>\n",
              "      <td>italy</td>\n",
              "      <td>34</td>\n",
              "      <td>NaN</td>\n",
              "      <td>12</td>\n",
              "      <td>3.75</td>\n",
              "      <td>3.287721</td>\n",
              "    </tr>\n",
              "    <tr>\n",
              "      <th>897653</th>\n",
              "      <td>89762</td>\n",
              "      <td>8807812576</td>\n",
              "      <td>8</td>\n",
              "      <td>La Fata Carabina</td>\n",
              "      <td>Daniel Pennac</td>\n",
              "      <td>1987</td>\n",
              "      <td>Universale Economica Feltrinelli</td>\n",
              "      <td>La Fata Carabina by Daniel Pennac</td>\n",
              "      <td>italy</td>\n",
              "      <td>37</td>\n",
              "      <td>NaN</td>\n",
              "      <td>12</td>\n",
              "      <td>3.75</td>\n",
              "      <td>3.287721</td>\n",
              "    </tr>\n",
              "    <tr>\n",
              "      <th>897655</th>\n",
              "      <td>134023</td>\n",
              "      <td>8807812576</td>\n",
              "      <td>8</td>\n",
              "      <td>La Fata Carabina</td>\n",
              "      <td>Daniel Pennac</td>\n",
              "      <td>1987</td>\n",
              "      <td>Universale Economica Feltrinelli</td>\n",
              "      <td>La Fata Carabina by Daniel Pennac</td>\n",
              "      <td>italy</td>\n",
              "      <td>35</td>\n",
              "      <td>Adult</td>\n",
              "      <td>12</td>\n",
              "      <td>3.75</td>\n",
              "      <td>3.287721</td>\n",
              "    </tr>\n",
              "  </tbody>\n",
              "</table>\n",
              "<p>163365 rows × 14 columns</p>\n",
              "</div>\n",
              "      <button class=\"colab-df-convert\" onclick=\"convertToInteractive('df-536344f3-6fbb-4e7e-9b76-fbf44ee84dce')\"\n",
              "              title=\"Convert this dataframe to an interactive table.\"\n",
              "              style=\"display:none;\">\n",
              "        \n",
              "  <svg xmlns=\"http://www.w3.org/2000/svg\" height=\"24px\"viewBox=\"0 0 24 24\"\n",
              "       width=\"24px\">\n",
              "    <path d=\"M0 0h24v24H0V0z\" fill=\"none\"/>\n",
              "    <path d=\"M18.56 5.44l.94 2.06.94-2.06 2.06-.94-2.06-.94-.94-2.06-.94 2.06-2.06.94zm-11 1L8.5 8.5l.94-2.06 2.06-.94-2.06-.94L8.5 2.5l-.94 2.06-2.06.94zm10 10l.94 2.06.94-2.06 2.06-.94-2.06-.94-.94-2.06-.94 2.06-2.06.94z\"/><path d=\"M17.41 7.96l-1.37-1.37c-.4-.4-.92-.59-1.43-.59-.52 0-1.04.2-1.43.59L10.3 9.45l-7.72 7.72c-.78.78-.78 2.05 0 2.83L4 21.41c.39.39.9.59 1.41.59.51 0 1.02-.2 1.41-.59l7.78-7.78 2.81-2.81c.8-.78.8-2.07 0-2.86zM5.41 20L4 18.59l7.72-7.72 1.47 1.35L5.41 20z\"/>\n",
              "  </svg>\n",
              "      </button>\n",
              "      \n",
              "  <style>\n",
              "    .colab-df-container {\n",
              "      display:flex;\n",
              "      flex-wrap:wrap;\n",
              "      gap: 12px;\n",
              "    }\n",
              "\n",
              "    .colab-df-convert {\n",
              "      background-color: #E8F0FE;\n",
              "      border: none;\n",
              "      border-radius: 50%;\n",
              "      cursor: pointer;\n",
              "      display: none;\n",
              "      fill: #1967D2;\n",
              "      height: 32px;\n",
              "      padding: 0 0 0 0;\n",
              "      width: 32px;\n",
              "    }\n",
              "\n",
              "    .colab-df-convert:hover {\n",
              "      background-color: #E2EBFA;\n",
              "      box-shadow: 0px 1px 2px rgba(60, 64, 67, 0.3), 0px 1px 3px 1px rgba(60, 64, 67, 0.15);\n",
              "      fill: #174EA6;\n",
              "    }\n",
              "\n",
              "    [theme=dark] .colab-df-convert {\n",
              "      background-color: #3B4455;\n",
              "      fill: #D2E3FC;\n",
              "    }\n",
              "\n",
              "    [theme=dark] .colab-df-convert:hover {\n",
              "      background-color: #434B5C;\n",
              "      box-shadow: 0px 1px 3px 1px rgba(0, 0, 0, 0.15);\n",
              "      filter: drop-shadow(0px 1px 2px rgba(0, 0, 0, 0.3));\n",
              "      fill: #FFFFFF;\n",
              "    }\n",
              "  </style>\n",
              "\n",
              "      <script>\n",
              "        const buttonEl =\n",
              "          document.querySelector('#df-536344f3-6fbb-4e7e-9b76-fbf44ee84dce button.colab-df-convert');\n",
              "        buttonEl.style.display =\n",
              "          google.colab.kernel.accessAllowed ? 'block' : 'none';\n",
              "\n",
              "        async function convertToInteractive(key) {\n",
              "          const element = document.querySelector('#df-536344f3-6fbb-4e7e-9b76-fbf44ee84dce');\n",
              "          const dataTable =\n",
              "            await google.colab.kernel.invokeFunction('convertToInteractive',\n",
              "                                                     [key], {});\n",
              "          if (!dataTable) return;\n",
              "\n",
              "          const docLinkHtml = 'Like what you see? Visit the ' +\n",
              "            '<a target=\"_blank\" href=https://colab.research.google.com/notebooks/data_table.ipynb>data table notebook</a>'\n",
              "            + ' to learn more about interactive tables.';\n",
              "          element.innerHTML = '';\n",
              "          dataTable['output_type'] = 'display_data';\n",
              "          await google.colab.output.renderOutput(dataTable, element);\n",
              "          const docLink = document.createElement('div');\n",
              "          docLink.innerHTML = docLinkHtml;\n",
              "          element.appendChild(docLink);\n",
              "        }\n",
              "      </script>\n",
              "    </div>\n",
              "  </div>\n",
              "  "
            ]
          },
          "metadata": {},
          "execution_count": 163
        }
      ],
      "source": [
        "df_top_10['Score'] = df_top_10.apply(weighted_rating, axis=1)\n",
        "df_top_10"
      ]
    },
    {
      "cell_type": "markdown",
      "metadata": {
        "id": "EV1IswaMNMeQ"
      },
      "source": [
        "# **3. Exploratory Data Analysis**"
      ]
    },
    {
      "cell_type": "markdown",
      "metadata": {
        "id": "HVX5QTyUlg2g"
      },
      "source": [
        "##1. Ratings Count"
      ]
    },
    {
      "cell_type": "markdown",
      "metadata": {
        "id": "VBrykNV8hByK"
      },
      "source": [
        "### a) Explicit+Implicit Ratings"
      ]
    },
    {
      "cell_type": "code",
      "execution_count": null,
      "metadata": {
        "id": "C6cr0abElqiA"
      },
      "outputs": [],
      "source": [
        "rating_count=df_ratings['Book-Rating'].value_counts().reset_index().sort_values('Book-Rating',ascending=False)"
      ]
    },
    {
      "cell_type": "code",
      "execution_count": null,
      "metadata": {
        "colab": {
          "base_uri": "https://localhost:8080/",
          "height": 606
        },
        "id": "kll7l3lTLw5g",
        "outputId": "b3c4b7e2-3122-4755-b1bd-40909e200791"
      },
      "outputs": [
        {
          "output_type": "stream",
          "name": "stderr",
          "text": [
            "/usr/local/lib/python3.7/dist-packages/seaborn/_decorators.py:43: FutureWarning: Pass the following variables as keyword args: x, y. From version 0.12, the only valid positional argument will be `data`, and passing other arguments without an explicit keyword will result in an error or misinterpretation.\n",
            "  FutureWarning\n"
          ]
        },
        {
          "output_type": "execute_result",
          "data": {
            "text/plain": [
              "Text(0.5, 1.0, 'Ratings Count')"
            ]
          },
          "metadata": {},
          "execution_count": 165
        },
        {
          "output_type": "display_data",
          "data": {
            "text/plain": [
              "<Figure size 864x576 with 1 Axes>"
            ],
            "image/png": "[encoded data removed]"
          },
          "metadata": {
            "needs_background": "light"
          }
        }
      ],
      "source": [
        "plt.figure(figsize=(12,8))\n",
        "ax=sns.barplot(rating_count['index'],rating_count['Book-Rating'])\n",
        "ax.set_title('Ratings Count',fontsize=30,fontweight='bold')"
      ]
    },
    {
      "cell_type": "markdown",
      "metadata": {
        "id": "jQGPZJwegvHQ"
      },
      "source": [
        "### **Conclusion**: The dataset with both explicit and implicit ratings is highly skewed toward the value of zero."
      ]
    },
    {
      "cell_type": "markdown",
      "metadata": {
        "id": "3OVK0-eWhNtC"
      },
      "source": [
        "### b) Explicit Ratings"
      ]
    },
    {
      "cell_type": "code",
      "execution_count": null,
      "metadata": {
        "colab": {
          "base_uri": "https://localhost:8080/",
          "height": 542
        },
        "id": "Ru-UDB3jmfbB",
        "outputId": "f71f6282-655a-4356-9374-e34cdcee2697"
      },
      "outputs": [
        {
          "output_type": "display_data",
          "data": {
            "text/plain": [
              "<Figure size 842.4x595.44 with 1 Axes>"
            ],
            "image/png": "[encoded data removed]"
          },
          "metadata": {}
        }
      ],
      "source": [
        "sns.set(rc={'figure.figsize':(11.7,8.27)})\n",
        "# df_merged_updated = df_merged_updated[df_merged['Book-Rating']!=0]\n",
        "sns.countplot(x='Book-Rating', data=df_merged_updated).set_title('Ratings-Density Plot', weight='bold').set_fontsize('25')"
      ]
    },
    {
      "cell_type": "markdown",
      "metadata": {
        "id": "KAkb7_GAhWH0"
      },
      "source": [
        "### **Conclusion**: The skewness perishes after we remove the implicit ratings."
      ]
    },
    {
      "cell_type": "markdown",
      "metadata": {
        "id": "HWn-1K3Rl3VX"
      },
      "source": [
        "## 2. Author V/S Ratings"
      ]
    },
    {
      "cell_type": "code",
      "execution_count": null,
      "metadata": {
        "id": "ZrpUWm8Kl0gn"
      },
      "outputs": [],
      "source": [
        "# ratings count per author\n",
        "auth_rating=df_merged.groupby(['Book-Author'])['Book-Rating'].count().sort_values(ascending=False).reset_index()"
      ]
    },
    {
      "cell_type": "code",
      "execution_count": null,
      "metadata": {
        "colab": {
          "base_uri": "https://localhost:8080/",
          "height": 670
        },
        "id": "Dpcgz3wSl0go",
        "outputId": "1443d970-d489-4208-fc49-eee4b302f790"
      },
      "outputs": [
        {
          "output_type": "stream",
          "name": "stderr",
          "text": [
            "/usr/local/lib/python3.7/dist-packages/seaborn/_decorators.py:43: FutureWarning: Pass the following variables as keyword args: x, y. From version 0.12, the only valid positional argument will be `data`, and passing other arguments without an explicit keyword will result in an error or misinterpretation.\n",
            "  FutureWarning\n"
          ]
        },
        {
          "output_type": "execute_result",
          "data": {
            "text/plain": [
              "(array([0, 1, 2, 3, 4, 5, 6, 7]), <a list of 8 Text major ticklabel objects>)"
            ]
          },
          "metadata": {},
          "execution_count": 168
        },
        {
          "output_type": "display_data",
          "data": {
            "text/plain": [
              "<Figure size 864x576 with 1 Axes>"
            ],
            "image/png": "[encoded data removed]"
          },
          "metadata": {}
        }
      ],
      "source": [
        "plt.figure(figsize=(12,8))\n",
        "ax=sns.barplot(auth_rating[auth_rating['Book-Rating']>3000]['Book-Author'],auth_rating[auth_rating['Book-Rating']>3000]['Book-Rating'])\n",
        "ax.set_title('Author V/S Ratings', fontsize=30,fontweight='bold')\n",
        "plt.xticks(fontsize=15,rotation=25)"
      ]
    },
    {
      "cell_type": "markdown",
      "metadata": {
        "id": "vS9_q7KTiAkC"
      },
      "source": [
        "*   ### Here, we can observe, most frequently rated Authors.\n",
        "*   ### Most frequently rated author is Nora Roberts, followed by Stephen King."
      ]
    },
    {
      "cell_type": "markdown",
      "metadata": {
        "id": "0ujtmFU9iQ1-"
      },
      "source": [
        "## 3. Book Ratings Count"
      ]
    },
    {
      "cell_type": "code",
      "execution_count": null,
      "metadata": {
        "id": "xXOrxE_NmEW-"
      },
      "outputs": [],
      "source": [
        "#Book ratings count using group by\n",
        "book_rating=df_merged.groupby(['Book-Title'])['Book-Rating'].count().sort_values(ascending=False).reset_index()"
      ]
    },
    {
      "cell_type": "code",
      "execution_count": null,
      "metadata": {
        "colab": {
          "base_uri": "https://localhost:8080/",
          "height": 447
        },
        "id": "HD7Mr519mEW-",
        "outputId": "06edd032-f2fd-473e-cd47-7a52e3694746"
      },
      "outputs": [
        {
          "output_type": "stream",
          "name": "stderr",
          "text": [
            "/usr/local/lib/python3.7/dist-packages/seaborn/_decorators.py:43: FutureWarning: Pass the following variables as keyword args: x, y. From version 0.12, the only valid positional argument will be `data`, and passing other arguments without an explicit keyword will result in an error or misinterpretation.\n",
            "  FutureWarning\n"
          ]
        },
        {
          "output_type": "execute_result",
          "data": {
            "text/plain": [
              "(array([   0.,  500., 1000., 1500., 2000., 2500., 3000.]),\n",
              " <a list of 7 Text major ticklabel objects>)"
            ]
          },
          "metadata": {},
          "execution_count": 170
        },
        {
          "output_type": "display_data",
          "data": {
            "text/plain": [
              "<Figure size 1080x576 with 1 Axes>"
            ],
            "image/png": "[encoded data removed]"
          },
          "metadata": {}
        }
      ],
      "source": [
        "plt.figure(figsize=(15,8))\n",
        "ax=sns.barplot(book_rating['Book-Rating'][:10],book_rating['Book-Title'][:10],color='g')\n",
        "ax.set_title('Book Ratings Count', fontsize=30,fontweight='bold')\n",
        "ax.set_xlabel('Ratings-Count',fontsize=20)\n",
        "ax.set_ylabel('Book-Titles',fontsize=20)\n",
        "plt.yticks(fontsize=15)\n",
        "plt.xticks(fontsize=15)"
      ]
    },
    {
      "cell_type": "markdown",
      "metadata": {
        "id": "VgAkuLWLq5Ou"
      },
      "source": [
        "\n",
        "\n",
        "\n",
        "*   ### Here, we are able to observe, most frequently rated books by the users.\n",
        "*   ### Most frequently rated book, happens to be Wild Animus.\n",
        "\n",
        "\n"
      ]
    },
    {
      "cell_type": "markdown",
      "metadata": {
        "id": "UAZg9FIzm67c"
      },
      "source": [
        "## 4. Location"
      ]
    },
    {
      "cell_type": "code",
      "execution_count": null,
      "metadata": {
        "id": "gqL3sL6TGV07"
      },
      "outputs": [],
      "source": [
        "#Identifying what % of customers are coming from different countries\n",
        "df_location = pd.DataFrame(df_location.country.value_counts(normalize=True)).reset_index()\n",
        "df_location.columns = ['countries','value_counts']\n",
        "\n",
        "#Labeling countries with low customer % as other\n",
        "df_location['countries'] = df_location.apply(lambda x: 'other' if (x['value_counts'] < 0.01 or x['countries'] == '') else x['countries'],axis=1)\n",
        "\n",
        "#Grouping the customer % from 'other' countries \n",
        "df_location = df_location.groupby('countries')['value_counts'].sum().reset_index()"
      ]
    },
    {
      "cell_type": "code",
      "execution_count": null,
      "metadata": {
        "colab": {
          "base_uri": "https://localhost:8080/"
        },
        "id": "dD0QM-gzRFUy",
        "outputId": "de3a9627-e1c9-4644-ff51-4b06d88a0d34"
      },
      "outputs": [
        {
          "output_type": "execute_result",
          "data": {
            "text/plain": [
              " australia         1\n",
              " canada            1\n",
              " france            1\n",
              " germany           1\n",
              " italy             1\n",
              " netherlands       1\n",
              " new zealand       1\n",
              " portugal          1\n",
              " spain             1\n",
              " united kingdom    1\n",
              " usa               1\n",
              "other              1\n",
              "Name: countries, dtype: int64"
            ]
          },
          "metadata": {},
          "execution_count": 172
        }
      ],
      "source": [
        "#Every country has now just one occurance\n",
        "df_location.countries.value_counts()"
      ]
    },
    {
      "cell_type": "code",
      "execution_count": null,
      "metadata": {
        "colab": {
          "base_uri": "https://localhost:8080/",
          "height": 646
        },
        "id": "I_ujPKRqGspd",
        "outputId": "3d78282a-90a1-4d9a-ffe1-2fb71727da9c"
      },
      "outputs": [
        {
          "output_type": "display_data",
          "data": {
            "text/plain": [
              "<Figure size 842.4x595.44 with 1 Axes>"
            ],
            "image/png": "[encoded data removed]"
          },
          "metadata": {}
        }
      ],
      "source": [
        "#define Seaborn color palette to use\n",
        "colors = sns.color_palette('pastel')[0:5]\n",
        "\n",
        "#create pie chart\n",
        "plt.title(\"Country Representation in the Data Set\",bbox={'facecolor':'0.8', 'pad':8},fontsize=24, fontdict={\"weight\": \"bold\"},y=1.25,x=0.578)\n",
        "f = plt.pie(df_location['value_counts'], labels = df_location['countries'], colors = colors, autopct='%.0f%%',radius=1.4)"
      ]
    },
    {
      "cell_type": "markdown",
      "metadata": {
        "id": "qpAC-2y4nK86"
      },
      "source": [
        "\n",
        "\n",
        "*   ### Most customers are from United states of America, followd by Canada, United Kingdom and Germany.\n",
        "*   ### Countries with less than 1% customers are labeled as other\n",
        "\n"
      ]
    },
    {
      "cell_type": "markdown",
      "metadata": {
        "id": "vmCHtjc1sQ83"
      },
      "source": [
        "## 4. Age vs Rating Density\n"
      ]
    },
    {
      "cell_type": "code",
      "execution_count": null,
      "metadata": {
        "colab": {
          "base_uri": "https://localhost:8080/",
          "height": 518
        },
        "id": "81pL1s_XcplC",
        "outputId": "fb0da42d-fbe0-41bc-ea3f-ec482c18e924"
      },
      "outputs": [
        {
          "output_type": "execute_result",
          "data": {
            "text/plain": [
              "<matplotlib.axes._subplots.AxesSubplot at 0x7fbf51616fd0>"
            ]
          },
          "metadata": {},
          "execution_count": 174
        },
        {
          "output_type": "display_data",
          "data": {
            "text/plain": [
              "<Figure size 842.4x595.44 with 1 Axes>"
            ],
            "image/png": "[encoded data removed]"
          },
          "metadata": {}
        }
      ],
      "source": [
        "# Visualizing the rating counts of the users. \n",
        "df_merged_updated['Rating-Count'].hist(bins=[0,5,10,20,30,40,50,60,70,80,90,100])"
      ]
    },
    {
      "cell_type": "code",
      "execution_count": null,
      "metadata": {
        "colab": {
          "base_uri": "https://localhost:8080/",
          "height": 518
        },
        "id": "RpgUZjGadk3v",
        "outputId": "75e4caea-11f1-49bc-d764-f95750e83f6b"
      },
      "outputs": [
        {
          "output_type": "execute_result",
          "data": {
            "text/plain": [
              "<matplotlib.axes._subplots.AxesSubplot at 0x7fbf4425fc90>"
            ]
          },
          "metadata": {},
          "execution_count": 175
        },
        {
          "output_type": "display_data",
          "data": {
            "text/plain": [
              "<Figure size 842.4x595.44 with 1 Axes>"
            ],
            "image/png": "[encoded data removed]"
          },
          "metadata": {}
        }
      ],
      "source": [
        "# Visualizing the rating counts of the users in the range between 0 to 20. \n",
        "df_merged_updated['Rating-Count'].hist(bins=[0,2,4,6,8,10,12,14,16,18,20])"
      ]
    },
    {
      "cell_type": "markdown",
      "metadata": {
        "id": "1mfqrcS1n0BJ"
      },
      "source": [
        "## **From this visualization it is evident that most books have been rated by 2 to 5 users only.**"
      ]
    },
    {
      "cell_type": "markdown",
      "metadata": {
        "id": "8Jz0b3_lvFa6"
      },
      "source": [
        "## 5. Age Bin Representation"
      ]
    },
    {
      "cell_type": "code",
      "execution_count": null,
      "metadata": {
        "colab": {
          "base_uri": "https://localhost:8080/",
          "height": 701
        },
        "id": "27sSHU5IU90C",
        "outputId": "51f31a38-e75d-4e92-cae1-883916cd0f36"
      },
      "outputs": [
        {
          "output_type": "execute_result",
          "data": {
            "text/plain": [
              "<matplotlib.axes._subplots.AxesSubplot at 0x7fbf515399d0>"
            ]
          },
          "metadata": {},
          "execution_count": 176
        },
        {
          "output_type": "display_data",
          "data": {
            "text/plain": [
              "<Figure size 1440x864 with 1 Axes>"
            ],
            "image/png": "[encoded data removed]"
          },
          "metadata": {}
        }
      ],
      "source": [
        "# Age group that rated books the most\n",
        "plt.figure(figsize=(20,12))\n",
        "df_merged.groupby('age_bins')['Book-Rating'].count().plot(kind='pie')"
      ]
    },
    {
      "cell_type": "markdown",
      "metadata": {
        "id": "5vw0deVeulCK"
      },
      "source": [
        "*   ### Most customers are Adults (20-50yrs).\n",
        "* ### 2nd most represented age group is for boomers (>50yrs).\n",
        "\n"
      ]
    },
    {
      "cell_type": "code",
      "execution_count": null,
      "metadata": {
        "colab": {
          "base_uri": "https://localhost:8080/",
          "height": 869
        },
        "id": "-fJF5CWsx0K7",
        "outputId": "aeb2717b-9905-4c60-a02e-92ff08334695"
      },
      "outputs": [
        {
          "output_type": "execute_result",
          "data": {
            "text/plain": [
              "        User-ID        ISBN  Book-Rating  \\\n",
              "0        276725  034545104X            0   \n",
              "1          2313  034545104X            5   \n",
              "2          6543  034545104X            0   \n",
              "3          8680  034545104X            5   \n",
              "4         10314  034545104X            9   \n",
              "...         ...         ...          ...   \n",
              "916928   276618  3788097000            5   \n",
              "916929   276647  0553571001            0   \n",
              "916930   276647  0689822294           10   \n",
              "916931   276660  0583307841            8   \n",
              "916932   276672  0752834096            5   \n",
              "\n",
              "                                               Book-Title         Book-Author  \\\n",
              "0                                    Flesh Tones: A Novel          M. J. Rose   \n",
              "1                                    Flesh Tones: A Novel          M. J. Rose   \n",
              "2                                    Flesh Tones: A Novel          M. J. Rose   \n",
              "3                                    Flesh Tones: A Novel          M. J. Rose   \n",
              "4                                    Flesh Tones: A Novel          M. J. Rose   \n",
              "...                                                   ...                 ...   \n",
              "916928  Ludwig Marum: Briefe aus dem Konzentrationslag...        Ludwig Marum   \n",
              "916929  Christmas With Anne and Other Holiday Stories:...    L. M. Montgomery   \n",
              "916930    Heaven (Coretta Scott King Author Award Winner)      Angela Johnson   \n",
              "916931                           ROBOT RACE (MICRO ADV 6)  David Antony Kroft   \n",
              "916932                           Dry Rot And Daffodils/Ne         Mary MacKie   \n",
              "\n",
              "        Year-Of-Publication                                   Publisher  \\\n",
              "0                      2002                            Ballantine Books   \n",
              "1                      2002                            Ballantine Books   \n",
              "2                      2002                            Ballantine Books   \n",
              "3                      2002                            Ballantine Books   \n",
              "4                      2002                            Ballantine Books   \n",
              "...                     ...                                         ...   \n",
              "916928                 1984                                C.F. MÃ¼ller   \n",
              "916929                 2001                                    Starfire   \n",
              "916930                 1998  Simon &amp; Schuster Children's Publishing   \n",
              "916931                 1985                    HarperCollins Publishers   \n",
              "916932                 2000                            Trafalgar Square   \n",
              "\n",
              "                                                new_title         Location  \\\n",
              "0                      Flesh Tones: A Novel by M. J. Rose              usa   \n",
              "1                      Flesh Tones: A Novel by M. J. Rose              usa   \n",
              "2                      Flesh Tones: A Novel by M. J. Rose              usa   \n",
              "3                      Flesh Tones: A Novel by M. J. Rose              usa   \n",
              "4                      Flesh Tones: A Novel by M. J. Rose              usa   \n",
              "...                                                   ...              ...   \n",
              "916928  Ludwig Marum: Briefe aus dem Konzentrationslag...         germany\"   \n",
              "916929  Christmas With Anne and Other Holiday Stories:...              usa   \n",
              "916930  Heaven (Coretta Scott King Author Award Winner...              usa   \n",
              "916931     ROBOT RACE (MICRO ADV 6) by David Antony Kroft        singapore   \n",
              "916932            Dry Rot And Daffodils/Ne by Mary MacKie   united kingdom   \n",
              "\n",
              "        Age  age_bins  Rating-Count  Rating-Mean  \n",
              "0        22       NaN            60         2.93  \n",
              "1        23     Adult            60         2.93  \n",
              "2        34     Adult            60         2.93  \n",
              "3         2       Kid            60         2.93  \n",
              "4        25       NaN            60         2.93  \n",
              "...     ...       ...           ...          ...  \n",
              "916928   27       NaN             1         5.00  \n",
              "916929   13  Teenager             1         0.00  \n",
              "916930   13  Teenager             1        10.00  \n",
              "916931   15  Teenager             1         8.00  \n",
              "916932   34       NaN             1         5.00  \n",
              "\n",
              "[916933 rows x 13 columns]"
            ],
            "text/html": [
              "\n",
              "  <div id=\"df-325ede58-928d-49fc-8ca5-14fb55084787\">\n",
              "    <div class=\"colab-df-container\">\n",
              "      <div>\n",
              "<style scoped>\n",
              "    .dataframe tbody tr th:only-of-type {\n",
              "        vertical-align: middle;\n",
              "    }\n",
              "\n",
              "    .dataframe tbody tr th {\n",
              "        vertical-align: top;\n",
              "    }\n",
              "\n",
              "    .dataframe thead th {\n",
              "        text-align: right;\n",
              "    }\n",
              "</style>\n",
              "<table border=\"1\" class=\"dataframe\">\n",
              "  <thead>\n",
              "    <tr style=\"text-align: right;\">\n",
              "      <th></th>\n",
              "      <th>User-ID</th>\n",
              "      <th>ISBN</th>\n",
              "      <th>Book-Rating</th>\n",
              "      <th>Book-Title</th>\n",
              "      <th>Book-Author</th>\n",
              "      <th>Year-Of-Publication</th>\n",
              "      <th>Publisher</th>\n",
              "      <th>new_title</th>\n",
              "      <th>Location</th>\n",
              "      <th>Age</th>\n",
              "      <th>age_bins</th>\n",
              "      <th>Rating-Count</th>\n",
              "      <th>Rating-Mean</th>\n",
              "    </tr>\n",
              "  </thead>\n",
              "  <tbody>\n",
              "    <tr>\n",
              "      <th>0</th>\n",
              "      <td>276725</td>\n",
              "      <td>034545104X</td>\n",
              "      <td>0</td>\n",
              "      <td>Flesh Tones: A Novel</td>\n",
              "      <td>M. J. Rose</td>\n",
              "      <td>2002</td>\n",
              "      <td>Ballantine Books</td>\n",
              "      <td>Flesh Tones: A Novel by M. J. Rose</td>\n",
              "      <td>usa</td>\n",
              "      <td>22</td>\n",
              "      <td>NaN</td>\n",
              "      <td>60</td>\n",
              "      <td>2.93</td>\n",
              "    </tr>\n",
              "    <tr>\n",
              "      <th>1</th>\n",
              "      <td>2313</td>\n",
              "      <td>034545104X</td>\n",
              "      <td>5</td>\n",
              "      <td>Flesh Tones: A Novel</td>\n",
              "      <td>M. J. Rose</td>\n",
              "      <td>2002</td>\n",
              "      <td>Ballantine Books</td>\n",
              "      <td>Flesh Tones: A Novel by M. J. Rose</td>\n",
              "      <td>usa</td>\n",
              "      <td>23</td>\n",
              "      <td>Adult</td>\n",
              "      <td>60</td>\n",
              "      <td>2.93</td>\n",
              "    </tr>\n",
              "    <tr>\n",
              "      <th>2</th>\n",
              "      <td>6543</td>\n",
              "      <td>034545104X</td>\n",
              "      <td>0</td>\n",
              "      <td>Flesh Tones: A Novel</td>\n",
              "      <td>M. J. Rose</td>\n",
              "      <td>2002</td>\n",
              "      <td>Ballantine Books</td>\n",
              "      <td>Flesh Tones: A Novel by M. J. Rose</td>\n",
              "      <td>usa</td>\n",
              "      <td>34</td>\n",
              "      <td>Adult</td>\n",
              "      <td>60</td>\n",
              "      <td>2.93</td>\n",
              "    </tr>\n",
              "    <tr>\n",
              "      <th>3</th>\n",
              "      <td>8680</td>\n",
              "      <td>034545104X</td>\n",
              "      <td>5</td>\n",
              "      <td>Flesh Tones: A Novel</td>\n",
              "      <td>M. J. Rose</td>\n",
              "      <td>2002</td>\n",
              "      <td>Ballantine Books</td>\n",
              "      <td>Flesh Tones: A Novel by M. J. Rose</td>\n",
              "      <td>usa</td>\n",
              "      <td>2</td>\n",
              "      <td>Kid</td>\n",
              "      <td>60</td>\n",
              "      <td>2.93</td>\n",
              "    </tr>\n",
              "    <tr>\n",
              "      <th>4</th>\n",
              "      <td>10314</td>\n",
              "      <td>034545104X</td>\n",
              "      <td>9</td>\n",
              "      <td>Flesh Tones: A Novel</td>\n",
              "      <td>M. J. Rose</td>\n",
              "      <td>2002</td>\n",
              "      <td>Ballantine Books</td>\n",
              "      <td>Flesh Tones: A Novel by M. J. Rose</td>\n",
              "      <td>usa</td>\n",
              "      <td>25</td>\n",
              "      <td>NaN</td>\n",
              "      <td>60</td>\n",
              "      <td>2.93</td>\n",
              "    </tr>\n",
              "    <tr>\n",
              "      <th>...</th>\n",
              "      <td>...</td>\n",
              "      <td>...</td>\n",
              "      <td>...</td>\n",
              "      <td>...</td>\n",
              "      <td>...</td>\n",
              "      <td>...</td>\n",
              "      <td>...</td>\n",
              "      <td>...</td>\n",
              "      <td>...</td>\n",
              "      <td>...</td>\n",
              "      <td>...</td>\n",
              "      <td>...</td>\n",
              "      <td>...</td>\n",
              "    </tr>\n",
              "    <tr>\n",
              "      <th>916928</th>\n",
              "      <td>276618</td>\n",
              "      <td>3788097000</td>\n",
              "      <td>5</td>\n",
              "      <td>Ludwig Marum: Briefe aus dem Konzentrationslag...</td>\n",
              "      <td>Ludwig Marum</td>\n",
              "      <td>1984</td>\n",
              "      <td>C.F. MÃ¼ller</td>\n",
              "      <td>Ludwig Marum: Briefe aus dem Konzentrationslag...</td>\n",
              "      <td>germany\"</td>\n",
              "      <td>27</td>\n",
              "      <td>NaN</td>\n",
              "      <td>1</td>\n",
              "      <td>5.00</td>\n",
              "    </tr>\n",
              "    <tr>\n",
              "      <th>916929</th>\n",
              "      <td>276647</td>\n",
              "      <td>0553571001</td>\n",
              "      <td>0</td>\n",
              "      <td>Christmas With Anne and Other Holiday Stories:...</td>\n",
              "      <td>L. M. Montgomery</td>\n",
              "      <td>2001</td>\n",
              "      <td>Starfire</td>\n",
              "      <td>Christmas With Anne and Other Holiday Stories:...</td>\n",
              "      <td>usa</td>\n",
              "      <td>13</td>\n",
              "      <td>Teenager</td>\n",
              "      <td>1</td>\n",
              "      <td>0.00</td>\n",
              "    </tr>\n",
              "    <tr>\n",
              "      <th>916930</th>\n",
              "      <td>276647</td>\n",
              "      <td>0689822294</td>\n",
              "      <td>10</td>\n",
              "      <td>Heaven (Coretta Scott King Author Award Winner)</td>\n",
              "      <td>Angela Johnson</td>\n",
              "      <td>1998</td>\n",
              "      <td>Simon &amp;amp; Schuster Children's Publishing</td>\n",
              "      <td>Heaven (Coretta Scott King Author Award Winner...</td>\n",
              "      <td>usa</td>\n",
              "      <td>13</td>\n",
              "      <td>Teenager</td>\n",
              "      <td>1</td>\n",
              "      <td>10.00</td>\n",
              "    </tr>\n",
              "    <tr>\n",
              "      <th>916931</th>\n",
              "      <td>276660</td>\n",
              "      <td>0583307841</td>\n",
              "      <td>8</td>\n",
              "      <td>ROBOT RACE (MICRO ADV 6)</td>\n",
              "      <td>David Antony Kroft</td>\n",
              "      <td>1985</td>\n",
              "      <td>HarperCollins Publishers</td>\n",
              "      <td>ROBOT RACE (MICRO ADV 6) by David Antony Kroft</td>\n",
              "      <td>singapore</td>\n",
              "      <td>15</td>\n",
              "      <td>Teenager</td>\n",
              "      <td>1</td>\n",
              "      <td>8.00</td>\n",
              "    </tr>\n",
              "    <tr>\n",
              "      <th>916932</th>\n",
              "      <td>276672</td>\n",
              "      <td>0752834096</td>\n",
              "      <td>5</td>\n",
              "      <td>Dry Rot And Daffodils/Ne</td>\n",
              "      <td>Mary MacKie</td>\n",
              "      <td>2000</td>\n",
              "      <td>Trafalgar Square</td>\n",
              "      <td>Dry Rot And Daffodils/Ne by Mary MacKie</td>\n",
              "      <td>united kingdom</td>\n",
              "      <td>34</td>\n",
              "      <td>NaN</td>\n",
              "      <td>1</td>\n",
              "      <td>5.00</td>\n",
              "    </tr>\n",
              "  </tbody>\n",
              "</table>\n",
              "<p>916933 rows × 13 columns</p>\n",
              "</div>\n",
              "      <button class=\"colab-df-convert\" onclick=\"convertToInteractive('df-325ede58-928d-49fc-8ca5-14fb55084787')\"\n",
              "              title=\"Convert this dataframe to an interactive table.\"\n",
              "              style=\"display:none;\">\n",
              "        \n",
              "  <svg xmlns=\"http://www.w3.org/2000/svg\" height=\"24px\"viewBox=\"0 0 24 24\"\n",
              "       width=\"24px\">\n",
              "    <path d=\"M0 0h24v24H0V0z\" fill=\"none\"/>\n",
              "    <path d=\"M18.56 5.44l.94 2.06.94-2.06 2.06-.94-2.06-.94-.94-2.06-.94 2.06-2.06.94zm-11 1L8.5 8.5l.94-2.06 2.06-.94-2.06-.94L8.5 2.5l-.94 2.06-2.06.94zm10 10l.94 2.06.94-2.06 2.06-.94-2.06-.94-.94-2.06-.94 2.06-2.06.94z\"/><path d=\"M17.41 7.96l-1.37-1.37c-.4-.4-.92-.59-1.43-.59-.52 0-1.04.2-1.43.59L10.3 9.45l-7.72 7.72c-.78.78-.78 2.05 0 2.83L4 21.41c.39.39.9.59 1.41.59.51 0 1.02-.2 1.41-.59l7.78-7.78 2.81-2.81c.8-.78.8-2.07 0-2.86zM5.41 20L4 18.59l7.72-7.72 1.47 1.35L5.41 20z\"/>\n",
              "  </svg>\n",
              "      </button>\n",
              "      \n",
              "  <style>\n",
              "    .colab-df-container {\n",
              "      display:flex;\n",
              "      flex-wrap:wrap;\n",
              "      gap: 12px;\n",
              "    }\n",
              "\n",
              "    .colab-df-convert {\n",
              "      background-color: #E8F0FE;\n",
              "      border: none;\n",
              "      border-radius: 50%;\n",
              "      cursor: pointer;\n",
              "      display: none;\n",
              "      fill: #1967D2;\n",
              "      height: 32px;\n",
              "      padding: 0 0 0 0;\n",
              "      width: 32px;\n",
              "    }\n",
              "\n",
              "    .colab-df-convert:hover {\n",
              "      background-color: #E2EBFA;\n",
              "      box-shadow: 0px 1px 2px rgba(60, 64, 67, 0.3), 0px 1px 3px 1px rgba(60, 64, 67, 0.15);\n",
              "      fill: #174EA6;\n",
              "    }\n",
              "\n",
              "    [theme=dark] .colab-df-convert {\n",
              "      background-color: #3B4455;\n",
              "      fill: #D2E3FC;\n",
              "    }\n",
              "\n",
              "    [theme=dark] .colab-df-convert:hover {\n",
              "      background-color: #434B5C;\n",
              "      box-shadow: 0px 1px 3px 1px rgba(0, 0, 0, 0.15);\n",
              "      filter: drop-shadow(0px 1px 2px rgba(0, 0, 0, 0.3));\n",
              "      fill: #FFFFFF;\n",
              "    }\n",
              "  </style>\n",
              "\n",
              "      <script>\n",
              "        const buttonEl =\n",
              "          document.querySelector('#df-325ede58-928d-49fc-8ca5-14fb55084787 button.colab-df-convert');\n",
              "        buttonEl.style.display =\n",
              "          google.colab.kernel.accessAllowed ? 'block' : 'none';\n",
              "\n",
              "        async function convertToInteractive(key) {\n",
              "          const element = document.querySelector('#df-325ede58-928d-49fc-8ca5-14fb55084787');\n",
              "          const dataTable =\n",
              "            await google.colab.kernel.invokeFunction('convertToInteractive',\n",
              "                                                     [key], {});\n",
              "          if (!dataTable) return;\n",
              "\n",
              "          const docLinkHtml = 'Like what you see? Visit the ' +\n",
              "            '<a target=\"_blank\" href=https://colab.research.google.com/notebooks/data_table.ipynb>data table notebook</a>'\n",
              "            + ' to learn more about interactive tables.';\n",
              "          element.innerHTML = '';\n",
              "          dataTable['output_type'] = 'display_data';\n",
              "          await google.colab.output.renderOutput(dataTable, element);\n",
              "          const docLink = document.createElement('div');\n",
              "          docLink.innerHTML = docLinkHtml;\n",
              "          element.appendChild(docLink);\n",
              "        }\n",
              "      </script>\n",
              "    </div>\n",
              "  </div>\n",
              "  "
            ]
          },
          "metadata": {},
          "execution_count": 177
        }
      ],
      "source": [
        "df_merged"
      ]
    },
    {
      "cell_type": "code",
      "execution_count": null,
      "metadata": {
        "colab": {
          "base_uri": "https://localhost:8080/"
        },
        "id": "jT2ncnih8Sh7",
        "outputId": "69e456cf-0804-4178-c8a5-61d4a3e0dfb0"
      },
      "outputs": [
        {
          "output_type": "execute_result",
          "data": {
            "text/plain": [
              "Location\n",
              " usa               660618\n",
              " canada             82214\n",
              " united kingdom     29795\n",
              " germany            26024\n",
              "                    21364\n",
              "Name: Book-Rating, dtype: int64"
            ]
          },
          "metadata": {},
          "execution_count": 178
        }
      ],
      "source": [
        "# Which country rates books the most\n",
        "b1 = df_merged.groupby('Location')['Book-Rating'].count().sort_values(ascending=False).head(5)\n",
        "b1"
      ]
    },
    {
      "cell_type": "code",
      "execution_count": null,
      "metadata": {
        "id": "afl2tBoPZ57A"
      },
      "outputs": [],
      "source": [
        "# Implicit ratings i.e. Book-Rating = 0\n",
        "b2 = df_merged[df_merged['Book-Rating']==0].\\\n",
        "groupby('Location')['Book-Rating'].count().sort_values(ascending=False).head(5)"
      ]
    },
    {
      "cell_type": "code",
      "execution_count": null,
      "metadata": {
        "colab": {
          "base_uri": "https://localhost:8080/",
          "height": 355
        },
        "id": "pVxN1MvUaLSj",
        "outputId": "0d730981-311e-4396-f2e7-3a9f47978e6d"
      },
      "outputs": [
        {
          "output_type": "display_data",
          "data": {
            "text/plain": [
              "<Figure size 720x360 with 1 Axes>"
            ],
            "image/png": "[encoded data removed]"
          },
          "metadata": {}
        }
      ],
      "source": [
        "# Bar plot for Rating comparison \n",
        "n= 5\n",
        "X_axis = np.arange(n)\n",
        "X = b1.index\n",
        "\n",
        "plt.figure(figsize=(10,5))  \n",
        "plt.bar(X_axis - 0.2, b1, 0.4, label = 'Total ratings')\n",
        "#plt.bar(X_axis + 0.2, b2, 0.4, label = 'Implicit atings')\n",
        "  \n",
        "plt.xticks(X_axis, X)\n",
        "plt.xlabel(\"Countries\")\n",
        "plt.ylabel(\"Number of ratings\")\n",
        "plt.title(\"Total ratings for top 5 countries in terms of ratings given\")\n",
        "plt.legend()\n",
        "plt.show()"
      ]
    },
    {
      "cell_type": "code",
      "execution_count": null,
      "metadata": {
        "id": "ZXNnY_JgWDVc"
      },
      "outputs": [],
      "source": [
        "# Most popular books for different age groups\n",
        "age_bin_df = df_merged.groupby(['age_bins','Book-Title'])['Book-Rating'].count().sort_values(ascending=False).reset_index()\n",
        "age_bin_df.rename(columns={'Book-Title':'Number of times rated'},inplace=True)"
      ]
    },
    {
      "cell_type": "markdown",
      "metadata": {
        "id": "VSEE685eqDeL"
      },
      "source": [
        "### **Note**: Users from each age category can be said to have some similar book preferences, we will later use Age as a relevance to recommend books for implicit ratings."
      ]
    },
    {
      "cell_type": "markdown",
      "metadata": {
        "id": "PsOC5kvXqKnF"
      },
      "source": [
        "# **4. Preparing the Data for Model Building.**"
      ]
    },
    {
      "cell_type": "markdown",
      "metadata": {
        "id": "uakjCcULrqx7"
      },
      "source": [
        "\n",
        "### Here the Year-Of-Publication is in object Dtype, it should ideally be in  numeric Dtype. Let us explore this feature a bit more."
      ]
    },
    {
      "cell_type": "markdown",
      "metadata": {
        "id": "9daLGxqwrqx8"
      },
      "source": [
        "## 1. Cleaning the Feature - Year of Publication"
      ]
    },
    {
      "cell_type": "code",
      "execution_count": null,
      "metadata": {
        "colab": {
          "base_uri": "https://localhost:8080/"
        },
        "id": "FoNXitg4rqx8",
        "outputId": "a2d66725-fb8b-45ad-b68e-cddfd584fccc"
      },
      "outputs": [
        {
          "output_type": "execute_result",
          "data": {
            "text/plain": [
              "array([2002, 1994, 1996, 1998, 2001, 1987, 1984, 1997, 1970,    0, 1978,\n",
              "       1993, 1989, 1995, 1990, 1957, 1992, 1950, 1991, 1999, 1954, 1988,\n",
              "       2003, 2004, 1977, 2000, 1983, 1985, 1986, 1982, 1956, 1979, 1976,\n",
              "       1981, 1980, 1974, 1958, 1960, 1963, 1969, 1971, 1973, 1972, 1961,\n",
              "       1953, 1962, 1937, 1968, 1959, 1955, 2005, 1975, 1965, 1920, 1943,\n",
              "       1964, 1967, 1927, 2020, 2050, 1952, 1966, 1930, 1940, 1942, 1946,\n",
              "       1947, 1925, 1923, 2030, 1936, 1928, 1941, 1951, 1901, 2011, 1939,\n",
              "       1945, 1932, 1902, 1929, 1911, 1949, 1926, 2026, 1906, 1806, 1933,\n",
              "       1935, 1938, 2006, 2037, 1948, 2099, 2038, 1900, 1904, 1924, 1378,\n",
              "       1934, 1944, 1931, 1376, 1908])"
            ]
          },
          "metadata": {},
          "execution_count": 182
        }
      ],
      "source": [
        "# Visually inspecting this feature by observing it's unique values.\n",
        "df_merged_updated['Year-Of-Publication'].unique()"
      ]
    },
    {
      "cell_type": "code",
      "execution_count": null,
      "metadata": {
        "colab": {
          "base_uri": "https://localhost:8080/",
          "height": 297
        },
        "id": "7xmFRweurqx9",
        "outputId": "d7242941-8336-4cc9-8009-81be0745c235"
      },
      "outputs": [
        {
          "output_type": "execute_result",
          "data": {
            "text/plain": [
              "   User-ID        ISBN  Book-Rating            Book-Title Book-Author  \\\n",
              "1     2313  034545104X            5  Flesh Tones: A Novel  M. J. Rose   \n",
              "3     8680  034545104X            5  Flesh Tones: A Novel  M. J. Rose   \n",
              "\n",
              "   Year-Of-Publication         Publisher                           new_title  \\\n",
              "1                 2002  Ballantine Books  Flesh Tones: A Novel by M. J. Rose   \n",
              "3                 2002  Ballantine Books  Flesh Tones: A Novel by M. J. Rose   \n",
              "\n",
              "  Location  Age age_bins  Rating-Count  Rating-Mean  \n",
              "1      usa   23    Adult            60         2.93  \n",
              "3      usa    2      Kid            60         2.93  "
            ],
            "text/html": [
              "\n",
              "  <div id=\"df-777829b3-01a3-4456-aa9d-1194a6c5b52e\">\n",
              "    <div class=\"colab-df-container\">\n",
              "      <div>\n",
              "<style scoped>\n",
              "    .dataframe tbody tr th:only-of-type {\n",
              "        vertical-align: middle;\n",
              "    }\n",
              "\n",
              "    .dataframe tbody tr th {\n",
              "        vertical-align: top;\n",
              "    }\n",
              "\n",
              "    .dataframe thead th {\n",
              "        text-align: right;\n",
              "    }\n",
              "</style>\n",
              "<table border=\"1\" class=\"dataframe\">\n",
              "  <thead>\n",
              "    <tr style=\"text-align: right;\">\n",
              "      <th></th>\n",
              "      <th>User-ID</th>\n",
              "      <th>ISBN</th>\n",
              "      <th>Book-Rating</th>\n",
              "      <th>Book-Title</th>\n",
              "      <th>Book-Author</th>\n",
              "      <th>Year-Of-Publication</th>\n",
              "      <th>Publisher</th>\n",
              "      <th>new_title</th>\n",
              "      <th>Location</th>\n",
              "      <th>Age</th>\n",
              "      <th>age_bins</th>\n",
              "      <th>Rating-Count</th>\n",
              "      <th>Rating-Mean</th>\n",
              "    </tr>\n",
              "  </thead>\n",
              "  <tbody>\n",
              "    <tr>\n",
              "      <th>1</th>\n",
              "      <td>2313</td>\n",
              "      <td>034545104X</td>\n",
              "      <td>5</td>\n",
              "      <td>Flesh Tones: A Novel</td>\n",
              "      <td>M. J. Rose</td>\n",
              "      <td>2002</td>\n",
              "      <td>Ballantine Books</td>\n",
              "      <td>Flesh Tones: A Novel by M. J. Rose</td>\n",
              "      <td>usa</td>\n",
              "      <td>23</td>\n",
              "      <td>Adult</td>\n",
              "      <td>60</td>\n",
              "      <td>2.93</td>\n",
              "    </tr>\n",
              "    <tr>\n",
              "      <th>3</th>\n",
              "      <td>8680</td>\n",
              "      <td>034545104X</td>\n",
              "      <td>5</td>\n",
              "      <td>Flesh Tones: A Novel</td>\n",
              "      <td>M. J. Rose</td>\n",
              "      <td>2002</td>\n",
              "      <td>Ballantine Books</td>\n",
              "      <td>Flesh Tones: A Novel by M. J. Rose</td>\n",
              "      <td>usa</td>\n",
              "      <td>2</td>\n",
              "      <td>Kid</td>\n",
              "      <td>60</td>\n",
              "      <td>2.93</td>\n",
              "    </tr>\n",
              "  </tbody>\n",
              "</table>\n",
              "</div>\n",
              "      <button class=\"colab-df-convert\" onclick=\"convertToInteractive('df-777829b3-01a3-4456-aa9d-1194a6c5b52e')\"\n",
              "              title=\"Convert this dataframe to an interactive table.\"\n",
              "              style=\"display:none;\">\n",
              "        \n",
              "  <svg xmlns=\"http://www.w3.org/2000/svg\" height=\"24px\"viewBox=\"0 0 24 24\"\n",
              "       width=\"24px\">\n",
              "    <path d=\"M0 0h24v24H0V0z\" fill=\"none\"/>\n",
              "    <path d=\"M18.56 5.44l.94 2.06.94-2.06 2.06-.94-2.06-.94-.94-2.06-.94 2.06-2.06.94zm-11 1L8.5 8.5l.94-2.06 2.06-.94-2.06-.94L8.5 2.5l-.94 2.06-2.06.94zm10 10l.94 2.06.94-2.06 2.06-.94-2.06-.94-.94-2.06-.94 2.06-2.06.94z\"/><path d=\"M17.41 7.96l-1.37-1.37c-.4-.4-.92-.59-1.43-.59-.52 0-1.04.2-1.43.59L10.3 9.45l-7.72 7.72c-.78.78-.78 2.05 0 2.83L4 21.41c.39.39.9.59 1.41.59.51 0 1.02-.2 1.41-.59l7.78-7.78 2.81-2.81c.8-.78.8-2.07 0-2.86zM5.41 20L4 18.59l7.72-7.72 1.47 1.35L5.41 20z\"/>\n",
              "  </svg>\n",
              "      </button>\n",
              "      \n",
              "  <style>\n",
              "    .colab-df-container {\n",
              "      display:flex;\n",
              "      flex-wrap:wrap;\n",
              "      gap: 12px;\n",
              "    }\n",
              "\n",
              "    .colab-df-convert {\n",
              "      background-color: #E8F0FE;\n",
              "      border: none;\n",
              "      border-radius: 50%;\n",
              "      cursor: pointer;\n",
              "      display: none;\n",
              "      fill: #1967D2;\n",
              "      height: 32px;\n",
              "      padding: 0 0 0 0;\n",
              "      width: 32px;\n",
              "    }\n",
              "\n",
              "    .colab-df-convert:hover {\n",
              "      background-color: #E2EBFA;\n",
              "      box-shadow: 0px 1px 2px rgba(60, 64, 67, 0.3), 0px 1px 3px 1px rgba(60, 64, 67, 0.15);\n",
              "      fill: #174EA6;\n",
              "    }\n",
              "\n",
              "    [theme=dark] .colab-df-convert {\n",
              "      background-color: #3B4455;\n",
              "      fill: #D2E3FC;\n",
              "    }\n",
              "\n",
              "    [theme=dark] .colab-df-convert:hover {\n",
              "      background-color: #434B5C;\n",
              "      box-shadow: 0px 1px 3px 1px rgba(0, 0, 0, 0.15);\n",
              "      filter: drop-shadow(0px 1px 2px rgba(0, 0, 0, 0.3));\n",
              "      fill: #FFFFFF;\n",
              "    }\n",
              "  </style>\n",
              "\n",
              "      <script>\n",
              "        const buttonEl =\n",
              "          document.querySelector('#df-777829b3-01a3-4456-aa9d-1194a6c5b52e button.colab-df-convert');\n",
              "        buttonEl.style.display =\n",
              "          google.colab.kernel.accessAllowed ? 'block' : 'none';\n",
              "\n",
              "        async function convertToInteractive(key) {\n",
              "          const element = document.querySelector('#df-777829b3-01a3-4456-aa9d-1194a6c5b52e');\n",
              "          const dataTable =\n",
              "            await google.colab.kernel.invokeFunction('convertToInteractive',\n",
              "                                                     [key], {});\n",
              "          if (!dataTable) return;\n",
              "\n",
              "          const docLinkHtml = 'Like what you see? Visit the ' +\n",
              "            '<a target=\"_blank\" href=https://colab.research.google.com/notebooks/data_table.ipynb>data table notebook</a>'\n",
              "            + ' to learn more about interactive tables.';\n",
              "          element.innerHTML = '';\n",
              "          dataTable['output_type'] = 'display_data';\n",
              "          await google.colab.output.renderOutput(dataTable, element);\n",
              "          const docLink = document.createElement('div');\n",
              "          docLink.innerHTML = docLinkHtml;\n",
              "          element.appendChild(docLink);\n",
              "        }\n",
              "      </script>\n",
              "    </div>\n",
              "  </div>\n",
              "  "
            ]
          },
          "metadata": {},
          "execution_count": 183
        }
      ],
      "source": [
        "# Removing all the integer Noice Values from the Dataset.\n",
        "df_merged_updated = df_merged_updated[(df_merged_updated['Year-Of-Publication']<=2006)]\n",
        "df_merged_updated.head(2)"
      ]
    },
    {
      "cell_type": "markdown",
      "metadata": {
        "id": "Kv_KS0rQsDlb"
      },
      "source": [
        "## 2. Selecting Books with Optimum Number of Ratings"
      ]
    },
    {
      "cell_type": "markdown",
      "metadata": {
        "id": "GYIoax-7saAS"
      },
      "source": [
        "* ##### Building any recommendation system requires a lot of data. Recommendations should be relevant otherwise they can cause a nuisance to the customers. \n",
        "* ##### So,set a threshold number of ratings per book in order to get optimal recommendations for our users."
      ]
    },
    {
      "cell_type": "code",
      "execution_count": null,
      "metadata": {
        "id": "Y3vqdb0328_J"
      },
      "outputs": [],
      "source": [
        "# counting the ratings per ISBN\n",
        "books_reduce=df_merged_updated.groupby(['ISBN'])['Book-Rating'].count().reset_index().sort_values('Book-Rating',ascending=False)"
      ]
    },
    {
      "cell_type": "code",
      "execution_count": null,
      "metadata": {
        "id": "NWFAbgAC28_K"
      },
      "outputs": [],
      "source": [
        "#Considering all the counts greater than 10\n",
        "reduced_books=books_reduce[books_reduce['Book-Rating']>10]['ISBN']"
      ]
    },
    {
      "cell_type": "code",
      "execution_count": null,
      "metadata": {
        "id": "ioc-JfGF28_K"
      },
      "outputs": [],
      "source": [
        "#merging it with the original dataset\n",
        "df_merged_updated=df_merged_updated.merge(reduced_books,how='inner',left_on='ISBN',right_on='ISBN')"
      ]
    },
    {
      "cell_type": "code",
      "execution_count": null,
      "metadata": {
        "colab": {
          "base_uri": "https://localhost:8080/"
        },
        "id": "HMHBX8ZO28_L",
        "outputId": "810f4c4c-0678-4072-c3cc-509e1eb4a2fc"
      },
      "outputs": [
        {
          "output_type": "execute_result",
          "data": {
            "text/plain": [
              "(112927, 13)"
            ]
          },
          "metadata": {},
          "execution_count": 187
        }
      ],
      "source": [
        "df_merged_updated.shape"
      ]
    },
    {
      "cell_type": "markdown",
      "metadata": {
        "id": "Rvq_7EMFMYOW"
      },
      "source": [
        "##Optimum Book reader\n",
        "\n",
        "*   ##### We can't take every user's rating at facevalue because if the user is a novice reader with only an experience of reading a couple of books, his/her ratings might not be much relevant for finding similarity among books.\n",
        "\n",
        "* ##### Therefore as a general rule of thumb we choosing only those User's who have rated atleast 10 Books for builing the recommendation system."
      ]
    },
    {
      "cell_type": "code",
      "execution_count": null,
      "metadata": {
        "id": "wAGSVgLlTP7z"
      },
      "outputs": [],
      "source": [
        "counts1 = df_merged_updated['User-ID'].value_counts()\n",
        "\n",
        "df_merged_updated= df_merged_updated[df_merged_updated['User-ID'].isin(counts1[counts1 >=10].index)].reset_index()\n",
        "df_merged_updated.drop(columns='index', inplace=True)"
      ]
    },
    {
      "cell_type": "code",
      "execution_count": null,
      "metadata": {
        "colab": {
          "base_uri": "https://localhost:8080/"
        },
        "id": "qYwdLlUXT-VB",
        "outputId": "97b30b86-6ebc-4caf-cfec-7c794dea99c6"
      },
      "outputs": [
        {
          "output_type": "execute_result",
          "data": {
            "text/plain": [
              "(51937, 13)"
            ]
          },
          "metadata": {},
          "execution_count": 189
        }
      ],
      "source": [
        "df_merged_updated.shape"
      ]
    },
    {
      "cell_type": "markdown",
      "metadata": {
        "id": "wYfwJ6LpyZZE"
      },
      "source": [
        "# **5. Building Models**"
      ]
    },
    {
      "cell_type": "markdown",
      "metadata": {
        "id": "a1LpfjG-tsCL"
      },
      "source": [
        "## **1. Recommendations Based upon Top 10 Books with the highest average rating (Explicit)**"
      ]
    },
    {
      "cell_type": "code",
      "execution_count": null,
      "metadata": {
        "colab": {
          "base_uri": "https://localhost:8080/",
          "height": 473
        },
        "id": "Aa4rDXVmgTj3",
        "outputId": "ee4e40cf-1e90-40cc-a504-159406868516"
      },
      "outputs": [
        {
          "output_type": "execute_result",
          "data": {
            "text/plain": [
              "                                                    Rating-Mean\n",
              "Book-Title                                                     \n",
              "The Blue Day Book: A Lesson in Cheering Yoursel...         9.18\n",
              "The Baby Book: Everything You Need to Know Abou...         8.46\n",
              "Die unendliche Geschichte: Von A bis Z                     8.07\n",
              "Free                                                       8.02\n",
              "Harry Potter y el cÃ¡liz de fuego                          7.88\n",
              "There's Treasure Everywhere--A Calvin and Hobbe...         7.88\n",
              "Warchild                                                   7.62\n",
              "Jesus Freaks: DC Talk and The Voice of the Mart...         7.53\n",
              "El Hobbit                                                  7.48\n",
              "A Night Without Armor : Poems                              7.25"
            ],
            "text/html": [
              "\n",
              "  <div id=\"df-615748cf-bf26-4978-8c3c-490fc04c988b\">\n",
              "    <div class=\"colab-df-container\">\n",
              "      <div>\n",
              "<style scoped>\n",
              "    .dataframe tbody tr th:only-of-type {\n",
              "        vertical-align: middle;\n",
              "    }\n",
              "\n",
              "    .dataframe tbody tr th {\n",
              "        vertical-align: top;\n",
              "    }\n",
              "\n",
              "    .dataframe thead th {\n",
              "        text-align: right;\n",
              "    }\n",
              "</style>\n",
              "<table border=\"1\" class=\"dataframe\">\n",
              "  <thead>\n",
              "    <tr style=\"text-align: right;\">\n",
              "      <th></th>\n",
              "      <th>Rating-Mean</th>\n",
              "    </tr>\n",
              "    <tr>\n",
              "      <th>Book-Title</th>\n",
              "      <th></th>\n",
              "    </tr>\n",
              "  </thead>\n",
              "  <tbody>\n",
              "    <tr>\n",
              "      <th>The Blue Day Book: A Lesson in Cheering Yourself Up</th>\n",
              "      <td>9.18</td>\n",
              "    </tr>\n",
              "    <tr>\n",
              "      <th>The Baby Book: Everything You Need to Know About Your Baby from Birth to Age Two</th>\n",
              "      <td>8.46</td>\n",
              "    </tr>\n",
              "    <tr>\n",
              "      <th>Die unendliche Geschichte: Von A bis Z</th>\n",
              "      <td>8.07</td>\n",
              "    </tr>\n",
              "    <tr>\n",
              "      <th>Free</th>\n",
              "      <td>8.02</td>\n",
              "    </tr>\n",
              "    <tr>\n",
              "      <th>Harry Potter y el cÃ¡liz de fuego</th>\n",
              "      <td>7.88</td>\n",
              "    </tr>\n",
              "    <tr>\n",
              "      <th>There's Treasure Everywhere--A Calvin and Hobbes Collection</th>\n",
              "      <td>7.88</td>\n",
              "    </tr>\n",
              "    <tr>\n",
              "      <th>Warchild</th>\n",
              "      <td>7.62</td>\n",
              "    </tr>\n",
              "    <tr>\n",
              "      <th>Jesus Freaks: DC Talk and The Voice of the Martyrs - Stories of Those Who Stood For Jesus, the Ultimate Jesus Freaks</th>\n",
              "      <td>7.53</td>\n",
              "    </tr>\n",
              "    <tr>\n",
              "      <th>El Hobbit</th>\n",
              "      <td>7.48</td>\n",
              "    </tr>\n",
              "    <tr>\n",
              "      <th>A Night Without Armor : Poems</th>\n",
              "      <td>7.25</td>\n",
              "    </tr>\n",
              "  </tbody>\n",
              "</table>\n",
              "</div>\n",
              "      <button class=\"colab-df-convert\" onclick=\"convertToInteractive('df-615748cf-bf26-4978-8c3c-490fc04c988b')\"\n",
              "              title=\"Convert this dataframe to an interactive table.\"\n",
              "              style=\"display:none;\">\n",
              "        \n",
              "  <svg xmlns=\"http://www.w3.org/2000/svg\" height=\"24px\"viewBox=\"0 0 24 24\"\n",
              "       width=\"24px\">\n",
              "    <path d=\"M0 0h24v24H0V0z\" fill=\"none\"/>\n",
              "    <path d=\"M18.56 5.44l.94 2.06.94-2.06 2.06-.94-2.06-.94-.94-2.06-.94 2.06-2.06.94zm-11 1L8.5 8.5l.94-2.06 2.06-.94-2.06-.94L8.5 2.5l-.94 2.06-2.06.94zm10 10l.94 2.06.94-2.06 2.06-.94-2.06-.94-.94-2.06-.94 2.06-2.06.94z\"/><path d=\"M17.41 7.96l-1.37-1.37c-.4-.4-.92-.59-1.43-.59-.52 0-1.04.2-1.43.59L10.3 9.45l-7.72 7.72c-.78.78-.78 2.05 0 2.83L4 21.41c.39.39.9.59 1.41.59.51 0 1.02-.2 1.41-.59l7.78-7.78 2.81-2.81c.8-.78.8-2.07 0-2.86zM5.41 20L4 18.59l7.72-7.72 1.47 1.35L5.41 20z\"/>\n",
              "  </svg>\n",
              "      </button>\n",
              "      \n",
              "  <style>\n",
              "    .colab-df-container {\n",
              "      display:flex;\n",
              "      flex-wrap:wrap;\n",
              "      gap: 12px;\n",
              "    }\n",
              "\n",
              "    .colab-df-convert {\n",
              "      background-color: #E8F0FE;\n",
              "      border: none;\n",
              "      border-radius: 50%;\n",
              "      cursor: pointer;\n",
              "      display: none;\n",
              "      fill: #1967D2;\n",
              "      height: 32px;\n",
              "      padding: 0 0 0 0;\n",
              "      width: 32px;\n",
              "    }\n",
              "\n",
              "    .colab-df-convert:hover {\n",
              "      background-color: #E2EBFA;\n",
              "      box-shadow: 0px 1px 2px rgba(60, 64, 67, 0.3), 0px 1px 3px 1px rgba(60, 64, 67, 0.15);\n",
              "      fill: #174EA6;\n",
              "    }\n",
              "\n",
              "    [theme=dark] .colab-df-convert {\n",
              "      background-color: #3B4455;\n",
              "      fill: #D2E3FC;\n",
              "    }\n",
              "\n",
              "    [theme=dark] .colab-df-convert:hover {\n",
              "      background-color: #434B5C;\n",
              "      box-shadow: 0px 1px 3px 1px rgba(0, 0, 0, 0.15);\n",
              "      filter: drop-shadow(0px 1px 2px rgba(0, 0, 0, 0.3));\n",
              "      fill: #FFFFFF;\n",
              "    }\n",
              "  </style>\n",
              "\n",
              "      <script>\n",
              "        const buttonEl =\n",
              "          document.querySelector('#df-615748cf-bf26-4978-8c3c-490fc04c988b button.colab-df-convert');\n",
              "        buttonEl.style.display =\n",
              "          google.colab.kernel.accessAllowed ? 'block' : 'none';\n",
              "\n",
              "        async function convertToInteractive(key) {\n",
              "          const element = document.querySelector('#df-615748cf-bf26-4978-8c3c-490fc04c988b');\n",
              "          const dataTable =\n",
              "            await google.colab.kernel.invokeFunction('convertToInteractive',\n",
              "                                                     [key], {});\n",
              "          if (!dataTable) return;\n",
              "\n",
              "          const docLinkHtml = 'Like what you see? Visit the ' +\n",
              "            '<a target=\"_blank\" href=https://colab.research.google.com/notebooks/data_table.ipynb>data table notebook</a>'\n",
              "            + ' to learn more about interactive tables.';\n",
              "          element.innerHTML = '';\n",
              "          dataTable['output_type'] = 'display_data';\n",
              "          await google.colab.output.renderOutput(dataTable, element);\n",
              "          const docLink = document.createElement('div');\n",
              "          docLink.innerHTML = docLinkHtml;\n",
              "          element.appendChild(docLink);\n",
              "        }\n",
              "      </script>\n",
              "    </div>\n",
              "  </div>\n",
              "  "
            ]
          },
          "metadata": {},
          "execution_count": 190
        }
      ],
      "source": [
        "# top 10 rated books based on the Rating-Mean colummn\n",
        "top_rated = df_merged_updated[['Book-Title', 'Rating-Mean']]\n",
        "top_rated = top_rated.groupby(['Book-Title'])['Rating-Mean'].mean().to_frame()\n",
        "top_rated.sort_values(by='Rating-Mean', ascending=False).head(10)"
      ]
    },
    {
      "cell_type": "code",
      "execution_count": null,
      "metadata": {
        "id": "XHnMCnfLyihe"
      },
      "outputs": [],
      "source": [
        "df_data = df_merged_updated.copy(deep=True)"
      ]
    },
    {
      "cell_type": "code",
      "execution_count": null,
      "metadata": {
        "id": "5kE6z9xfumII"
      },
      "outputs": [],
      "source": [
        "df_data['Score'] = df_merged_updated.apply(weighted_rating, axis=1)"
      ]
    },
    {
      "cell_type": "markdown",
      "metadata": {
        "id": "ifUZxuMqaJMZ"
      },
      "source": []
    },
    {
      "cell_type": "code",
      "execution_count": null,
      "metadata": {
        "id": "nYL-DDq48JPW"
      },
      "outputs": [],
      "source": [
        "#df_Knn.drop(columns=['Book-Title','Title-Lenght','age_bins'],inplace=True)"
      ]
    },
    {
      "cell_type": "code",
      "execution_count": null,
      "metadata": {
        "id": "TGMwQyuDWF8n"
      },
      "outputs": [],
      "source": [
        "# Dropping the columns that aren't much useful for KNN recommendation system.\n",
        "df_data.drop(columns=['ISBN',\t'Book-Author',\t'Year-Of-Publication',\t'Publisher','Age','Location', 'Book-Rating', 'Rating-Count', 'Rating-Mean','Book-Title','age_bins'], inplace=True)"
      ]
    },
    {
      "cell_type": "code",
      "execution_count": null,
      "metadata": {
        "colab": {
          "base_uri": "https://localhost:8080/",
          "height": 423
        },
        "id": "awTnSwuGY5lY",
        "outputId": "fe2a7ce4-7d4d-4f76-a90d-57933bbfce7d"
      },
      "outputs": [
        {
          "output_type": "execute_result",
          "data": {
            "text/plain": [
              "       User-ID                                          new_title     Score\n",
              "0         2313                 Flesh Tones: A Novel by M. J. Rose  2.912574\n",
              "1        10314                 Flesh Tones: A Novel by M. J. Rose  2.912574\n",
              "2        77480                 Flesh Tones: A Novel by M. J. Rose  2.912574\n",
              "3        98391                 Flesh Tones: A Novel by M. J. Rose  2.912574\n",
              "4       115435                 Flesh Tones: A Novel by M. J. Rose  2.912574\n",
              "...        ...                                                ...       ...\n",
              "51932   238864  Clear Your Clutter and Feng Shui Your Life by ...  4.145615\n",
              "51933   179826                                 Whit by Iain Banks  3.494862\n",
              "51934    23902                                 Whit by Iain Banks  3.494862\n",
              "51935   106893                                 Whit by Iain Banks  3.494862\n",
              "51936   100644        High Fidelity. (Dt. Ausgabe) by Nick Hornby  4.572512\n",
              "\n",
              "[51937 rows x 3 columns]"
            ],
            "text/html": [
              "\n",
              "  <div id=\"df-a65f1e70-9e43-4e33-a7cf-2bd205727fd6\">\n",
              "    <div class=\"colab-df-container\">\n",
              "      <div>\n",
              "<style scoped>\n",
              "    .dataframe tbody tr th:only-of-type {\n",
              "        vertical-align: middle;\n",
              "    }\n",
              "\n",
              "    .dataframe tbody tr th {\n",
              "        vertical-align: top;\n",
              "    }\n",
              "\n",
              "    .dataframe thead th {\n",
              "        text-align: right;\n",
              "    }\n",
              "</style>\n",
              "<table border=\"1\" class=\"dataframe\">\n",
              "  <thead>\n",
              "    <tr style=\"text-align: right;\">\n",
              "      <th></th>\n",
              "      <th>User-ID</th>\n",
              "      <th>new_title</th>\n",
              "      <th>Score</th>\n",
              "    </tr>\n",
              "  </thead>\n",
              "  <tbody>\n",
              "    <tr>\n",
              "      <th>0</th>\n",
              "      <td>2313</td>\n",
              "      <td>Flesh Tones: A Novel by M. J. Rose</td>\n",
              "      <td>2.912574</td>\n",
              "    </tr>\n",
              "    <tr>\n",
              "      <th>1</th>\n",
              "      <td>10314</td>\n",
              "      <td>Flesh Tones: A Novel by M. J. Rose</td>\n",
              "      <td>2.912574</td>\n",
              "    </tr>\n",
              "    <tr>\n",
              "      <th>2</th>\n",
              "      <td>77480</td>\n",
              "      <td>Flesh Tones: A Novel by M. J. Rose</td>\n",
              "      <td>2.912574</td>\n",
              "    </tr>\n",
              "    <tr>\n",
              "      <th>3</th>\n",
              "      <td>98391</td>\n",
              "      <td>Flesh Tones: A Novel by M. J. Rose</td>\n",
              "      <td>2.912574</td>\n",
              "    </tr>\n",
              "    <tr>\n",
              "      <th>4</th>\n",
              "      <td>115435</td>\n",
              "      <td>Flesh Tones: A Novel by M. J. Rose</td>\n",
              "      <td>2.912574</td>\n",
              "    </tr>\n",
              "    <tr>\n",
              "      <th>...</th>\n",
              "      <td>...</td>\n",
              "      <td>...</td>\n",
              "      <td>...</td>\n",
              "    </tr>\n",
              "    <tr>\n",
              "      <th>51932</th>\n",
              "      <td>238864</td>\n",
              "      <td>Clear Your Clutter and Feng Shui Your Life by ...</td>\n",
              "      <td>4.145615</td>\n",
              "    </tr>\n",
              "    <tr>\n",
              "      <th>51933</th>\n",
              "      <td>179826</td>\n",
              "      <td>Whit by Iain Banks</td>\n",
              "      <td>3.494862</td>\n",
              "    </tr>\n",
              "    <tr>\n",
              "      <th>51934</th>\n",
              "      <td>23902</td>\n",
              "      <td>Whit by Iain Banks</td>\n",
              "      <td>3.494862</td>\n",
              "    </tr>\n",
              "    <tr>\n",
              "      <th>51935</th>\n",
              "      <td>106893</td>\n",
              "      <td>Whit by Iain Banks</td>\n",
              "      <td>3.494862</td>\n",
              "    </tr>\n",
              "    <tr>\n",
              "      <th>51936</th>\n",
              "      <td>100644</td>\n",
              "      <td>High Fidelity. (Dt. Ausgabe) by Nick Hornby</td>\n",
              "      <td>4.572512</td>\n",
              "    </tr>\n",
              "  </tbody>\n",
              "</table>\n",
              "<p>51937 rows × 3 columns</p>\n",
              "</div>\n",
              "      <button class=\"colab-df-convert\" onclick=\"convertToInteractive('df-a65f1e70-9e43-4e33-a7cf-2bd205727fd6')\"\n",
              "              title=\"Convert this dataframe to an interactive table.\"\n",
              "              style=\"display:none;\">\n",
              "        \n",
              "  <svg xmlns=\"http://www.w3.org/2000/svg\" height=\"24px\"viewBox=\"0 0 24 24\"\n",
              "       width=\"24px\">\n",
              "    <path d=\"M0 0h24v24H0V0z\" fill=\"none\"/>\n",
              "    <path d=\"M18.56 5.44l.94 2.06.94-2.06 2.06-.94-2.06-.94-.94-2.06-.94 2.06-2.06.94zm-11 1L8.5 8.5l.94-2.06 2.06-.94-2.06-.94L8.5 2.5l-.94 2.06-2.06.94zm10 10l.94 2.06.94-2.06 2.06-.94-2.06-.94-.94-2.06-.94 2.06-2.06.94z\"/><path d=\"M17.41 7.96l-1.37-1.37c-.4-.4-.92-.59-1.43-.59-.52 0-1.04.2-1.43.59L10.3 9.45l-7.72 7.72c-.78.78-.78 2.05 0 2.83L4 21.41c.39.39.9.59 1.41.59.51 0 1.02-.2 1.41-.59l7.78-7.78 2.81-2.81c.8-.78.8-2.07 0-2.86zM5.41 20L4 18.59l7.72-7.72 1.47 1.35L5.41 20z\"/>\n",
              "  </svg>\n",
              "      </button>\n",
              "      \n",
              "  <style>\n",
              "    .colab-df-container {\n",
              "      display:flex;\n",
              "      flex-wrap:wrap;\n",
              "      gap: 12px;\n",
              "    }\n",
              "\n",
              "    .colab-df-convert {\n",
              "      background-color: #E8F0FE;\n",
              "      border: none;\n",
              "      border-radius: 50%;\n",
              "      cursor: pointer;\n",
              "      display: none;\n",
              "      fill: #1967D2;\n",
              "      height: 32px;\n",
              "      padding: 0 0 0 0;\n",
              "      width: 32px;\n",
              "    }\n",
              "\n",
              "    .colab-df-convert:hover {\n",
              "      background-color: #E2EBFA;\n",
              "      box-shadow: 0px 1px 2px rgba(60, 64, 67, 0.3), 0px 1px 3px 1px rgba(60, 64, 67, 0.15);\n",
              "      fill: #174EA6;\n",
              "    }\n",
              "\n",
              "    [theme=dark] .colab-df-convert {\n",
              "      background-color: #3B4455;\n",
              "      fill: #D2E3FC;\n",
              "    }\n",
              "\n",
              "    [theme=dark] .colab-df-convert:hover {\n",
              "      background-color: #434B5C;\n",
              "      box-shadow: 0px 1px 3px 1px rgba(0, 0, 0, 0.15);\n",
              "      filter: drop-shadow(0px 1px 2px rgba(0, 0, 0, 0.3));\n",
              "      fill: #FFFFFF;\n",
              "    }\n",
              "  </style>\n",
              "\n",
              "      <script>\n",
              "        const buttonEl =\n",
              "          document.querySelector('#df-a65f1e70-9e43-4e33-a7cf-2bd205727fd6 button.colab-df-convert');\n",
              "        buttonEl.style.display =\n",
              "          google.colab.kernel.accessAllowed ? 'block' : 'none';\n",
              "\n",
              "        async function convertToInteractive(key) {\n",
              "          const element = document.querySelector('#df-a65f1e70-9e43-4e33-a7cf-2bd205727fd6');\n",
              "          const dataTable =\n",
              "            await google.colab.kernel.invokeFunction('convertToInteractive',\n",
              "                                                     [key], {});\n",
              "          if (!dataTable) return;\n",
              "\n",
              "          const docLinkHtml = 'Like what you see? Visit the ' +\n",
              "            '<a target=\"_blank\" href=https://colab.research.google.com/notebooks/data_table.ipynb>data table notebook</a>'\n",
              "            + ' to learn more about interactive tables.';\n",
              "          element.innerHTML = '';\n",
              "          dataTable['output_type'] = 'display_data';\n",
              "          await google.colab.output.renderOutput(dataTable, element);\n",
              "          const docLink = document.createElement('div');\n",
              "          docLink.innerHTML = docLinkHtml;\n",
              "          element.appendChild(docLink);\n",
              "        }\n",
              "      </script>\n",
              "    </div>\n",
              "  </div>\n",
              "  "
            ]
          },
          "metadata": {},
          "execution_count": 195
        }
      ],
      "source": [
        "df_data"
      ]
    },
    {
      "cell_type": "code",
      "execution_count": null,
      "metadata": {
        "colab": {
          "base_uri": "https://localhost:8080/"
        },
        "id": "bjk6D1KpbD0l",
        "outputId": "d67b5927-e975-4a1b-eca1-58c82b7a5caf"
      },
      "outputs": [
        {
          "output_type": "stream",
          "name": "stdout",
          "text": [
            "Looking in indexes: https://pypi.org/simple, https://us-python.pkg.dev/colab-wheels/public/simple/\n",
            "Requirement already satisfied: surprise in /usr/local/lib/python3.7/dist-packages (0.1)\n",
            "Requirement already satisfied: scikit-surprise in /usr/local/lib/python3.7/dist-packages (from surprise) (1.1.1)\n",
            "Requirement already satisfied: six>=1.10.0 in /usr/local/lib/python3.7/dist-packages (from scikit-surprise->surprise) (1.15.0)\n",
            "Requirement already satisfied: joblib>=0.11 in /usr/local/lib/python3.7/dist-packages (from scikit-surprise->surprise) (1.1.0)\n",
            "Requirement already satisfied: scipy>=1.0.0 in /usr/local/lib/python3.7/dist-packages (from scikit-surprise->surprise) (1.7.3)\n",
            "Requirement already satisfied: numpy>=1.11.2 in /usr/local/lib/python3.7/dist-packages (from scikit-surprise->surprise) (1.21.6)\n"
          ]
        }
      ],
      "source": [
        "pip install surprise"
      ]
    },
    {
      "cell_type": "code",
      "execution_count": null,
      "metadata": {
        "id": "_o2t8bvLaXaN"
      },
      "outputs": [],
      "source": [
        "\n",
        "import matplotlib.pyplot as plt\n",
        "%matplotlib inline\n",
        "\n",
        "from datetime import datetime\n",
        "import os\n",
        "import pandas as pd\n",
        "import numpy as np\n",
        "from surprise import Reader\n",
        "from surprise import Dataset\n",
        "from surprise.model_selection import KFold\n",
        "from surprise.model_selection import cross_validate\n",
        "from surprise import NormalPredictor\n",
        "from surprise import KNNBasic, KNNWithMeans, KNNWithZScore\n",
        "from surprise import SVD, SVDpp, NMF\n",
        "from surprise import NMF\n",
        "from surprise import SlopeOne\n",
        "from surprise import CoClustering\n",
        "from surprise.accuracy import rmse\n",
        "from surprise import accuracy\n",
        "from surprise.model_selection import train_test_split\n",
        "from surprise.model_selection import GridSearchCV\n",
        "from collections import defaultdict"
      ]
    },
    {
      "cell_type": "code",
      "execution_count": null,
      "metadata": {
        "id": "pFsK_PCJab20"
      },
      "outputs": [],
      "source": [
        "rts_gp = df_data.groupby(by=['Score']).agg({'User-ID': 'count'}).reset_index()\n",
        "rts_gp.columns = ['Score', 'Count']"
      ]
    },
    {
      "cell_type": "code",
      "execution_count": null,
      "metadata": {
        "id": "S06yynS3bVFA"
      },
      "outputs": [],
      "source": [
        "# Set Rating Scale\n",
        "reader = Reader(rating_scale=(0.5, 5))\n",
        "\n",
        "# Load data with rating scale\n",
        "data = Dataset.load_from_df(df_data[['User-ID', 'new_title', 'Score']], reader)"
      ]
    },
    {
      "cell_type": "markdown",
      "metadata": {
        "id": "PiIWuFQlbx6-"
      },
      "source": [
        "#Evaluation with various Algorithms available in Surprise\n",
        "###k-NN Based Algorithms\n",
        "####KNNBasic, KNNWithMeans and KNNWithZScore"
      ]
    },
    {
      "cell_type": "code",
      "execution_count": null,
      "metadata": {
        "id": "zGtitkhabuMU"
      },
      "outputs": [],
      "source": [
        "knnbasic_cv = cross_validate(KNNBasic(), data, cv=5, n_jobs=5, verbose=False)\n",
        "knnmeans_cv = cross_validate(KNNWithMeans(), data, cv=5, n_jobs=5, verbose=False)\n",
        "knnz_cv = cross_validate(KNNWithZScore(), data, cv=5, n_jobs=5, verbose=False)"
      ]
    },
    {
      "cell_type": "markdown",
      "metadata": {
        "id": "STXJGGOsce3g"
      },
      "source": [
        "###Matrix Factorization Based Algorithms\n"
      ]
    },
    {
      "cell_type": "code",
      "execution_count": null,
      "metadata": {
        "id": "hoNCTXOrbb97"
      },
      "outputs": [],
      "source": [
        "svd_cv = cross_validate(SVD(), data, cv=5, n_jobs=5, verbose=False)\n",
        "svdpp_cv = cross_validate(SVDpp(), data, cv=5, n_jobs=5, verbose=False)\n",
        "nmf_cv = cross_validate(NMF(), data, cv=5, n_jobs=5, verbose=False)"
      ]
    },
    {
      "cell_type": "markdown",
      "metadata": {
        "id": "s6e_LS0xcmfW"
      },
      "source": [
        "###Other Collaborative Filtering Algorithms (Clustering)\n"
      ]
    },
    {
      "cell_type": "code",
      "execution_count": null,
      "metadata": {
        "colab": {
          "background_save": true
        },
        "id": "FK0MLUkfctU_"
      },
      "outputs": [],
      "source": [
        "slope_cv = cross_validate(SlopeOne(), data, cv=5, n_jobs=5, verbose=False)\n",
        "coclus_cv = cross_validate(CoClustering(), data, cv=5, n_jobs=5, verbose=False)"
      ]
    },
    {
      "cell_type": "code",
      "execution_count": null,
      "metadata": {
        "colab": {
          "base_uri": "https://localhost:8080/"
        },
        "id": "zVjgL2D-c5wC",
        "outputId": "ad77fa34-8aa2-41cb-f391-bda622dbe743"
      },
      "outputs": [
        {
          "name": "stdout",
          "output_type": "stream",
          "text": [
            "Algorithm\t RMSE\t\t MAE\n",
            "\n",
            "KNN Basic \t 0.2058 \t 0.0455\n",
            "KNN Means \t 0.3472 \t 0.2543\n",
            "KNN ZScore \t 0.3641 \t 0.2671\n",
            "\n",
            "SVD \t\t 0.3495 \t 0.2534\n",
            "SVDpp \t\t 0.2768 \t 0.1903\n",
            "NMF \t\t 0.1573 \t 0.0937\n",
            "\n",
            "SlopeOne \t 0.4856 \t 0.3721\n",
            "CoClustering \t 0.6719 \t 0.5654\n",
            "\n"
          ]
        }
      ],
      "source": [
        "print('Algorithm\\t RMSE\\t\\t MAE')\n",
        "print()\n",
        "print('KNN Basic', '\\t', round(knnbasic_cv['test_rmse'].mean(), 4), '\\t', round(knnbasic_cv['test_mae'].mean(), 4))\n",
        "print('KNN Means', '\\t', round(knnmeans_cv['test_rmse'].mean(), 4), '\\t', round(knnmeans_cv['test_mae'].mean(), 4))\n",
        "print('KNN ZScore', '\\t', round(knnz_cv['test_rmse'].mean(), 4), '\\t', round(knnz_cv['test_mae'].mean(), 4))\n",
        "print()\n",
        "print('SVD', '\\t\\t', round(svd_cv['test_rmse'].mean(), 4), '\\t', round(svd_cv['test_mae'].mean(), 4))\n",
        "print('SVDpp', '\\t\\t', round(svdpp_cv['test_rmse'].mean(), 4), '\\t', round(svdpp_cv['test_mae'].mean(), 4))\n",
        "print('NMF', '\\t\\t', round(nmf_cv['test_rmse'].mean(), 4), '\\t', round(nmf_cv['test_mae'].mean(), 4))\n",
        "print()\n",
        "print('SlopeOne', '\\t', round(slope_cv['test_rmse'].mean(), 4), '\\t', round(slope_cv['test_mae'].mean(), 4))\n",
        "print('CoClustering', '\\t', round(coclus_cv['test_rmse'].mean(), 4), '\\t', round(coclus_cv['test_mae'].mean(), 4))\n",
        "print()"
      ]
    },
    {
      "cell_type": "code",
      "execution_count": null,
      "metadata": {
        "colab": {
          "base_uri": "https://localhost:8080/",
          "height": 253
        },
        "id": "UE7yD6EHc7jV",
        "outputId": "905157eb-fd12-401c-fb57-9f7396f04269"
      },
      "outputs": [
        {
          "data": {
            "image/png": "[encoded data removed]",
            "text/plain": [
              "<Figure size 1440x360 with 2 Axes>"
            ]
          },
          "metadata": {},
          "output_type": "display_data"
        }
      ],
      "source": [
        "x_algo = ['KNN Basic', 'KNN Means', 'KNN ZScore', 'SVD', 'SVDpp', 'NMF', 'SlopeOne', 'CoClustering']\n",
        "all_algos_cv = [knnbasic_cv, knnmeans_cv, knnz_cv, svd_cv, svdpp_cv, nmf_cv, slope_cv, coclus_cv]\n",
        "\n",
        "rmse_cv = [round(res['test_rmse'].mean(), 4) for res in all_algos_cv]\n",
        "mae_cv = [round(res['test_mae'].mean(), 4) for res in all_algos_cv]\n",
        "\n",
        "plt.figure(figsize=(20,5))\n",
        "\n",
        "plt.subplot(1, 2, 1)\n",
        "plt.title('Comparison of Algorithms on RMSE', loc='center', fontsize=15)\n",
        "plt.plot(x_algo, rmse_cv, label='RMSE', color='darkgreen', marker='o')\n",
        "plt.xlabel('Algorithms', fontsize=15)\n",
        "plt.ylabel('RMSE Value', fontsize=15)\n",
        "plt.legend()\n",
        "plt.grid(ls='dashed')\n",
        "\n",
        "plt.subplot(1, 2, 2)\n",
        "plt.title('Comparison of Algorithms on MAE', loc='center', fontsize=15)\n",
        "plt.plot(x_algo, mae_cv, label='MAE', color='navy', marker='o')\n",
        "plt.xlabel('Algorithms', fontsize=15)\n",
        "plt.ylabel('MAE Value', fontsize=15)\n",
        "plt.legend()\n",
        "plt.grid(ls='dashed')\n",
        "\n",
        "plt.show()"
      ]
    },
    {
      "cell_type": "code",
      "execution_count": null,
      "metadata": {
        "id": "81Cg9rCFesgW"
      },
      "outputs": [],
      "source": []
    },
    {
      "cell_type": "markdown",
      "metadata": {
        "id": "RKpuBp8LZHzO"
      },
      "source": [
        "##Evaluation Results\n",
        "Winner: SVDpp (best RMSE and MAE)"
      ]
    },
    {
      "cell_type": "code",
      "execution_count": null,
      "metadata": {
        "id": "osmX8m1eZHzQ"
      },
      "outputs": [],
      "source": [
        "# trainset, testset = train_test_split(data, test_size=0.25)\n",
        "# algo = NMF()\n",
        "# predictions = algo.fit(trainset).test(testset)\n",
        "# accuracy.rmse(predictions)"
      ]
    },
    {
      "cell_type": "code",
      "execution_count": null,
      "metadata": {
        "colab": {
          "base_uri": "https://localhost:8080/"
        },
        "id": "tdNdzw9CZHzR",
        "outputId": "a7b10d0d-fffe-4a2a-bab7-4bda61948bed"
      },
      "outputs": [
        {
          "output_type": "stream",
          "name": "stdout",
          "text": [
            "Computing the msd similarity matrix...\n",
            "Done computing similarity matrix.\n"
          ]
        }
      ],
      "source": [
        "trainset = data.build_full_trainset() \n",
        "algo = KNNBasic()\n",
        "algo.fit(trainset)\n",
        "testset = trainset.build_anti_testset()\n",
        "predictions_2 = algo.test(testset)"
      ]
    },
    {
      "cell_type": "code",
      "execution_count": null,
      "metadata": {
        "colab": {
          "base_uri": "https://localhost:8080/"
        },
        "id": "m4EAo2VCZHzS",
        "outputId": "0c2be7bf-06e7-4eea-d284-e687adddd0f9"
      },
      "outputs": [
        {
          "output_type": "stream",
          "name": "stdout",
          "text": [
            "RMSE: 0.6877\n"
          ]
        },
        {
          "output_type": "execute_result",
          "data": {
            "text/plain": [
              "0.6876751670930621"
            ]
          },
          "metadata": {},
          "execution_count": 200
        }
      ],
      "source": [
        "accuracy.rmse(predictions_2)"
      ]
    },
    {
      "cell_type": "code",
      "execution_count": null,
      "metadata": {
        "id": "a1qep7CZZHzT"
      },
      "outputs": [],
      "source": [
        "def get_all_predictions(predictions):\n",
        "    # First map the predictions to each user.\n",
        "    top_n = defaultdict(list)    \n",
        "    for uid, iid, true_r, est, _ in predictions:\n",
        "        top_n[uid].append((iid, est))\n",
        "        \n",
        "    # Then sort the predictions for each user and retrieve the k highest ones.\n",
        "    for uid, user_ratings in top_n.items():\n",
        "        user_ratings.sort(key=lambda x: x[1], reverse=True)\n",
        "\n",
        "    return top_n"
      ]
    },
    {
      "cell_type": "code",
      "execution_count": null,
      "metadata": {
        "id": "HWRgObfnZHzU"
      },
      "outputs": [],
      "source": [
        "all_pred = get_all_predictions(predictions_2)\n",
        "all_pred"
      ]
    },
    {
      "cell_type": "code",
      "execution_count": null,
      "metadata": {
        "id": "TiPuka1FZHzV"
      },
      "outputs": [],
      "source": [
        "#To get top 5 reommendation\n",
        "n = 5\n",
        "\n",
        "for uid, user_ratings in all_pred.items():\n",
        "    user_ratings.sort(key=lambda x: x[1], reverse=True)\n",
        "    all_pred[uid] = user_ratings[:n]"
      ]
    },
    {
      "cell_type": "code",
      "execution_count": null,
      "metadata": {
        "colab": {
          "base_uri": "https://localhost:8080/"
        },
        "id": "TTyXo9awZHzW",
        "outputId": "419fa41a-9e13-4ddc-c3b2-33ea90d4a053"
      },
      "outputs": [
        {
          "output_type": "execute_result",
          "data": {
            "text/plain": [
              "2137"
            ]
          },
          "metadata": {},
          "execution_count": 211
        }
      ],
      "source": [
        "len(all_pred)"
      ]
    },
    {
      "cell_type": "code",
      "execution_count": null,
      "metadata": {
        "id": "88sIIswPZHzX"
      },
      "outputs": [],
      "source": [
        "tmp = pd.DataFrame.from_dict(all_pred)"
      ]
    },
    {
      "cell_type": "code",
      "execution_count": null,
      "metadata": {
        "id": "Zooc2OlUZHzX"
      },
      "outputs": [],
      "source": [
        "tmp = pd.DataFrame.from_dict(all_pred)\n",
        "tmp_transpose = tmp.transpose()"
      ]
    },
    {
      "cell_type": "code",
      "execution_count": null,
      "metadata": {
        "colab": {
          "base_uri": "https://localhost:8080/",
          "height": 424
        },
        "id": "WSTf8k8kZHzY",
        "outputId": "85318df0-46e0-40a2-f63c-67d202f45722"
      },
      "outputs": [
        {
          "output_type": "execute_result",
          "data": {
            "text/plain": [
              "                                                        0  \\\n",
              "128045               (The Cat in the Hat by Dr. Seuss, 5)   \n",
              "188513               (The Cat in the Hat by Dr. Seuss, 5)   \n",
              "208406  (It's A Magical World: A Calvin and Hobbes Col...   \n",
              "240144  (It's A Magical World: A Calvin and Hobbes Col...   \n",
              "244420  (It's A Magical World: A Calvin and Hobbes Col...   \n",
              "\n",
              "                                                        1  \\\n",
              "128045  (Harry Potter and the Sorcerer's Stone (Book 1...   \n",
              "188513  (Harry Potter and the Sorcerer's Stone (Book 1...   \n",
              "208406               (The Cat in the Hat by Dr. Seuss, 5)   \n",
              "240144               (The Cat in the Hat by Dr. Seuss, 5)   \n",
              "244420               (The Cat in the Hat by Dr. Seuss, 5)   \n",
              "\n",
              "                                                        2  \\\n",
              "128045  (Harry Potter and the Order of the Phoenix (Bo...   \n",
              "188513  (Harry Potter and the Order of the Phoenix (Bo...   \n",
              "208406  (Harry Potter and the Sorcerer's Stone (Book 1...   \n",
              "240144              (Bad Business by Robert B. Parker, 5)   \n",
              "244420  (Harry Potter and the Sorcerer's Stone (Book 1...   \n",
              "\n",
              "                                                        3  \\\n",
              "128045  (Griffin &amp; Sabine: An Extraordinary Corres...   \n",
              "188513  (Griffin &amp; Sabine: An Extraordinary Corres...   \n",
              "208406  (Griffin &amp; Sabine: An Extraordinary Corres...   \n",
              "240144                  (The Sinner by TESS GERRITSEN, 5)   \n",
              "244420  (Harry Potter and the Order of the Phoenix (Bo...   \n",
              "\n",
              "                                                        4  \n",
              "128045              (Bad Business by Robert B. Parker, 5)  \n",
              "188513              (Bad Business by Robert B. Parker, 5)  \n",
              "208406              (Bad Business by Robert B. Parker, 5)  \n",
              "240144                    (Warchild by Karin Lowachee, 5)  \n",
              "244420  (Griffin &amp; Sabine: An Extraordinary Corres...  "
            ],
            "text/html": [
              "\n",
              "  <div id=\"df-9d6553ff-458c-4c2d-ba5b-61991de8e649\">\n",
              "    <div class=\"colab-df-container\">\n",
              "      <div>\n",
              "<style scoped>\n",
              "    .dataframe tbody tr th:only-of-type {\n",
              "        vertical-align: middle;\n",
              "    }\n",
              "\n",
              "    .dataframe tbody tr th {\n",
              "        vertical-align: top;\n",
              "    }\n",
              "\n",
              "    .dataframe thead th {\n",
              "        text-align: right;\n",
              "    }\n",
              "</style>\n",
              "<table border=\"1\" class=\"dataframe\">\n",
              "  <thead>\n",
              "    <tr style=\"text-align: right;\">\n",
              "      <th></th>\n",
              "      <th>0</th>\n",
              "      <th>1</th>\n",
              "      <th>2</th>\n",
              "      <th>3</th>\n",
              "      <th>4</th>\n",
              "    </tr>\n",
              "  </thead>\n",
              "  <tbody>\n",
              "    <tr>\n",
              "      <th>128045</th>\n",
              "      <td>(The Cat in the Hat by Dr. Seuss, 5)</td>\n",
              "      <td>(Harry Potter and the Sorcerer's Stone (Book 1...</td>\n",
              "      <td>(Harry Potter and the Order of the Phoenix (Bo...</td>\n",
              "      <td>(Griffin &amp;amp; Sabine: An Extraordinary Corres...</td>\n",
              "      <td>(Bad Business by Robert B. Parker, 5)</td>\n",
              "    </tr>\n",
              "    <tr>\n",
              "      <th>188513</th>\n",
              "      <td>(The Cat in the Hat by Dr. Seuss, 5)</td>\n",
              "      <td>(Harry Potter and the Sorcerer's Stone (Book 1...</td>\n",
              "      <td>(Harry Potter and the Order of the Phoenix (Bo...</td>\n",
              "      <td>(Griffin &amp;amp; Sabine: An Extraordinary Corres...</td>\n",
              "      <td>(Bad Business by Robert B. Parker, 5)</td>\n",
              "    </tr>\n",
              "    <tr>\n",
              "      <th>208406</th>\n",
              "      <td>(It's A Magical World: A Calvin and Hobbes Col...</td>\n",
              "      <td>(The Cat in the Hat by Dr. Seuss, 5)</td>\n",
              "      <td>(Harry Potter and the Sorcerer's Stone (Book 1...</td>\n",
              "      <td>(Griffin &amp;amp; Sabine: An Extraordinary Corres...</td>\n",
              "      <td>(Bad Business by Robert B. Parker, 5)</td>\n",
              "    </tr>\n",
              "    <tr>\n",
              "      <th>240144</th>\n",
              "      <td>(It's A Magical World: A Calvin and Hobbes Col...</td>\n",
              "      <td>(The Cat in the Hat by Dr. Seuss, 5)</td>\n",
              "      <td>(Bad Business by Robert B. Parker, 5)</td>\n",
              "      <td>(The Sinner by TESS GERRITSEN, 5)</td>\n",
              "      <td>(Warchild by Karin Lowachee, 5)</td>\n",
              "    </tr>\n",
              "    <tr>\n",
              "      <th>244420</th>\n",
              "      <td>(It's A Magical World: A Calvin and Hobbes Col...</td>\n",
              "      <td>(The Cat in the Hat by Dr. Seuss, 5)</td>\n",
              "      <td>(Harry Potter and the Sorcerer's Stone (Book 1...</td>\n",
              "      <td>(Harry Potter and the Order of the Phoenix (Bo...</td>\n",
              "      <td>(Griffin &amp;amp; Sabine: An Extraordinary Corres...</td>\n",
              "    </tr>\n",
              "  </tbody>\n",
              "</table>\n",
              "</div>\n",
              "      <button class=\"colab-df-convert\" onclick=\"convertToInteractive('df-9d6553ff-458c-4c2d-ba5b-61991de8e649')\"\n",
              "              title=\"Convert this dataframe to an interactive table.\"\n",
              "              style=\"display:none;\">\n",
              "        \n",
              "  <svg xmlns=\"http://www.w3.org/2000/svg\" height=\"24px\"viewBox=\"0 0 24 24\"\n",
              "       width=\"24px\">\n",
              "    <path d=\"M0 0h24v24H0V0z\" fill=\"none\"/>\n",
              "    <path d=\"M18.56 5.44l.94 2.06.94-2.06 2.06-.94-2.06-.94-.94-2.06-.94 2.06-2.06.94zm-11 1L8.5 8.5l.94-2.06 2.06-.94-2.06-.94L8.5 2.5l-.94 2.06-2.06.94zm10 10l.94 2.06.94-2.06 2.06-.94-2.06-.94-.94-2.06-.94 2.06-2.06.94z\"/><path d=\"M17.41 7.96l-1.37-1.37c-.4-.4-.92-.59-1.43-.59-.52 0-1.04.2-1.43.59L10.3 9.45l-7.72 7.72c-.78.78-.78 2.05 0 2.83L4 21.41c.39.39.9.59 1.41.59.51 0 1.02-.2 1.41-.59l7.78-7.78 2.81-2.81c.8-.78.8-2.07 0-2.86zM5.41 20L4 18.59l7.72-7.72 1.47 1.35L5.41 20z\"/>\n",
              "  </svg>\n",
              "      </button>\n",
              "      \n",
              "  <style>\n",
              "    .colab-df-container {\n",
              "      display:flex;\n",
              "      flex-wrap:wrap;\n",
              "      gap: 12px;\n",
              "    }\n",
              "\n",
              "    .colab-df-convert {\n",
              "      background-color: #E8F0FE;\n",
              "      border: none;\n",
              "      border-radius: 50%;\n",
              "      cursor: pointer;\n",
              "      display: none;\n",
              "      fill: #1967D2;\n",
              "      height: 32px;\n",
              "      padding: 0 0 0 0;\n",
              "      width: 32px;\n",
              "    }\n",
              "\n",
              "    .colab-df-convert:hover {\n",
              "      background-color: #E2EBFA;\n",
              "      box-shadow: 0px 1px 2px rgba(60, 64, 67, 0.3), 0px 1px 3px 1px rgba(60, 64, 67, 0.15);\n",
              "      fill: #174EA6;\n",
              "    }\n",
              "\n",
              "    [theme=dark] .colab-df-convert {\n",
              "      background-color: #3B4455;\n",
              "      fill: #D2E3FC;\n",
              "    }\n",
              "\n",
              "    [theme=dark] .colab-df-convert:hover {\n",
              "      background-color: #434B5C;\n",
              "      box-shadow: 0px 1px 3px 1px rgba(0, 0, 0, 0.15);\n",
              "      filter: drop-shadow(0px 1px 2px rgba(0, 0, 0, 0.3));\n",
              "      fill: #FFFFFF;\n",
              "    }\n",
              "  </style>\n",
              "\n",
              "      <script>\n",
              "        const buttonEl =\n",
              "          document.querySelector('#df-9d6553ff-458c-4c2d-ba5b-61991de8e649 button.colab-df-convert');\n",
              "        buttonEl.style.display =\n",
              "          google.colab.kernel.accessAllowed ? 'block' : 'none';\n",
              "\n",
              "        async function convertToInteractive(key) {\n",
              "          const element = document.querySelector('#df-9d6553ff-458c-4c2d-ba5b-61991de8e649');\n",
              "          const dataTable =\n",
              "            await google.colab.kernel.invokeFunction('convertToInteractive',\n",
              "                                                     [key], {});\n",
              "          if (!dataTable) return;\n",
              "\n",
              "          const docLinkHtml = 'Like what you see? Visit the ' +\n",
              "            '<a target=\"_blank\" href=https://colab.research.google.com/notebooks/data_table.ipynb>data table notebook</a>'\n",
              "            + ' to learn more about interactive tables.';\n",
              "          element.innerHTML = '';\n",
              "          dataTable['output_type'] = 'display_data';\n",
              "          await google.colab.output.renderOutput(dataTable, element);\n",
              "          const docLink = document.createElement('div');\n",
              "          docLink.innerHTML = docLinkHtml;\n",
              "          element.appendChild(docLink);\n",
              "        }\n",
              "      </script>\n",
              "    </div>\n",
              "  </div>\n",
              "  "
            ]
          },
          "metadata": {},
          "execution_count": 214
        }
      ],
      "source": [
        "tmp_transpose[5:10]"
      ]
    },
    {
      "cell_type": "code",
      "execution_count": null,
      "metadata": {
        "id": "B6ChfyPSZHzY"
      },
      "outputs": [],
      "source": [
        "def get_predictions(user_id):\n",
        "    results = tmp_transpose.loc[user_id]\n",
        "    return results\n",
        "\n",
        "#2313 10314 52011 59059"
      ]
    },
    {
      "cell_type": "code",
      "execution_count": null,
      "metadata": {
        "colab": {
          "base_uri": "https://localhost:8080/"
        },
        "id": "eDRx6sklZHzZ",
        "outputId": "b6b074a1-de32-4c45-b941-266edbe9e8c8"
      },
      "outputs": [
        {
          "output_type": "execute_result",
          "data": {
            "text/plain": [
              "0    (It's A Magical World: A Calvin and Hobbes Col...\n",
              "1                 (The Cat in the Hat by Dr. Seuss, 5)\n",
              "2                (Bad Business by Robert B. Parker, 5)\n",
              "3                    (The Sinner by TESS GERRITSEN, 5)\n",
              "4                      (Warchild by Karin Lowachee, 5)\n",
              "Name: 240144, dtype: object"
            ]
          },
          "metadata": {},
          "execution_count": 216
        }
      ],
      "source": [
        "#specifying the user\n",
        "user_id= 240144\n",
        "results = get_predictions(user_id)\n",
        "results"
      ]
    },
    {
      "cell_type": "markdown",
      "metadata": {
        "id": "Kp-FsFBBZHza"
      },
      "source": [
        "## Error Analysis"
      ]
    },
    {
      "cell_type": "code",
      "execution_count": null,
      "metadata": {
        "id": "yEqhNbb7GIAj"
      },
      "outputs": [],
      "source": [
        "def GetTopN(allPredictions,n=10):\n",
        "  global top_n\n",
        "  for uid, iid, true_r, est, _ in allPredictions:\n",
        "    if(est > 4.0):\n",
        "      #print(\"assd\")\n",
        "      top_n[uid].append((iid, est))\n",
        "      #print(est)\n",
        "  for uid, user_ratings in top_n.items():\n",
        "          user_ratings.sort(key=lambda x: x[1], reverse=True)\n",
        "          top_n[uid] = user_ratings[:n]\n",
        "\n",
        "  "
      ]
    },
    {
      "cell_type": "code",
      "execution_count": null,
      "metadata": {
        "id": "NIURwCEQZHza"
      },
      "outputs": [],
      "source": [
        "from surprise.model_selection import LeaveOneOut\n",
        "    \n",
        "LOOCV = LeaveOneOut(n_splits=1, random_state=1)\n",
        "\n",
        "for trainSet, testSet in LOOCV.split(data):\n",
        "    # Train model without left-out ratings\n",
        "    algo.fit(trainSet)\n",
        "    # Predicts ratings for left-out ratings only\n",
        "    leftOutPredictions = algo.test(testSet)\n",
        "    # Build predictions for all ratings not in the training set\n",
        "    bigTestSet = trainSet.build_anti_testset()\n",
        "    allPredictions = algo.test(bigTestSet)\n",
        "    # Compute top 10 recs for each user\n",
        "    topNPredicted = GetTopN(allPredictions, n=10)"
      ]
    },
    {
      "cell_type": "code",
      "execution_count": null,
      "metadata": {
        "id": "DGo1cziAHrRH"
      },
      "outputs": [],
      "source": [
        "top_n = defaultdict(list)\n",
        "topNPredicted = GetTopN(allPredictions, n=5)"
      ]
    },
    {
      "cell_type": "code",
      "execution_count": null,
      "metadata": {
        "id": "hHAZn8ELIUpX"
      },
      "outputs": [],
      "source": [
        "len(top_n)"
      ]
    },
    {
      "cell_type": "code",
      "execution_count": null,
      "metadata": {
        "id": "rObO_AU1_29M"
      },
      "outputs": [],
      "source": [
        "top_n"
      ]
    },
    {
      "cell_type": "code",
      "execution_count": null,
      "metadata": {
        "id": "755MEl8YJjVP"
      },
      "outputs": [],
      "source": [
        "def HitRate(topNPredicted, leftOutPredictions):\n",
        "    hits = 0\n",
        "    total = 0\n",
        "\n",
        " # For each left-out rating\n",
        "    for leftOut in leftOutPredictions:\n",
        "        userID = leftOut[0]\n",
        "        leftOutbookID = leftOut[1]\n",
        "        # Is it in the predicted top 10 for this user?\n",
        "        hit = False\n",
        "        for uid, user_ratings in topNPredicted[userID]:\n",
        "            if ((leftOutbookID) == (uid)):\n",
        "                hit = True\n",
        "                break\n",
        "        if (hit) :\n",
        "            hits += 1\n",
        "\n",
        "        total += 1\n",
        "\n",
        "    # Compute overall precision\n",
        "    return hits/total\n",
        "print(\"\\nHit Rate: \", HitRate(top_n, leftOutPredictions))"
      ]
    },
    {
      "cell_type": "code",
      "execution_count": null,
      "metadata": {
        "id": "jECqnT_cMGeg"
      },
      "outputs": [],
      "source": [
        "\n",
        "def get_Iu(uid):\n",
        "    try:\n",
        "        return len(trainset.ur[trainset.to_inner_uid(uid)])\n",
        "    except ValueError: # user was not part of the trainset\n",
        "        return 0\n",
        "    \n",
        "def get_Ui(iid):\n",
        "    try: \n",
        "        return len(trainset.ir[trainset.to_inner_iid(iid)])\n",
        "    except ValueError:\n",
        "        return 0\n",
        "    \n",
        "df = pd.DataFrame(allPredictions , columns=['uid', 'iid', 'rui', 'est', 'details'])\n",
        "df['Iu'] = df.uid.apply(get_Iu)\n",
        "df['Ui'] = df.iid.apply(get_Ui)\n",
        "df['err'] = abs(df.est - df.rui)\n",
        "best_predictions = df.sort_values(by='err')[:10]\n",
        "worst_predictions = df.sort_values(by='err')[-10:]"
      ]
    },
    {
      "cell_type": "code",
      "execution_count": null,
      "metadata": {
        "id": "c7oyWh3ITMp2"
      },
      "outputs": [],
      "source": [
        "top_n"
      ]
    },
    {
      "cell_type": "code",
      "execution_count": null,
      "metadata": {
        "id": "tbTPXSdHTLOS"
      },
      "outputs": [],
      "source": [
        "df"
      ]
    },
    {
      "cell_type": "code",
      "execution_count": null,
      "metadata": {
        "id": "QaTl4kl4THt2"
      },
      "outputs": [],
      "source": [
        "worst_predictions"
      ]
    },
    {
      "cell_type": "code",
      "execution_count": null,
      "metadata": {
        "id": "3eRTJ3PIShuR"
      },
      "outputs": [],
      "source": [
        "best_predictions"
      ]
    },
    {
      "cell_type": "markdown",
      "metadata": {
        "id": "nI5cYzi_rUzk"
      },
      "source": [
        "## **6. Content Description Based Recommender system**"
      ]
    },
    {
      "cell_type": "markdown",
      "metadata": {
        "id": "86JgJWU5rfvI"
      },
      "source": [
        "### a) Extracting Summary from Google Books API"
      ]
    },
    {
      "cell_type": "code",
      "execution_count": null,
      "metadata": {
        "id": "zyT3PcSIEbc2"
      },
      "outputs": [],
      "source": [
        "# Python's built-in module for encoding and decoding JSON data\n",
        "import json\n",
        "# Python's built-in module for opening and reading URLs\n",
        "from urllib.request import urlopen\n",
        "\n",
        "api = \"https://www.googleapis.com/books/v1/volumes?q=isbn:\"\n",
        "filter = df_merged.drop_duplicates('Book-Title',keep='first')\n",
        "list_isbn = list(filter['ISBN'][filter['Book-Rating']==0].unique())\n",
        "list_dict= {}"
      ]
    },
    {
      "cell_type": "markdown",
      "metadata": {
        "id": "3W2BpkvrslKd"
      },
      "source": [
        "* ### Google Books API has **restrictions** of number of requests. By using the following code, we have been able to circumvent those restrictions."
      ]
    },
    {
      "cell_type": "markdown",
      "metadata": {
        "id": "IuexAiqe4gk9"
      },
      "source": [
        "## ***The Below Given Code Was Once Used to Create a CSV File, With Book Descriptions***"
      ]
    },
    {
      "cell_type": "code",
      "execution_count": null,
      "metadata": {
        "id": "IbotR766GR7z"
      },
      "outputs": [],
      "source": [
        "\n",
        "# counter=0\n",
        "# def descripter(x):\n",
        "#   global counter\n",
        "#   try:\n",
        "#     return json.load(urlopen(api + x))['items'][0]['volumeInfo'][\"description\"]\n",
        "#   except:\n",
        "#     print('No-Description')\n",
        "    \n",
        "# import time\n",
        "# j = 2000\n",
        "# while j!=len(list_isbn):\n",
        "#   counter +=1\n",
        "#   print(counter)\n",
        "#   for i in list_isbn[j:j+80]:\n",
        "#     list_dict[i] = descripter(i)\n",
        "#   if  counter ==2100:\n",
        "#     break;\n",
        "#   time.sleep(0.1)\n",
        "#   j +=80 \n",
        " \n",
        "  \n",
        "#Exporting as CSV\n",
        "\n",
        "# export_df = pd.DataFrame(list_dict.items(),columns=['ISBN','description'])\n",
        "# export_df = export_df[~export_df['description'].isna()]\n",
        "\n",
        "# from google.colab import files\n",
        "# export_df.to_csv('/content/drive/MyDrive/DEBI/Data Science\\Books_Descriptions.csv')\n",
        "# files.download('/content/drive/MyDrive/DEBI/Data Science\\Books_Descriptions.csv')"
      ]
    },
    {
      "cell_type": "code",
      "execution_count": null,
      "metadata": {
        "id": "Bt0SWbKGn8hd"
      },
      "outputs": [],
      "source": [
        "df_descriptions = pd.read_csv('/content/drive/MyDrive/DEBI/Data Science\\Books_Descriptions.csv')"
      ]
    },
    {
      "cell_type": "code",
      "execution_count": null,
      "metadata": {
        "colab": {
          "base_uri": "https://localhost:8080/",
          "height": 206
        },
        "id": "2c4A0oP3Wq2c",
        "outputId": "83b0a58c-3616-449a-812d-b91d112d2b4f"
      },
      "outputs": [
        {
          "data": {
            "text/html": [
              "\n",
              "  <div id=\"df-dd4a2ee8-7592-4928-829c-99e6839c6f78\">\n",
              "    <div class=\"colab-df-container\">\n",
              "      <div>\n",
              "<style scoped>\n",
              "    .dataframe tbody tr th:only-of-type {\n",
              "        vertical-align: middle;\n",
              "    }\n",
              "\n",
              "    .dataframe tbody tr th {\n",
              "        vertical-align: top;\n",
              "    }\n",
              "\n",
              "    .dataframe thead th {\n",
              "        text-align: right;\n",
              "    }\n",
              "</style>\n",
              "<table border=\"1\" class=\"dataframe\">\n",
              "  <thead>\n",
              "    <tr style=\"text-align: right;\">\n",
              "      <th></th>\n",
              "      <th>Unnamed: 0</th>\n",
              "      <th>ISBN</th>\n",
              "      <th>description</th>\n",
              "    </tr>\n",
              "  </thead>\n",
              "  <tbody>\n",
              "    <tr>\n",
              "      <th>0</th>\n",
              "      <td>3</td>\n",
              "      <td>0451407423</td>\n",
              "      <td>A high-tech submarine thriller follows Admiral...</td>\n",
              "    </tr>\n",
              "    <tr>\n",
              "      <th>1</th>\n",
              "      <td>4</td>\n",
              "      <td>0373290284</td>\n",
              "      <td>The Flower And The Sword by Jacqueline Navin r...</td>\n",
              "    </tr>\n",
              "    <tr>\n",
              "      <th>2</th>\n",
              "      <td>23</td>\n",
              "      <td>0671423886</td>\n",
              "      <td>In late-fifteenth-century Spain, the indomitab...</td>\n",
              "    </tr>\n",
              "    <tr>\n",
              "      <th>3</th>\n",
              "      <td>25</td>\n",
              "      <td>082176618X</td>\n",
              "      <td>Mountain man Smoke Jensen comes to the aid of ...</td>\n",
              "    </tr>\n",
              "    <tr>\n",
              "      <th>4</th>\n",
              "      <td>27</td>\n",
              "      <td>0380789108</td>\n",
              "      <td>Stephanie promises to help the ghost of her ne...</td>\n",
              "    </tr>\n",
              "  </tbody>\n",
              "</table>\n",
              "</div>\n",
              "      <button class=\"colab-df-convert\" onclick=\"convertToInteractive('df-dd4a2ee8-7592-4928-829c-99e6839c6f78')\"\n",
              "              title=\"Convert this dataframe to an interactive table.\"\n",
              "              style=\"display:none;\">\n",
              "        \n",
              "  <svg xmlns=\"http://www.w3.org/2000/svg\" height=\"24px\"viewBox=\"0 0 24 24\"\n",
              "       width=\"24px\">\n",
              "    <path d=\"M0 0h24v24H0V0z\" fill=\"none\"/>\n",
              "    <path d=\"M18.56 5.44l.94 2.06.94-2.06 2.06-.94-2.06-.94-.94-2.06-.94 2.06-2.06.94zm-11 1L8.5 8.5l.94-2.06 2.06-.94-2.06-.94L8.5 2.5l-.94 2.06-2.06.94zm10 10l.94 2.06.94-2.06 2.06-.94-2.06-.94-.94-2.06-.94 2.06-2.06.94z\"/><path d=\"M17.41 7.96l-1.37-1.37c-.4-.4-.92-.59-1.43-.59-.52 0-1.04.2-1.43.59L10.3 9.45l-7.72 7.72c-.78.78-.78 2.05 0 2.83L4 21.41c.39.39.9.59 1.41.59.51 0 1.02-.2 1.41-.59l7.78-7.78 2.81-2.81c.8-.78.8-2.07 0-2.86zM5.41 20L4 18.59l7.72-7.72 1.47 1.35L5.41 20z\"/>\n",
              "  </svg>\n",
              "      </button>\n",
              "      \n",
              "  <style>\n",
              "    .colab-df-container {\n",
              "      display:flex;\n",
              "      flex-wrap:wrap;\n",
              "      gap: 12px;\n",
              "    }\n",
              "\n",
              "    .colab-df-convert {\n",
              "      background-color: #E8F0FE;\n",
              "      border: none;\n",
              "      border-radius: 50%;\n",
              "      cursor: pointer;\n",
              "      display: none;\n",
              "      fill: #1967D2;\n",
              "      height: 32px;\n",
              "      padding: 0 0 0 0;\n",
              "      width: 32px;\n",
              "    }\n",
              "\n",
              "    .colab-df-convert:hover {\n",
              "      background-color: #E2EBFA;\n",
              "      box-shadow: 0px 1px 2px rgba(60, 64, 67, 0.3), 0px 1px 3px 1px rgba(60, 64, 67, 0.15);\n",
              "      fill: #174EA6;\n",
              "    }\n",
              "\n",
              "    [theme=dark] .colab-df-convert {\n",
              "      background-color: #3B4455;\n",
              "      fill: #D2E3FC;\n",
              "    }\n",
              "\n",
              "    [theme=dark] .colab-df-convert:hover {\n",
              "      background-color: #434B5C;\n",
              "      box-shadow: 0px 1px 3px 1px rgba(0, 0, 0, 0.15);\n",
              "      filter: drop-shadow(0px 1px 2px rgba(0, 0, 0, 0.3));\n",
              "      fill: #FFFFFF;\n",
              "    }\n",
              "  </style>\n",
              "\n",
              "      <script>\n",
              "        const buttonEl =\n",
              "          document.querySelector('#df-dd4a2ee8-7592-4928-829c-99e6839c6f78 button.colab-df-convert');\n",
              "        buttonEl.style.display =\n",
              "          google.colab.kernel.accessAllowed ? 'block' : 'none';\n",
              "\n",
              "        async function convertToInteractive(key) {\n",
              "          const element = document.querySelector('#df-dd4a2ee8-7592-4928-829c-99e6839c6f78');\n",
              "          const dataTable =\n",
              "            await google.colab.kernel.invokeFunction('convertToInteractive',\n",
              "                                                     [key], {});\n",
              "          if (!dataTable) return;\n",
              "\n",
              "          const docLinkHtml = 'Like what you see? Visit the ' +\n",
              "            '<a target=\"_blank\" href=https://colab.research.google.com/notebooks/data_table.ipynb>data table notebook</a>'\n",
              "            + ' to learn more about interactive tables.';\n",
              "          element.innerHTML = '';\n",
              "          dataTable['output_type'] = 'display_data';\n",
              "          await google.colab.output.renderOutput(dataTable, element);\n",
              "          const docLink = document.createElement('div');\n",
              "          docLink.innerHTML = docLinkHtml;\n",
              "          element.appendChild(docLink);\n",
              "        }\n",
              "      </script>\n",
              "    </div>\n",
              "  </div>\n",
              "  "
            ],
            "text/plain": [
              "   Unnamed: 0        ISBN                                        description\n",
              "0           3  0451407423  A high-tech submarine thriller follows Admiral...\n",
              "1           4  0373290284  The Flower And The Sword by Jacqueline Navin r...\n",
              "2          23  0671423886  In late-fifteenth-century Spain, the indomitab...\n",
              "3          25  082176618X  Mountain man Smoke Jensen comes to the aid of ...\n",
              "4          27  0380789108  Stephanie promises to help the ghost of her ne..."
            ]
          },
          "execution_count": 190,
          "metadata": {},
          "output_type": "execute_result"
        }
      ],
      "source": [
        "df_descriptions.head()"
      ]
    },
    {
      "cell_type": "code",
      "execution_count": null,
      "metadata": {
        "colab": {
          "base_uri": "https://localhost:8080/",
          "height": 332
        },
        "id": "zGXy_-IfXg1N",
        "outputId": "31ab2326-c418-411c-ac7b-8238546c51c1"
      },
      "outputs": [
        {
          "data": {
            "text/html": [
              "\n",
              "  <div id=\"df-3544d891-136e-4bd2-b822-16d933db2f3b\">\n",
              "    <div class=\"colab-df-container\">\n",
              "      <div>\n",
              "<style scoped>\n",
              "    .dataframe tbody tr th:only-of-type {\n",
              "        vertical-align: middle;\n",
              "    }\n",
              "\n",
              "    .dataframe tbody tr th {\n",
              "        vertical-align: top;\n",
              "    }\n",
              "\n",
              "    .dataframe thead th {\n",
              "        text-align: right;\n",
              "    }\n",
              "</style>\n",
              "<table border=\"1\" class=\"dataframe\">\n",
              "  <thead>\n",
              "    <tr style=\"text-align: right;\">\n",
              "      <th></th>\n",
              "      <th>User-ID</th>\n",
              "      <th>ISBN</th>\n",
              "      <th>Book-Rating</th>\n",
              "      <th>Book-Title</th>\n",
              "      <th>Book-Author</th>\n",
              "      <th>Year-Of-Publication</th>\n",
              "      <th>Publisher</th>\n",
              "      <th>new_title</th>\n",
              "      <th>Location</th>\n",
              "      <th>Age</th>\n",
              "      <th>Title-Length</th>\n",
              "      <th>age_bins</th>\n",
              "      <th>Rating-Count</th>\n",
              "      <th>Rating-Mean</th>\n",
              "      <th>description</th>\n",
              "    </tr>\n",
              "  </thead>\n",
              "  <tbody>\n",
              "    <tr>\n",
              "      <th>0</th>\n",
              "      <td>77940</td>\n",
              "      <td>0553572490</td>\n",
              "      <td>0</td>\n",
              "      <td>Vice</td>\n",
              "      <td>Jane Feather</td>\n",
              "      <td>1996</td>\n",
              "      <td>Bantam</td>\n",
              "      <td>Vice by Jane Feather</td>\n",
              "      <td>malaysia</td>\n",
              "      <td>43</td>\n",
              "      <td>4</td>\n",
              "      <td>NaN</td>\n",
              "      <td>17</td>\n",
              "      <td>3.12</td>\n",
              "      <td>On the run since accidentally killing her elde...</td>\n",
              "    </tr>\n",
              "    <tr>\n",
              "      <th>1</th>\n",
              "      <td>212898</td>\n",
              "      <td>0553572490</td>\n",
              "      <td>0</td>\n",
              "      <td>Vice</td>\n",
              "      <td>Jane Feather</td>\n",
              "      <td>1996</td>\n",
              "      <td>Bantam</td>\n",
              "      <td>Vice by Jane Feather</td>\n",
              "      <td>canada</td>\n",
              "      <td>30</td>\n",
              "      <td>4</td>\n",
              "      <td>NaN</td>\n",
              "      <td>17</td>\n",
              "      <td>3.12</td>\n",
              "      <td>On the run since accidentally killing her elde...</td>\n",
              "    </tr>\n",
              "  </tbody>\n",
              "</table>\n",
              "</div>\n",
              "      <button class=\"colab-df-convert\" onclick=\"convertToInteractive('df-3544d891-136e-4bd2-b822-16d933db2f3b')\"\n",
              "              title=\"Convert this dataframe to an interactive table.\"\n",
              "              style=\"display:none;\">\n",
              "        \n",
              "  <svg xmlns=\"http://www.w3.org/2000/svg\" height=\"24px\"viewBox=\"0 0 24 24\"\n",
              "       width=\"24px\">\n",
              "    <path d=\"M0 0h24v24H0V0z\" fill=\"none\"/>\n",
              "    <path d=\"M18.56 5.44l.94 2.06.94-2.06 2.06-.94-2.06-.94-.94-2.06-.94 2.06-2.06.94zm-11 1L8.5 8.5l.94-2.06 2.06-.94-2.06-.94L8.5 2.5l-.94 2.06-2.06.94zm10 10l.94 2.06.94-2.06 2.06-.94-2.06-.94-.94-2.06-.94 2.06-2.06.94z\"/><path d=\"M17.41 7.96l-1.37-1.37c-.4-.4-.92-.59-1.43-.59-.52 0-1.04.2-1.43.59L10.3 9.45l-7.72 7.72c-.78.78-.78 2.05 0 2.83L4 21.41c.39.39.9.59 1.41.59.51 0 1.02-.2 1.41-.59l7.78-7.78 2.81-2.81c.8-.78.8-2.07 0-2.86zM5.41 20L4 18.59l7.72-7.72 1.47 1.35L5.41 20z\"/>\n",
              "  </svg>\n",
              "      </button>\n",
              "      \n",
              "  <style>\n",
              "    .colab-df-container {\n",
              "      display:flex;\n",
              "      flex-wrap:wrap;\n",
              "      gap: 12px;\n",
              "    }\n",
              "\n",
              "    .colab-df-convert {\n",
              "      background-color: #E8F0FE;\n",
              "      border: none;\n",
              "      border-radius: 50%;\n",
              "      cursor: pointer;\n",
              "      display: none;\n",
              "      fill: #1967D2;\n",
              "      height: 32px;\n",
              "      padding: 0 0 0 0;\n",
              "      width: 32px;\n",
              "    }\n",
              "\n",
              "    .colab-df-convert:hover {\n",
              "      background-color: #E2EBFA;\n",
              "      box-shadow: 0px 1px 2px rgba(60, 64, 67, 0.3), 0px 1px 3px 1px rgba(60, 64, 67, 0.15);\n",
              "      fill: #174EA6;\n",
              "    }\n",
              "\n",
              "    [theme=dark] .colab-df-convert {\n",
              "      background-color: #3B4455;\n",
              "      fill: #D2E3FC;\n",
              "    }\n",
              "\n",
              "    [theme=dark] .colab-df-convert:hover {\n",
              "      background-color: #434B5C;\n",
              "      box-shadow: 0px 1px 3px 1px rgba(0, 0, 0, 0.15);\n",
              "      filter: drop-shadow(0px 1px 2px rgba(0, 0, 0, 0.3));\n",
              "      fill: #FFFFFF;\n",
              "    }\n",
              "  </style>\n",
              "\n",
              "      <script>\n",
              "        const buttonEl =\n",
              "          document.querySelector('#df-3544d891-136e-4bd2-b822-16d933db2f3b button.colab-df-convert');\n",
              "        buttonEl.style.display =\n",
              "          google.colab.kernel.accessAllowed ? 'block' : 'none';\n",
              "\n",
              "        async function convertToInteractive(key) {\n",
              "          const element = document.querySelector('#df-3544d891-136e-4bd2-b822-16d933db2f3b');\n",
              "          const dataTable =\n",
              "            await google.colab.kernel.invokeFunction('convertToInteractive',\n",
              "                                                     [key], {});\n",
              "          if (!dataTable) return;\n",
              "\n",
              "          const docLinkHtml = 'Like what you see? Visit the ' +\n",
              "            '<a target=\"_blank\" href=https://colab.research.google.com/notebooks/data_table.ipynb>data table notebook</a>'\n",
              "            + ' to learn more about interactive tables.';\n",
              "          element.innerHTML = '';\n",
              "          dataTable['output_type'] = 'display_data';\n",
              "          await google.colab.output.renderOutput(dataTable, element);\n",
              "          const docLink = document.createElement('div');\n",
              "          docLink.innerHTML = docLinkHtml;\n",
              "          element.appendChild(docLink);\n",
              "        }\n",
              "      </script>\n",
              "    </div>\n",
              "  </div>\n",
              "  "
            ],
            "text/plain": [
              "   User-ID        ISBN  Book-Rating Book-Title   Book-Author  \\\n",
              "0    77940  0553572490            0       Vice  Jane Feather   \n",
              "1   212898  0553572490            0       Vice  Jane Feather   \n",
              "\n",
              "   Year-Of-Publication Publisher             new_title   Location  Age  \\\n",
              "0                 1996    Bantam  Vice by Jane Feather   malaysia   43   \n",
              "1                 1996    Bantam  Vice by Jane Feather     canada   30   \n",
              "\n",
              "   Title-Length age_bins  Rating-Count  Rating-Mean  \\\n",
              "0             4      NaN            17         3.12   \n",
              "1             4      NaN            17         3.12   \n",
              "\n",
              "                                         description  \n",
              "0  On the run since accidentally killing her elde...  \n",
              "1  On the run since accidentally killing her elde...  "
            ]
          },
          "execution_count": 191,
          "metadata": {},
          "output_type": "execute_result"
        }
      ],
      "source": [
        "df_descriptions.drop('Unnamed: 0',axis=1,inplace=True)\n",
        "df_tf = df_merged[df_merged['Book-Rating']==0]\n",
        "df_tf = df_tf.merge(df_descriptions,how='inner',on='ISBN')\n",
        "df_tf[df_tf['Book-Rating']==0].head(2)"
      ]
    },
    {
      "cell_type": "markdown",
      "metadata": {
        "id": "usrboJEvirlc"
      },
      "source": [
        "### b) Data Pre-processing"
      ]
    },
    {
      "cell_type": "code",
      "execution_count": null,
      "metadata": {
        "colab": {
          "base_uri": "https://localhost:8080/"
        },
        "id": "MbW09m2Xj6YK",
        "outputId": "62599aeb-36ff-4ddb-dde7-1a6ac93707b4"
      },
      "outputs": [
        {
          "name": "stderr",
          "output_type": "stream",
          "text": [
            "[nltk_data] Downloading package stopwords to /root/nltk_data...\n",
            "[nltk_data]   Unzipping corpora/stopwords.zip.\n",
            "[nltk_data] Downloading package words to /root/nltk_data...\n",
            "[nltk_data]   Unzipping corpora/words.zip.\n"
          ]
        },
        {
          "data": {
            "text/plain": [
              "True"
            ]
          },
          "execution_count": 192,
          "metadata": {},
          "output_type": "execute_result"
        }
      ],
      "source": [
        "nltk.download('stopwords')\n",
        "nltk.download('words')"
      ]
    },
    {
      "cell_type": "code",
      "execution_count": null,
      "metadata": {
        "id": "g_MrxOz7kCRT"
      },
      "outputs": [],
      "source": [
        "stopwords.words('english').extend(['\\n','\\t'])"
      ]
    },
    {
      "cell_type": "code",
      "execution_count": null,
      "metadata": {
        "id": "y5dFmLKfkGAX"
      },
      "outputs": [],
      "source": [
        "#Removing Stop Words and Punctuations\n",
        "def text_process(msg):\n",
        "    nopunc =[char for char in msg if char not in string.punctuation]\n",
        "    nopunc=''.join(nopunc)\n",
        "    return ' '.join([word for word in nopunc.split() if word.lower() not in stopwords.words('english')])"
      ]
    },
    {
      "cell_type": "code",
      "execution_count": null,
      "metadata": {
        "id": "CnWs6QgmkRPx"
      },
      "outputs": [],
      "source": [
        "#Removing Stopwords\n",
        "df_descriptions['description'] = df_descriptions['description'].apply(text_process)"
      ]
    },
    {
      "cell_type": "code",
      "execution_count": null,
      "metadata": {
        "colab": {
          "base_uri": "https://localhost:8080/",
          "height": 206
        },
        "id": "g9ILBApoqGnK",
        "outputId": "8ae8718f-a74a-4c54-8c5f-f67e584efa15"
      },
      "outputs": [
        {
          "data": {
            "text/html": [
              "\n",
              "  <div id=\"df-01132c17-175a-42d7-b3a8-539f0a0d3a9f\">\n",
              "    <div class=\"colab-df-container\">\n",
              "      <div>\n",
              "<style scoped>\n",
              "    .dataframe tbody tr th:only-of-type {\n",
              "        vertical-align: middle;\n",
              "    }\n",
              "\n",
              "    .dataframe tbody tr th {\n",
              "        vertical-align: top;\n",
              "    }\n",
              "\n",
              "    .dataframe thead th {\n",
              "        text-align: right;\n",
              "    }\n",
              "</style>\n",
              "<table border=\"1\" class=\"dataframe\">\n",
              "  <thead>\n",
              "    <tr style=\"text-align: right;\">\n",
              "      <th></th>\n",
              "      <th>ISBN</th>\n",
              "      <th>description</th>\n",
              "    </tr>\n",
              "  </thead>\n",
              "  <tbody>\n",
              "    <tr>\n",
              "      <th>0</th>\n",
              "      <td>0451407423</td>\n",
              "      <td>hightech submarine thriller follows Admiral Mi...</td>\n",
              "    </tr>\n",
              "    <tr>\n",
              "      <th>1</th>\n",
              "      <td>0373290284</td>\n",
              "      <td>Flower Sword Jacqueline Navin released Jul 24 ...</td>\n",
              "    </tr>\n",
              "    <tr>\n",
              "      <th>2</th>\n",
              "      <td>0671423886</td>\n",
              "      <td>latefifteenthcentury Spain indomitable passion...</td>\n",
              "    </tr>\n",
              "    <tr>\n",
              "      <th>3</th>\n",
              "      <td>082176618X</td>\n",
              "      <td>Mountain man Smoke Jensen comes aid sharpshoot...</td>\n",
              "    </tr>\n",
              "    <tr>\n",
              "      <th>4</th>\n",
              "      <td>0380789108</td>\n",
              "      <td>Stephanie promises help ghost new homes former...</td>\n",
              "    </tr>\n",
              "  </tbody>\n",
              "</table>\n",
              "</div>\n",
              "      <button class=\"colab-df-convert\" onclick=\"convertToInteractive('df-01132c17-175a-42d7-b3a8-539f0a0d3a9f')\"\n",
              "              title=\"Convert this dataframe to an interactive table.\"\n",
              "              style=\"display:none;\">\n",
              "        \n",
              "  <svg xmlns=\"http://www.w3.org/2000/svg\" height=\"24px\"viewBox=\"0 0 24 24\"\n",
              "       width=\"24px\">\n",
              "    <path d=\"M0 0h24v24H0V0z\" fill=\"none\"/>\n",
              "    <path d=\"M18.56 5.44l.94 2.06.94-2.06 2.06-.94-2.06-.94-.94-2.06-.94 2.06-2.06.94zm-11 1L8.5 8.5l.94-2.06 2.06-.94-2.06-.94L8.5 2.5l-.94 2.06-2.06.94zm10 10l.94 2.06.94-2.06 2.06-.94-2.06-.94-.94-2.06-.94 2.06-2.06.94z\"/><path d=\"M17.41 7.96l-1.37-1.37c-.4-.4-.92-.59-1.43-.59-.52 0-1.04.2-1.43.59L10.3 9.45l-7.72 7.72c-.78.78-.78 2.05 0 2.83L4 21.41c.39.39.9.59 1.41.59.51 0 1.02-.2 1.41-.59l7.78-7.78 2.81-2.81c.8-.78.8-2.07 0-2.86zM5.41 20L4 18.59l7.72-7.72 1.47 1.35L5.41 20z\"/>\n",
              "  </svg>\n",
              "      </button>\n",
              "      \n",
              "  <style>\n",
              "    .colab-df-container {\n",
              "      display:flex;\n",
              "      flex-wrap:wrap;\n",
              "      gap: 12px;\n",
              "    }\n",
              "\n",
              "    .colab-df-convert {\n",
              "      background-color: #E8F0FE;\n",
              "      border: none;\n",
              "      border-radius: 50%;\n",
              "      cursor: pointer;\n",
              "      display: none;\n",
              "      fill: #1967D2;\n",
              "      height: 32px;\n",
              "      padding: 0 0 0 0;\n",
              "      width: 32px;\n",
              "    }\n",
              "\n",
              "    .colab-df-convert:hover {\n",
              "      background-color: #E2EBFA;\n",
              "      box-shadow: 0px 1px 2px rgba(60, 64, 67, 0.3), 0px 1px 3px 1px rgba(60, 64, 67, 0.15);\n",
              "      fill: #174EA6;\n",
              "    }\n",
              "\n",
              "    [theme=dark] .colab-df-convert {\n",
              "      background-color: #3B4455;\n",
              "      fill: #D2E3FC;\n",
              "    }\n",
              "\n",
              "    [theme=dark] .colab-df-convert:hover {\n",
              "      background-color: #434B5C;\n",
              "      box-shadow: 0px 1px 3px 1px rgba(0, 0, 0, 0.15);\n",
              "      filter: drop-shadow(0px 1px 2px rgba(0, 0, 0, 0.3));\n",
              "      fill: #FFFFFF;\n",
              "    }\n",
              "  </style>\n",
              "\n",
              "      <script>\n",
              "        const buttonEl =\n",
              "          document.querySelector('#df-01132c17-175a-42d7-b3a8-539f0a0d3a9f button.colab-df-convert');\n",
              "        buttonEl.style.display =\n",
              "          google.colab.kernel.accessAllowed ? 'block' : 'none';\n",
              "\n",
              "        async function convertToInteractive(key) {\n",
              "          const element = document.querySelector('#df-01132c17-175a-42d7-b3a8-539f0a0d3a9f');\n",
              "          const dataTable =\n",
              "            await google.colab.kernel.invokeFunction('convertToInteractive',\n",
              "                                                     [key], {});\n",
              "          if (!dataTable) return;\n",
              "\n",
              "          const docLinkHtml = 'Like what you see? Visit the ' +\n",
              "            '<a target=\"_blank\" href=https://colab.research.google.com/notebooks/data_table.ipynb>data table notebook</a>'\n",
              "            + ' to learn more about interactive tables.';\n",
              "          element.innerHTML = '';\n",
              "          dataTable['output_type'] = 'display_data';\n",
              "          await google.colab.output.renderOutput(dataTable, element);\n",
              "          const docLink = document.createElement('div');\n",
              "          docLink.innerHTML = docLinkHtml;\n",
              "          element.appendChild(docLink);\n",
              "        }\n",
              "      </script>\n",
              "    </div>\n",
              "  </div>\n",
              "  "
            ],
            "text/plain": [
              "         ISBN                                        description\n",
              "0  0451407423  hightech submarine thriller follows Admiral Mi...\n",
              "1  0373290284  Flower Sword Jacqueline Navin released Jul 24 ...\n",
              "2  0671423886  latefifteenthcentury Spain indomitable passion...\n",
              "3  082176618X  Mountain man Smoke Jensen comes aid sharpshoot...\n",
              "4  0380789108  Stephanie promises help ghost new homes former..."
            ]
          },
          "execution_count": 196,
          "metadata": {},
          "output_type": "execute_result"
        }
      ],
      "source": [
        "df_descriptions.head()"
      ]
    },
    {
      "cell_type": "code",
      "execution_count": null,
      "metadata": {
        "colab": {
          "base_uri": "https://localhost:8080/"
        },
        "id": "QDfSGg3QqIfi",
        "outputId": "415a8a6c-ab7c-40d7-b93f-49fff6fbe9b1"
      },
      "outputs": [
        {
          "name": "stderr",
          "output_type": "stream",
          "text": [
            "[nltk_data] Downloading package wordnet to /root/nltk_data...\n"
          ]
        }
      ],
      "source": [
        "nltk.download('wordnet')\n",
        "# Create WordNetLemmatizer object\n",
        "wnl = WordNetLemmatizer()\n",
        "\n",
        "def lemma(text):    \n",
        "    '''a function which stems each word in the given text'''\n",
        "    text = [wnl.lemmatize(word) for word in text.split()]\n",
        "    return \" \".join(text)"
      ]
    },
    {
      "cell_type": "code",
      "execution_count": null,
      "metadata": {
        "colab": {
          "base_uri": "https://localhost:8080/"
        },
        "id": "6GPoYDRHgGkZ",
        "outputId": "b5ae62ca-885f-4023-a4fe-e90e866c4ec7"
      },
      "outputs": [
        {
          "name": "stderr",
          "output_type": "stream",
          "text": [
            "[nltk_data] Downloading package omw-1.4 to /root/nltk_data...\n"
          ]
        },
        {
          "data": {
            "text/plain": [
              "True"
            ]
          },
          "execution_count": 198,
          "metadata": {},
          "output_type": "execute_result"
        }
      ],
      "source": [
        "import nltk\n",
        "nltk.download('omw-1.4')\n",
        "  "
      ]
    },
    {
      "cell_type": "code",
      "execution_count": null,
      "metadata": {
        "id": "U2vDZRBnq02X"
      },
      "outputs": [],
      "source": [
        "df_descriptions['description'] = df_descriptions['description'].apply(lemma)"
      ]
    },
    {
      "cell_type": "markdown",
      "metadata": {
        "id": "BEKEO3BkrvID"
      },
      "source": [
        "### c) Vectorizing The Data"
      ]
    },
    {
      "cell_type": "code",
      "execution_count": null,
      "metadata": {
        "colab": {
          "base_uri": "https://localhost:8080/"
        },
        "id": "mMc-1SeSrxrY",
        "outputId": "f619cffe-2f20-43a1-c8ea-a608737001d3"
      },
      "outputs": [
        {
          "data": {
            "text/plain": [
              "<7021x6443 sparse matrix of type '<class 'numpy.float64'>'\n",
              "\twith 152705 stored elements in Compressed Sparse Row format>"
            ]
          },
          "execution_count": 209,
          "metadata": {},
          "output_type": "execute_result"
        }
      ],
      "source": [
        "tfidf = TfidfVectorizer(min_df=5)\n",
        "tfidf_mat = tfidf.fit_transform(df_descriptions['description'])\n",
        "tfidf_mat"
      ]
    },
    {
      "cell_type": "code",
      "execution_count": null,
      "metadata": {
        "id": "NFd1WpgLwVMm"
      },
      "outputs": [],
      "source": [
        "# Change chunk_size to control resource consumption and speed\n",
        "# Higher chunk_size means more memory/RAM needed but also faster \n",
        "chunk_size = 500 \n",
        "matrix_len = tfidf_mat.shape[0] # Not sparse numpy.ndarray\n",
        "\n",
        "def similarity_cosine_by_chunk(start, end):\n",
        "    if end > matrix_len:\n",
        "        end = matrix_len\n",
        "    return cosine_similarity(X=tfidf_mat[start:end], Y=tfidf_mat) # scikit-learn function\n",
        "\n",
        "for chunk_start in range(0, matrix_len, chunk_size):\n",
        "    cosine_similarity_chunk = similarity_cosine_by_chunk(chunk_start, chunk_start+chunk_size)\n",
        "    # Handle cosine_similarity_chunk  ( Write it to file_timestamp and close the file )\n",
        "    # Do not open the same file again or you may end up with out of memory after few chunks "
      ]
    },
    {
      "cell_type": "code",
      "execution_count": null,
      "metadata": {
        "id": "diU3uXv33ilr"
      },
      "outputs": [],
      "source": [
        "cosine_similarity_chunk = cosine_similarity_chunk.transpose()\n",
        "indices = pd.Series(df_descriptions['ISBN'])"
      ]
    },
    {
      "cell_type": "code",
      "execution_count": null,
      "metadata": {
        "id": "BMZNW3tv3-gN"
      },
      "outputs": [],
      "source": [
        "def recommendations(ISBN,cosine_sim = cosine_similarity_chunk ):\n",
        "  try:\n",
        "    index = indices[indices == ISBN].index[0]\n",
        "    similarity_scores = pd.Series(cosine_similarity_chunk[index]).sort_values(ascending=False)\n",
        "    top_10_books = list(similarity_scores.iloc[1:11].index)\n",
        "    recommended_books_ISBN = [df_tf[df_tf['ISBN']==df_descriptions.iloc[list(df_descriptions.index)[i]]['ISBN']]['Book-Title'].to_list()[0] for i in top_10_books]\n",
        "    return recommended_books_ISBN\n",
        "\n",
        "  except:\n",
        "    print('The Book Is not Indexed')"
      ]
    },
    {
      "cell_type": "code",
      "execution_count": null,
      "metadata": {
        "colab": {
          "base_uri": "https://localhost:8080/",
          "height": 131
        },
        "id": "KlGZbgFqBzpB",
        "outputId": "12de1fcc-1f46-46e1-bbaa-447c056e06fe"
      },
      "outputs": [
        {
          "data": {
            "text/html": [
              "\n",
              "  <div id=\"df-9f4fa5e0-5dcd-4ce7-9e30-4368891194c5\">\n",
              "    <div class=\"colab-df-container\">\n",
              "      <div>\n",
              "<style scoped>\n",
              "    .dataframe tbody tr th:only-of-type {\n",
              "        vertical-align: middle;\n",
              "    }\n",
              "\n",
              "    .dataframe tbody tr th {\n",
              "        vertical-align: top;\n",
              "    }\n",
              "\n",
              "    .dataframe thead th {\n",
              "        text-align: right;\n",
              "    }\n",
              "</style>\n",
              "<table border=\"1\" class=\"dataframe\">\n",
              "  <thead>\n",
              "    <tr style=\"text-align: right;\">\n",
              "      <th></th>\n",
              "      <th>User-ID</th>\n",
              "      <th>ISBN</th>\n",
              "      <th>Book-Rating</th>\n",
              "      <th>Book-Title</th>\n",
              "      <th>Book-Author</th>\n",
              "      <th>Year-Of-Publication</th>\n",
              "      <th>Publisher</th>\n",
              "      <th>new_title</th>\n",
              "      <th>Location</th>\n",
              "      <th>Age</th>\n",
              "      <th>Title-Length</th>\n",
              "      <th>age_bins</th>\n",
              "      <th>Rating-Count</th>\n",
              "      <th>Rating-Mean</th>\n",
              "      <th>description</th>\n",
              "    </tr>\n",
              "  </thead>\n",
              "  <tbody>\n",
              "  </tbody>\n",
              "</table>\n",
              "</div>\n",
              "      <button class=\"colab-df-convert\" onclick=\"convertToInteractive('df-9f4fa5e0-5dcd-4ce7-9e30-4368891194c5')\"\n",
              "              title=\"Convert this dataframe to an interactive table.\"\n",
              "              style=\"display:none;\">\n",
              "        \n",
              "  <svg xmlns=\"http://www.w3.org/2000/svg\" height=\"24px\"viewBox=\"0 0 24 24\"\n",
              "       width=\"24px\">\n",
              "    <path d=\"M0 0h24v24H0V0z\" fill=\"none\"/>\n",
              "    <path d=\"M18.56 5.44l.94 2.06.94-2.06 2.06-.94-2.06-.94-.94-2.06-.94 2.06-2.06.94zm-11 1L8.5 8.5l.94-2.06 2.06-.94-2.06-.94L8.5 2.5l-.94 2.06-2.06.94zm10 10l.94 2.06.94-2.06 2.06-.94-2.06-.94-.94-2.06-.94 2.06-2.06.94z\"/><path d=\"M17.41 7.96l-1.37-1.37c-.4-.4-.92-.59-1.43-.59-.52 0-1.04.2-1.43.59L10.3 9.45l-7.72 7.72c-.78.78-.78 2.05 0 2.83L4 21.41c.39.39.9.59 1.41.59.51 0 1.02-.2 1.41-.59l7.78-7.78 2.81-2.81c.8-.78.8-2.07 0-2.86zM5.41 20L4 18.59l7.72-7.72 1.47 1.35L5.41 20z\"/>\n",
              "  </svg>\n",
              "      </button>\n",
              "      \n",
              "  <style>\n",
              "    .colab-df-container {\n",
              "      display:flex;\n",
              "      flex-wrap:wrap;\n",
              "      gap: 12px;\n",
              "    }\n",
              "\n",
              "    .colab-df-convert {\n",
              "      background-color: #E8F0FE;\n",
              "      border: none;\n",
              "      border-radius: 50%;\n",
              "      cursor: pointer;\n",
              "      display: none;\n",
              "      fill: #1967D2;\n",
              "      height: 32px;\n",
              "      padding: 0 0 0 0;\n",
              "      width: 32px;\n",
              "    }\n",
              "\n",
              "    .colab-df-convert:hover {\n",
              "      background-color: #E2EBFA;\n",
              "      box-shadow: 0px 1px 2px rgba(60, 64, 67, 0.3), 0px 1px 3px 1px rgba(60, 64, 67, 0.15);\n",
              "      fill: #174EA6;\n",
              "    }\n",
              "\n",
              "    [theme=dark] .colab-df-convert {\n",
              "      background-color: #3B4455;\n",
              "      fill: #D2E3FC;\n",
              "    }\n",
              "\n",
              "    [theme=dark] .colab-df-convert:hover {\n",
              "      background-color: #434B5C;\n",
              "      box-shadow: 0px 1px 3px 1px rgba(0, 0, 0, 0.15);\n",
              "      filter: drop-shadow(0px 1px 2px rgba(0, 0, 0, 0.3));\n",
              "      fill: #FFFFFF;\n",
              "    }\n",
              "  </style>\n",
              "\n",
              "      <script>\n",
              "        const buttonEl =\n",
              "          document.querySelector('#df-9f4fa5e0-5dcd-4ce7-9e30-4368891194c5 button.colab-df-convert');\n",
              "        buttonEl.style.display =\n",
              "          google.colab.kernel.accessAllowed ? 'block' : 'none';\n",
              "\n",
              "        async function convertToInteractive(key) {\n",
              "          const element = document.querySelector('#df-9f4fa5e0-5dcd-4ce7-9e30-4368891194c5');\n",
              "          const dataTable =\n",
              "            await google.colab.kernel.invokeFunction('convertToInteractive',\n",
              "                                                     [key], {});\n",
              "          if (!dataTable) return;\n",
              "\n",
              "          const docLinkHtml = 'Like what you see? Visit the ' +\n",
              "            '<a target=\"_blank\" href=https://colab.research.google.com/notebooks/data_table.ipynb>data table notebook</a>'\n",
              "            + ' to learn more about interactive tables.';\n",
              "          element.innerHTML = '';\n",
              "          dataTable['output_type'] = 'display_data';\n",
              "          await google.colab.output.renderOutput(dataTable, element);\n",
              "          const docLink = document.createElement('div');\n",
              "          docLink.innerHTML = docLinkHtml;\n",
              "          element.appendChild(docLink);\n",
              "        }\n",
              "      </script>\n",
              "    </div>\n",
              "  </div>\n",
              "  "
            ],
            "text/plain": [
              "Empty DataFrame\n",
              "Columns: [User-ID, ISBN, Book-Rating, Book-Title, Book-Author, Year-Of-Publication, Publisher, new_title, Location, Age, Title-Length, age_bins, Rating-Count, Rating-Mean, description]\n",
              "Index: []"
            ]
          },
          "execution_count": 204,
          "metadata": {},
          "output_type": "execute_result"
        }
      ],
      "source": [
        "df_tf[df_tf['Book-Title']==\"Miss Julia Takes over\"].head()"
      ]
    },
    {
      "cell_type": "code",
      "execution_count": null,
      "metadata": {
        "colab": {
          "base_uri": "https://localhost:8080/",
          "height": 1000
        },
        "id": "7I-QTiL7gsPa",
        "outputId": "797fdfbb-b04c-43a0-c747-1650376077da"
      },
      "outputs": [
        {
          "data": {
            "text/html": [
              "\n",
              "  <div id=\"df-0c459248-15c9-4eca-a464-cbe0b8ba8ec4\">\n",
              "    <div class=\"colab-df-container\">\n",
              "      <div>\n",
              "<style scoped>\n",
              "    .dataframe tbody tr th:only-of-type {\n",
              "        vertical-align: middle;\n",
              "    }\n",
              "\n",
              "    .dataframe tbody tr th {\n",
              "        vertical-align: top;\n",
              "    }\n",
              "\n",
              "    .dataframe thead th {\n",
              "        text-align: right;\n",
              "    }\n",
              "</style>\n",
              "<table border=\"1\" class=\"dataframe\">\n",
              "  <thead>\n",
              "    <tr style=\"text-align: right;\">\n",
              "      <th></th>\n",
              "      <th>User-ID</th>\n",
              "      <th>ISBN</th>\n",
              "      <th>Book-Rating</th>\n",
              "      <th>Book-Title</th>\n",
              "      <th>Book-Author</th>\n",
              "      <th>Year-Of-Publication</th>\n",
              "      <th>Publisher</th>\n",
              "      <th>new_title</th>\n",
              "      <th>Location</th>\n",
              "      <th>Age</th>\n",
              "      <th>Title-Length</th>\n",
              "      <th>age_bins</th>\n",
              "      <th>Rating-Count</th>\n",
              "      <th>Rating-Mean</th>\n",
              "      <th>description</th>\n",
              "    </tr>\n",
              "  </thead>\n",
              "  <tbody>\n",
              "    <tr>\n",
              "      <th>0</th>\n",
              "      <td>77940</td>\n",
              "      <td>0553572490</td>\n",
              "      <td>0</td>\n",
              "      <td>Vice</td>\n",
              "      <td>Jane Feather</td>\n",
              "      <td>1996</td>\n",
              "      <td>Bantam</td>\n",
              "      <td>Vice by Jane Feather</td>\n",
              "      <td>malaysia</td>\n",
              "      <td>43</td>\n",
              "      <td>4</td>\n",
              "      <td>NaN</td>\n",
              "      <td>17</td>\n",
              "      <td>3.12</td>\n",
              "      <td>On the run since accidentally killing her elde...</td>\n",
              "    </tr>\n",
              "    <tr>\n",
              "      <th>1</th>\n",
              "      <td>212898</td>\n",
              "      <td>0553572490</td>\n",
              "      <td>0</td>\n",
              "      <td>Vice</td>\n",
              "      <td>Jane Feather</td>\n",
              "      <td>1996</td>\n",
              "      <td>Bantam</td>\n",
              "      <td>Vice by Jane Feather</td>\n",
              "      <td>canada</td>\n",
              "      <td>30</td>\n",
              "      <td>4</td>\n",
              "      <td>NaN</td>\n",
              "      <td>17</td>\n",
              "      <td>3.12</td>\n",
              "      <td>On the run since accidentally killing her elde...</td>\n",
              "    </tr>\n",
              "    <tr>\n",
              "      <th>2</th>\n",
              "      <td>242824</td>\n",
              "      <td>0553572490</td>\n",
              "      <td>0</td>\n",
              "      <td>Vice</td>\n",
              "      <td>Jane Feather</td>\n",
              "      <td>1996</td>\n",
              "      <td>Bantam</td>\n",
              "      <td>Vice by Jane Feather</td>\n",
              "      <td>usa</td>\n",
              "      <td>21</td>\n",
              "      <td>4</td>\n",
              "      <td>Adult</td>\n",
              "      <td>17</td>\n",
              "      <td>3.12</td>\n",
              "      <td>On the run since accidentally killing her elde...</td>\n",
              "    </tr>\n",
              "    <tr>\n",
              "      <th>3</th>\n",
              "      <td>26544</td>\n",
              "      <td>0553572490</td>\n",
              "      <td>0</td>\n",
              "      <td>Vice</td>\n",
              "      <td>Jane Feather</td>\n",
              "      <td>1996</td>\n",
              "      <td>Bantam</td>\n",
              "      <td>Vice by Jane Feather</td>\n",
              "      <td>usa</td>\n",
              "      <td>37</td>\n",
              "      <td>4</td>\n",
              "      <td>Adult</td>\n",
              "      <td>17</td>\n",
              "      <td>3.12</td>\n",
              "      <td>On the run since accidentally killing her elde...</td>\n",
              "    </tr>\n",
              "    <tr>\n",
              "      <th>4</th>\n",
              "      <td>101209</td>\n",
              "      <td>0553572490</td>\n",
              "      <td>0</td>\n",
              "      <td>Vice</td>\n",
              "      <td>Jane Feather</td>\n",
              "      <td>1996</td>\n",
              "      <td>Bantam</td>\n",
              "      <td>Vice by Jane Feather</td>\n",
              "      <td>usa</td>\n",
              "      <td>44</td>\n",
              "      <td>4</td>\n",
              "      <td>Adult</td>\n",
              "      <td>17</td>\n",
              "      <td>3.12</td>\n",
              "      <td>On the run since accidentally killing her elde...</td>\n",
              "    </tr>\n",
              "    <tr>\n",
              "      <th>...</th>\n",
              "      <td>...</td>\n",
              "      <td>...</td>\n",
              "      <td>...</td>\n",
              "      <td>...</td>\n",
              "      <td>...</td>\n",
              "      <td>...</td>\n",
              "      <td>...</td>\n",
              "      <td>...</td>\n",
              "      <td>...</td>\n",
              "      <td>...</td>\n",
              "      <td>...</td>\n",
              "      <td>...</td>\n",
              "      <td>...</td>\n",
              "      <td>...</td>\n",
              "      <td>...</td>\n",
              "    </tr>\n",
              "    <tr>\n",
              "      <th>20073</th>\n",
              "      <td>267179</td>\n",
              "      <td>0749322179</td>\n",
              "      <td>0</td>\n",
              "      <td>Angels Weep</td>\n",
              "      <td>Wilbur A. Smith</td>\n",
              "      <td>1995</td>\n",
              "      <td>Reed International Books</td>\n",
              "      <td>Angels Weep by Wilbur A. Smith</td>\n",
              "      <td>australia</td>\n",
              "      <td>36</td>\n",
              "      <td>11</td>\n",
              "      <td>NaN</td>\n",
              "      <td>1</td>\n",
              "      <td>0.00</td>\n",
              "      <td>At the dawn of a new century, an adventurer an...</td>\n",
              "    </tr>\n",
              "    <tr>\n",
              "      <th>20074</th>\n",
              "      <td>270442</td>\n",
              "      <td>0395634148</td>\n",
              "      <td>0</td>\n",
              "      <td>Alma: A Novel</td>\n",
              "      <td>Gordon Burn</td>\n",
              "      <td>1992</td>\n",
              "      <td>Houghton Mifflin</td>\n",
              "      <td>Alma: A Novel by Gordon Burn</td>\n",
              "      <td>usa</td>\n",
              "      <td>44</td>\n",
              "      <td>13</td>\n",
              "      <td>NaN</td>\n",
              "      <td>1</td>\n",
              "      <td>0.00</td>\n",
              "      <td>Alma Cogan, one of Britain's biggest pop stars...</td>\n",
              "    </tr>\n",
              "    <tr>\n",
              "      <th>20075</th>\n",
              "      <td>271026</td>\n",
              "      <td>0538706171</td>\n",
              "      <td>0</td>\n",
              "      <td>Passport : An Introduction to Travel and Tourism</td>\n",
              "      <td>Howell</td>\n",
              "      <td>1992</td>\n",
              "      <td>Delmar Learning</td>\n",
              "      <td>Passport : An Introduction to Travel and Touri...</td>\n",
              "      <td>singapore</td>\n",
              "      <td>23</td>\n",
              "      <td>48</td>\n",
              "      <td>NaN</td>\n",
              "      <td>1</td>\n",
              "      <td>0.00</td>\n",
              "      <td>Passport: An Introduction to Travel and Touris...</td>\n",
              "    </tr>\n",
              "    <tr>\n",
              "      <th>20076</th>\n",
              "      <td>272470</td>\n",
              "      <td>071800051X</td>\n",
              "      <td>0</td>\n",
              "      <td>He Did This Just For You New Testament With Re...</td>\n",
              "      <td>Max Lucado</td>\n",
              "      <td>2001</td>\n",
              "      <td>Nelson Bibles</td>\n",
              "      <td>He Did This Just For You New Testament With Re...</td>\n",
              "      <td>usa</td>\n",
              "      <td>29</td>\n",
              "      <td>71</td>\n",
              "      <td>Adult</td>\n",
              "      <td>1</td>\n",
              "      <td>0.00</td>\n",
              "      <td>4-page article by Max Lucado reviews the plan ...</td>\n",
              "    </tr>\n",
              "    <tr>\n",
              "      <th>20077</th>\n",
              "      <td>275350</td>\n",
              "      <td>2211021662</td>\n",
              "      <td>0</td>\n",
              "      <td>Le Passeur</td>\n",
              "      <td>Lois Lowry</td>\n",
              "      <td>2002</td>\n",
              "      <td>Distribooks Inc</td>\n",
              "      <td>Le Passeur by Lois Lowry</td>\n",
              "      <td>france</td>\n",
              "      <td>21</td>\n",
              "      <td>10</td>\n",
              "      <td>Adult</td>\n",
              "      <td>1</td>\n",
              "      <td>0.00</td>\n",
              "      <td>Dans le monde où vit Jonas, les inégalités n'e...</td>\n",
              "    </tr>\n",
              "  </tbody>\n",
              "</table>\n",
              "<p>20078 rows × 15 columns</p>\n",
              "</div>\n",
              "      <button class=\"colab-df-convert\" onclick=\"convertToInteractive('df-0c459248-15c9-4eca-a464-cbe0b8ba8ec4')\"\n",
              "              title=\"Convert this dataframe to an interactive table.\"\n",
              "              style=\"display:none;\">\n",
              "        \n",
              "  <svg xmlns=\"http://www.w3.org/2000/svg\" height=\"24px\"viewBox=\"0 0 24 24\"\n",
              "       width=\"24px\">\n",
              "    <path d=\"M0 0h24v24H0V0z\" fill=\"none\"/>\n",
              "    <path d=\"M18.56 5.44l.94 2.06.94-2.06 2.06-.94-2.06-.94-.94-2.06-.94 2.06-2.06.94zm-11 1L8.5 8.5l.94-2.06 2.06-.94-2.06-.94L8.5 2.5l-.94 2.06-2.06.94zm10 10l.94 2.06.94-2.06 2.06-.94-2.06-.94-.94-2.06-.94 2.06-2.06.94z\"/><path d=\"M17.41 7.96l-1.37-1.37c-.4-.4-.92-.59-1.43-.59-.52 0-1.04.2-1.43.59L10.3 9.45l-7.72 7.72c-.78.78-.78 2.05 0 2.83L4 21.41c.39.39.9.59 1.41.59.51 0 1.02-.2 1.41-.59l7.78-7.78 2.81-2.81c.8-.78.8-2.07 0-2.86zM5.41 20L4 18.59l7.72-7.72 1.47 1.35L5.41 20z\"/>\n",
              "  </svg>\n",
              "      </button>\n",
              "      \n",
              "  <style>\n",
              "    .colab-df-container {\n",
              "      display:flex;\n",
              "      flex-wrap:wrap;\n",
              "      gap: 12px;\n",
              "    }\n",
              "\n",
              "    .colab-df-convert {\n",
              "      background-color: #E8F0FE;\n",
              "      border: none;\n",
              "      border-radius: 50%;\n",
              "      cursor: pointer;\n",
              "      display: none;\n",
              "      fill: #1967D2;\n",
              "      height: 32px;\n",
              "      padding: 0 0 0 0;\n",
              "      width: 32px;\n",
              "    }\n",
              "\n",
              "    .colab-df-convert:hover {\n",
              "      background-color: #E2EBFA;\n",
              "      box-shadow: 0px 1px 2px rgba(60, 64, 67, 0.3), 0px 1px 3px 1px rgba(60, 64, 67, 0.15);\n",
              "      fill: #174EA6;\n",
              "    }\n",
              "\n",
              "    [theme=dark] .colab-df-convert {\n",
              "      background-color: #3B4455;\n",
              "      fill: #D2E3FC;\n",
              "    }\n",
              "\n",
              "    [theme=dark] .colab-df-convert:hover {\n",
              "      background-color: #434B5C;\n",
              "      box-shadow: 0px 1px 3px 1px rgba(0, 0, 0, 0.15);\n",
              "      filter: drop-shadow(0px 1px 2px rgba(0, 0, 0, 0.3));\n",
              "      fill: #FFFFFF;\n",
              "    }\n",
              "  </style>\n",
              "\n",
              "      <script>\n",
              "        const buttonEl =\n",
              "          document.querySelector('#df-0c459248-15c9-4eca-a464-cbe0b8ba8ec4 button.colab-df-convert');\n",
              "        buttonEl.style.display =\n",
              "          google.colab.kernel.accessAllowed ? 'block' : 'none';\n",
              "\n",
              "        async function convertToInteractive(key) {\n",
              "          const element = document.querySelector('#df-0c459248-15c9-4eca-a464-cbe0b8ba8ec4');\n",
              "          const dataTable =\n",
              "            await google.colab.kernel.invokeFunction('convertToInteractive',\n",
              "                                                     [key], {});\n",
              "          if (!dataTable) return;\n",
              "\n",
              "          const docLinkHtml = 'Like what you see? Visit the ' +\n",
              "            '<a target=\"_blank\" href=https://colab.research.google.com/notebooks/data_table.ipynb>data table notebook</a>'\n",
              "            + ' to learn more about interactive tables.';\n",
              "          element.innerHTML = '';\n",
              "          dataTable['output_type'] = 'display_data';\n",
              "          await google.colab.output.renderOutput(dataTable, element);\n",
              "          const docLink = document.createElement('div');\n",
              "          docLink.innerHTML = docLinkHtml;\n",
              "          element.appendChild(docLink);\n",
              "        }\n",
              "      </script>\n",
              "    </div>\n",
              "  </div>\n",
              "  "
            ],
            "text/plain": [
              "       User-ID        ISBN  Book-Rating  \\\n",
              "0        77940  0553572490            0   \n",
              "1       212898  0553572490            0   \n",
              "2       242824  0553572490            0   \n",
              "3        26544  0553572490            0   \n",
              "4       101209  0553572490            0   \n",
              "...        ...         ...          ...   \n",
              "20073   267179  0749322179            0   \n",
              "20074   270442  0395634148            0   \n",
              "20075   271026  0538706171            0   \n",
              "20076   272470  071800051X            0   \n",
              "20077   275350  2211021662            0   \n",
              "\n",
              "                                              Book-Title      Book-Author  \\\n",
              "0                                                   Vice     Jane Feather   \n",
              "1                                                   Vice     Jane Feather   \n",
              "2                                                   Vice     Jane Feather   \n",
              "3                                                   Vice     Jane Feather   \n",
              "4                                                   Vice     Jane Feather   \n",
              "...                                                  ...              ...   \n",
              "20073                                        Angels Weep  Wilbur A. Smith   \n",
              "20074                                      Alma: A Novel      Gordon Burn   \n",
              "20075   Passport : An Introduction to Travel and Tourism           Howell   \n",
              "20076  He Did This Just For You New Testament With Re...       Max Lucado   \n",
              "20077                                         Le Passeur       Lois Lowry   \n",
              "\n",
              "       Year-Of-Publication                 Publisher  \\\n",
              "0                     1996                    Bantam   \n",
              "1                     1996                    Bantam   \n",
              "2                     1996                    Bantam   \n",
              "3                     1996                    Bantam   \n",
              "4                     1996                    Bantam   \n",
              "...                    ...                       ...   \n",
              "20073                 1995  Reed International Books   \n",
              "20074                 1992          Houghton Mifflin   \n",
              "20075                 1992           Delmar Learning   \n",
              "20076                 2001             Nelson Bibles   \n",
              "20077                 2002           Distribooks Inc   \n",
              "\n",
              "                                               new_title    Location  Age  \\\n",
              "0                                   Vice by Jane Feather    malaysia   43   \n",
              "1                                   Vice by Jane Feather      canada   30   \n",
              "2                                   Vice by Jane Feather         usa   21   \n",
              "3                                   Vice by Jane Feather         usa   37   \n",
              "4                                   Vice by Jane Feather         usa   44   \n",
              "...                                                  ...         ...  ...   \n",
              "20073                     Angels Weep by Wilbur A. Smith   australia   36   \n",
              "20074                       Alma: A Novel by Gordon Burn         usa   44   \n",
              "20075  Passport : An Introduction to Travel and Touri...   singapore   23   \n",
              "20076  He Did This Just For You New Testament With Re...         usa   29   \n",
              "20077                           Le Passeur by Lois Lowry      france   21   \n",
              "\n",
              "       Title-Length age_bins  Rating-Count  Rating-Mean  \\\n",
              "0                 4      NaN            17         3.12   \n",
              "1                 4      NaN            17         3.12   \n",
              "2                 4    Adult            17         3.12   \n",
              "3                 4    Adult            17         3.12   \n",
              "4                 4    Adult            17         3.12   \n",
              "...             ...      ...           ...          ...   \n",
              "20073            11      NaN             1         0.00   \n",
              "20074            13      NaN             1         0.00   \n",
              "20075            48      NaN             1         0.00   \n",
              "20076            71    Adult             1         0.00   \n",
              "20077            10    Adult             1         0.00   \n",
              "\n",
              "                                             description  \n",
              "0      On the run since accidentally killing her elde...  \n",
              "1      On the run since accidentally killing her elde...  \n",
              "2      On the run since accidentally killing her elde...  \n",
              "3      On the run since accidentally killing her elde...  \n",
              "4      On the run since accidentally killing her elde...  \n",
              "...                                                  ...  \n",
              "20073  At the dawn of a new century, an adventurer an...  \n",
              "20074  Alma Cogan, one of Britain's biggest pop stars...  \n",
              "20075  Passport: An Introduction to Travel and Touris...  \n",
              "20076  4-page article by Max Lucado reviews the plan ...  \n",
              "20077  Dans le monde où vit Jonas, les inégalités n'e...  \n",
              "\n",
              "[20078 rows x 15 columns]"
            ]
          },
          "execution_count": 205,
          "metadata": {},
          "output_type": "execute_result"
        }
      ],
      "source": [
        "df_tf"
      ]
    },
    {
      "cell_type": "markdown",
      "metadata": {
        "id": "3_0NGvKYBzpC"
      },
      "source": [
        "* ## For a user, say **User-ID: 6543** who has bought **Miss Julia Takes over)** and has left no rating, based on the content of this book, we can recommend the following titles."
      ]
    },
    {
      "cell_type": "code",
      "execution_count": null,
      "metadata": {
        "colab": {
          "base_uri": "https://localhost:8080/"
        },
        "id": "9JNmewmr6Yc-",
        "outputId": "b1149f37-5fbe-4c63-888a-d99a94945238"
      },
      "outputs": [
        {
          "data": {
            "text/plain": [
              "['Waltz in Time (An Avon Romantic Treasure)',\n",
              " 'Pressure Points',\n",
              " 'Dead Duck (Sam and Hollis Mystery)',\n",
              " 'Burn Factor',\n",
              " 'MARRANOS',\n",
              " '21st Century Guide to Increasing Your Reading Speed (21st Century Reference)',\n",
              " 'Barracuda Final Bearing',\n",
              " 'In the Midnight Hour (Haunting Hearts)',\n",
              " \"The Year's Best Horror Stories: Series XIV\",\n",
              " 'Most Wanted']"
            ]
          },
          "execution_count": 206,
          "metadata": {},
          "output_type": "execute_result"
        }
      ],
      "source": [
        "#Recommendations based on -> 0749322179: Died in the Wool\n",
        "recommendations('0749322179')   "
      ]
    },
    {
      "cell_type": "code",
      "execution_count": null,
      "metadata": {
        "colab": {
          "base_uri": "https://localhost:8080/"
        },
        "id": "qsu1vDefhq2E",
        "outputId": "d2eafa52-4924-4cc2-fa2d-30e2695004d8"
      },
      "outputs": [
        {
          "data": {
            "text/plain": [
              "['Sleep My Child, Forever (Onyx True Crime)',\n",
              " 'M. C. Higgins, the Great',\n",
              " 'Burn Factor',\n",
              " 'Dead Duck (Sam and Hollis Mystery)',\n",
              " \"The Year's Best Horror Stories: Series XIV\",\n",
              " 'Roofworld',\n",
              " 'Pressure Points',\n",
              " 'Most Wanted',\n",
              " 'High - Society Bachelor (Harlequin American Romance, No. 908)',\n",
              " 'In the Midnight Hour (Haunting Hearts)']"
            ]
          },
          "execution_count": 207,
          "metadata": {},
          "output_type": "execute_result"
        }
      ],
      "source": [
        "#Recommendations based on ->0142000892: Miss Julia Takes over\n",
        "recommendations('2211021662') "
      ]
    },
    {
      "cell_type": "code",
      "execution_count": null,
      "metadata": {
        "colab": {
          "base_uri": "https://localhost:8080/"
        },
        "id": "_K3B-teoBzpD",
        "outputId": "7da74aeb-cc8b-4c32-936c-9599ebcf9edc"
      },
      "outputs": [
        {
          "data": {
            "text/plain": [
              "['Burn Factor',\n",
              " 'Dead Duck (Sam and Hollis Mystery)',\n",
              " \"The Year's Best Horror Stories: Series XIV\",\n",
              " 'Pressure Points',\n",
              " 'Most Wanted',\n",
              " 'In the Midnight Hour (Haunting Hearts)']"
            ]
          },
          "execution_count": 208,
          "metadata": {},
          "output_type": "execute_result"
        }
      ],
      "source": [
        "#Similar Recommendations:\n",
        "[i for i in recommendations('2211021662')  if i in recommendations('0749322179')]"
      ]
    }
  ],
  "metadata": {
    "colab": {
      "provenance": [],
      "toc_visible": true
    },
    "kernelspec": {
      "display_name": "Python 3",
      "name": "python3"
    },
    "language_info": {
      "name": "python"
    }
  },
  "nbformat": 4,
  "nbformat_minor": 0
}